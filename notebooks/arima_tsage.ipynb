{
 "cells": [
  {
   "cell_type": "code",
   "execution_count": 2,
   "id": "fcad66d2-5c14-4fa1-b05c-698b1a5aec80",
   "metadata": {},
   "outputs": [
    {
     "name": "stdout",
     "output_type": "stream",
     "text": [
      "DATA_DIR is existant under: C:\\Users\\LukasGrahl\\Documents\\GIT\\bayes_filter\\data\n"
     ]
    }
   ],
   "source": [
    "%run init_notebookspace.py"
   ]
  },
  {
   "cell_type": "code",
   "execution_count": 3,
   "id": "f2bfe0d4-bc36-4ae8-aa5e-90c5941900a4",
   "metadata": {},
   "outputs": [],
   "source": [
    "import pandas as pd\n",
    "import numpy as np\n",
    "\n",
    "from pandas_datareader import fred\n",
    "import yfinance as yf\n",
    "import pandas_datareader as pdread\n",
    "\n",
    "import matplotlib.pyplot as plt\n",
    "\n",
    "from statsmodels.tsa.arima.model import ARIMA\n",
    "from yahoo_fin import stock_info as ysi\n",
    "\n",
    "from itertools import chain"
   ]
  },
  {
   "cell_type": "code",
   "execution_count": 4,
   "id": "3c4ddfe4-a314-4509-9fab-1803d9c3ed04",
   "metadata": {},
   "outputs": [],
   "source": [
    "from src.utils import apply_datetime_format"
   ]
  },
  {
   "cell_type": "markdown",
   "id": "f748986c-47aa-4e64-aca5-5b443e74d271",
   "metadata": {},
   "source": [
    "### get sp500 composits"
   ]
  },
  {
   "cell_type": "code",
   "execution_count": 5,
   "id": "2498c72e-a0f0-467b-9944-b0d775b0d90a",
   "metadata": {},
   "outputs": [],
   "source": [
    "# get sp500 composits & market cap\n",
    "sp500_tickers = ysi.tickers_sp500()\n",
    "df = pd.DataFrame(index=sp500_tickers, \n",
    "                  columns=['market_cap'], \n",
    "                  data=[pdread.get_quote_yahoo(item)['marketCap'].values[0] for item in sp500_tickers])\n",
    "sp500_largest = df.sort_values('market_cap', ascending=False).index[:5].values\n",
    "sp500_ticker = ['^GSPC']"
   ]
  },
  {
   "cell_type": "code",
   "execution_count": 6,
   "id": "b8b870b9-9f5f-4220-bcf2-5f76d15a8e0c",
   "metadata": {},
   "outputs": [],
   "source": [
    "start = '2020-01-01'\n",
    "end = '2022-12-31'"
   ]
  },
  {
   "cell_type": "code",
   "execution_count": 7,
   "id": "e82df2f3-5394-4ccf-931c-595b42691358",
   "metadata": {},
   "outputs": [
    {
     "name": "stdout",
     "output_type": "stream",
     "text": [
      "[*********************100%***********************]  1 of 1 completed\n",
      "[*********************100%***********************]  1 of 1 completed\n",
      "[*********************100%***********************]  1 of 1 completed\n",
      "[*********************100%***********************]  1 of 1 completed\n",
      "[*********************100%***********************]  1 of 1 completed\n",
      "[*********************100%***********************]  1 of 1 completed\n"
     ]
    }
   ],
   "source": [
    "df_prices = pd.DataFrame()\n",
    "df_prices.index = pd.date_range(start, periods=(apply_datetime_format(end, '%Y-%m-%d') - apply_datetime_format(start, '%Y-%m-%d')).days)\n",
    "\n",
    "for item in [*chain(sp500_largest, sp500_ticker)]:\n",
    "    data = yf.download(item, start, end)\n",
    "    data.columns = list([f'{item}_{x}' for x in data.columns])\n",
    "    df_prices = df_prices.join(data)\n",
    "    \n",
    "# get closing price\n",
    "df_c = df_prices[[item for item in df_prices.columns if 'Adj Close' in item]].copy()\n",
    "df_c.columns = [item[:-10] for item in df_c.columns]\n",
    "df_c.dropna(inplace=True)"
   ]
  },
  {
   "cell_type": "code",
   "execution_count": 8,
   "id": "c102094c-aab7-400b-9ccf-afe62dab143e",
   "metadata": {},
   "outputs": [],
   "source": [
    "# get log returns\n",
    "df_rets = np.log(df_c / df_c.shift(1)).dropna()\n",
    "df_rets.sort_index(inplace=True)\n",
    "df_rets.asfreq = \"D\"\n",
    "\n",
    "df_rets['^GSPC_lead'] = df_rets['^GSPC'].shift(1)\n",
    "\n",
    "df_rets.dropna(inplace=True)\n",
    "df_rets.index.asfreq = 'd'"
   ]
  },
  {
   "cell_type": "code",
   "execution_count": 9,
   "id": "a59f66b3-2331-46ac-a5e3-2fea004b7606",
   "metadata": {},
   "outputs": [],
   "source": [
    "# save data to file\n",
    "df_rets.to_csv(os.path.join(DATA_DIR, 'returns.csv'))"
   ]
  },
  {
   "cell_type": "code",
   "execution_count": null,
   "id": "a0d5c9a6-108d-4a17-9095-12cb95aaaa63",
   "metadata": {},
   "outputs": [],
   "source": [
    "# load data from file\n",
    "df_rets = pd.read_csv(os.path.join(DATA_DIR, 'returns.csv'))"
   ]
  }
 ],
 "metadata": {
  "kernelspec": {
   "display_name": "env_bayes_filter",
   "language": "python",
   "name": "env_bayes_filter"
  },
  "language_info": {
   "codemirror_mode": {
    "name": "ipython",
    "version": 3
   },
   "file_extension": ".py",
   "mimetype": "text/x-python",
   "name": "python",
   "nbconvert_exporter": "python",
   "pygments_lexer": "ipython3",
   "version": "3.9.4"
  }
 },
 "nbformat": 4,
 "nbformat_minor": 5
}
