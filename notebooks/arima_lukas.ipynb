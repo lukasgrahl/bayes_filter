{
 "cells": [
  {
   "cell_type": "code",
   "execution_count": 99,
   "id": "cf2c1079-e3f7-4857-a0e0-1dcc0394ccd4",
   "metadata": {},
   "outputs": [
    {
     "name": "stdout",
     "output_type": "stream",
     "text": [
      "DATA_DIR is existant under: C:\\Users\\LukasGrahl\\Documents\\GIT\\bayes_filter\\data\n"
     ]
    }
   ],
   "source": [
    "%run init_notebookspace.py"
   ]
  },
  {
   "cell_type": "code",
   "execution_count": 100,
   "id": "4af89f6f-73e1-4871-ad65-6f139b104e65",
   "metadata": {},
   "outputs": [],
   "source": [
    "import pandas as pd\n",
    "import numpy as np\n",
    "\n",
    "from pandas_datareader import fred\n",
    "import yfinance as yf\n",
    "import pandas_datareader as pdread\n",
    "\n",
    "import matplotlib.pyplot as plt\n",
    "\n",
    "from statsmodels.tsa.arima.model import ARIMA\n",
    "from yahoo_fin import stock_info as ysi\n",
    "\n",
    "from itertools import chain"
   ]
  },
  {
   "cell_type": "code",
   "execution_count": 101,
   "id": "558b0a41-f8ef-4da8-8c4e-b5457577f91a",
   "metadata": {},
   "outputs": [],
   "source": [
    "from src.utils import apply_datetime_format"
   ]
  },
  {
   "cell_type": "markdown",
   "id": "cbb3617a-2139-4585-8086-fb53fb5cb2ee",
   "metadata": {},
   "source": [
    "### get sp500 composits"
   ]
  },
  {
   "cell_type": "code",
   "execution_count": 11,
   "id": "bae06c2a-76e4-45a9-8e54-b2a718d355f5",
   "metadata": {},
   "outputs": [],
   "source": [
    "# get sp500 composits & market cap\n",
    "sp500_tickers = ysi.tickers_sp500()\n",
    "df = pd.DataFrame(index=sp500_tickers, \n",
    "                  columns=['market_cap'], \n",
    "                  data=[pdread.get_quote_yahoo(item)['marketCap'].values[0] for item in sp500_tickers])\n",
    "sp500_largest = df.sort_values('market_cap', ascending=False).index[:5].values\n",
    "sp500_ticker = ['^GSPC']"
   ]
  },
  {
   "cell_type": "code",
   "execution_count": 12,
   "id": "475c8d35-340f-4d3c-b581-614304980f4f",
   "metadata": {},
   "outputs": [],
   "source": [
    "start = '2020-01-01'\n",
    "end = '2022-12-31'"
   ]
  },
  {
   "cell_type": "code",
   "execution_count": 13,
   "id": "7bcef480-68a2-4df4-9ef4-202543f38116",
   "metadata": {},
   "outputs": [
    {
     "name": "stdout",
     "output_type": "stream",
     "text": [
      "[*********************100%***********************]  1 of 1 completed\n",
      "[*********************100%***********************]  1 of 1 completed\n",
      "[*********************100%***********************]  1 of 1 completed\n",
      "[*********************100%***********************]  1 of 1 completed\n",
      "[*********************100%***********************]  1 of 1 completed\n",
      "[*********************100%***********************]  1 of 1 completed\n"
     ]
    }
   ],
   "source": [
    "df_prices = pd.DataFrame()\n",
    "df_prices.index = pd.date_range(start, periods=(apply_datetime_format(end, '%Y-%m-%d') - apply_datetime_format(start, '%Y-%m-%d')).days)\n",
    "\n",
    "for item in [*chain(sp500_largest, sp500_ticker)]:\n",
    "    data = yf.download(item, start, end)\n",
    "    data.columns = list([f'{item}_{x}' for x in data.columns])\n",
    "    df_prices = df_prices.join(data)\n",
    "    \n",
    "# get closing price\n",
    "df_c = df_prices[[item for item in df_prices.columns if 'Adj Close' in item]].copy()\n",
    "df_c.columns = [item[:-10] for item in df_c.columns]\n",
    "df_c.dropna(inplace=True)"
   ]
  },
  {
   "cell_type": "code",
   "execution_count": 16,
   "id": "fb0ca588-a47f-4fc4-80d5-d9843ab71c9a",
   "metadata": {},
   "outputs": [],
   "source": [
    "# get log returns\n",
    "df_rets = np.log(df_c / df_c.shift(1)).dropna()\n",
    "df_rets.sort_index(inplace=True)\n",
    "df_rets.asfreq = \"D\"\n",
    "\n",
    "df_rets['^GSPC_lead'] = df_rets['^GSPC'].shift(1)\n",
    "\n",
    "df_rets.dropna(inplace=True)\n",
    "df_rets.index.asfreq = 'd'"
   ]
  },
  {
   "cell_type": "code",
   "execution_count": 103,
   "id": "314ffc6a-f8b2-499b-a128-cbcf263ba50e",
   "metadata": {},
   "outputs": [],
   "source": [
    "df_rets.to_csv(os.path.join(DATA_DIR, 'returns.csv'))"
   ]
  },
  {
   "cell_type": "code",
   "execution_count": 24,
   "id": "ec3bde96-d0bc-4633-80e6-faccc116bab8",
   "metadata": {},
   "outputs": [
    {
     "data": {
      "text/plain": [
       "array(['AAPL', 'MSFT', 'GOOGL', 'GOOG', 'AMZN'], dtype=object)"
      ]
     },
     "execution_count": 24,
     "metadata": {},
     "output_type": "execute_result"
    }
   ],
   "source": [
    "sp500_largest"
   ]
  },
  {
   "cell_type": "code",
   "execution_count": 38,
   "id": "97d20bad-5029-4226-9c96-316e92f1d163",
   "metadata": {},
   "outputs": [
    {
     "name": "stderr",
     "output_type": "stream",
     "text": [
      "C:\\Users\\LukasGrahl\\Documents\\GIT\\bayes_filter\\env_bayes_filter\\lib\\site-packages\\statsmodels\\base\\model.py:604: ConvergenceWarning: Maximum Likelihood optimization failed to converge. Check mle_retvals\n",
      "  warnings.warn(\"Maximum Likelihood optimization failed to \"\n"
     ]
    }
   ],
   "source": [
    "mod = ARIMA(endog=df_rets['^GSPC_lead'].values,\n",
    "            exog=df_rets[['AAPL']].values,\n",
    "            order=(2,0,2))\n",
    "res = mod.fit()"
   ]
  },
  {
   "cell_type": "code",
   "execution_count": 39,
   "id": "635d0e7e-137f-47b7-b6ba-26a5bbceb7a0",
   "metadata": {},
   "outputs": [
    {
     "data": {
      "text/html": [
       "<table class=\"simpletable\">\n",
       "<caption>SARIMAX Results</caption>\n",
       "<tr>\n",
       "  <th>Dep. Variable:</th>           <td>y</td>        <th>  No. Observations:  </th>    <td>754</td>   \n",
       "</tr>\n",
       "<tr>\n",
       "  <th>Model:</th>            <td>ARIMA(2, 0, 2)</td>  <th>  Log Likelihood     </th> <td>2067.748</td> \n",
       "</tr>\n",
       "<tr>\n",
       "  <th>Date:</th>            <td>Mon, 13 Mar 2023</td> <th>  AIC                </th> <td>-4121.496</td>\n",
       "</tr>\n",
       "<tr>\n",
       "  <th>Time:</th>                <td>10:22:52</td>     <th>  BIC                </th> <td>-4089.118</td>\n",
       "</tr>\n",
       "<tr>\n",
       "  <th>Sample:</th>                  <td>0</td>        <th>  HQIC               </th> <td>-4109.023</td>\n",
       "</tr>\n",
       "<tr>\n",
       "  <th></th>                      <td> - 754</td>      <th>                     </th>     <td> </td>    \n",
       "</tr>\n",
       "<tr>\n",
       "  <th>Covariance Type:</th>        <td>opg</td>       <th>                     </th>     <td> </td>    \n",
       "</tr>\n",
       "</table>\n",
       "<table class=\"simpletable\">\n",
       "<tr>\n",
       "     <td></td>       <th>coef</th>     <th>std err</th>      <th>z</th>      <th>P>|z|</th>  <th>[0.025</th>    <th>0.975]</th>  \n",
       "</tr>\n",
       "<tr>\n",
       "  <th>const</th>  <td>    0.0002</td> <td>    0.001</td> <td>    0.390</td> <td> 0.696</td> <td>   -0.001</td> <td>    0.001</td>\n",
       "</tr>\n",
       "<tr>\n",
       "  <th>x1</th>     <td>   -0.0331</td> <td>    0.018</td> <td>   -1.889</td> <td> 0.059</td> <td>   -0.067</td> <td>    0.001</td>\n",
       "</tr>\n",
       "<tr>\n",
       "  <th>ar.L1</th>  <td>   -0.3669</td> <td>    0.240</td> <td>   -1.527</td> <td> 0.127</td> <td>   -0.838</td> <td>    0.104</td>\n",
       "</tr>\n",
       "<tr>\n",
       "  <th>ar.L2</th>  <td>   -0.1338</td> <td>    0.169</td> <td>   -0.790</td> <td> 0.429</td> <td>   -0.465</td> <td>    0.198</td>\n",
       "</tr>\n",
       "<tr>\n",
       "  <th>ma.L1</th>  <td>    0.2173</td> <td>    0.240</td> <td>    0.905</td> <td> 0.365</td> <td>   -0.253</td> <td>    0.688</td>\n",
       "</tr>\n",
       "<tr>\n",
       "  <th>ma.L2</th>  <td>    0.2460</td> <td>    0.136</td> <td>    1.811</td> <td> 0.070</td> <td>   -0.020</td> <td>    0.512</td>\n",
       "</tr>\n",
       "<tr>\n",
       "  <th>sigma2</th> <td>    0.0002</td> <td> 6.78e-06</td> <td>   35.820</td> <td> 0.000</td> <td>    0.000</td> <td>    0.000</td>\n",
       "</tr>\n",
       "</table>\n",
       "<table class=\"simpletable\">\n",
       "<tr>\n",
       "  <th>Ljung-Box (L1) (Q):</th>     <td>0.00</td> <th>  Jarque-Bera (JB):  </th> <td>2295.23</td>\n",
       "</tr>\n",
       "<tr>\n",
       "  <th>Prob(Q):</th>                <td>0.96</td> <th>  Prob(JB):          </th>  <td>0.00</td>  \n",
       "</tr>\n",
       "<tr>\n",
       "  <th>Heteroskedasticity (H):</th> <td>0.61</td> <th>  Skew:              </th>  <td>-0.68</td> \n",
       "</tr>\n",
       "<tr>\n",
       "  <th>Prob(H) (two-sided):</th>    <td>0.00</td> <th>  Kurtosis:          </th>  <td>11.44</td> \n",
       "</tr>\n",
       "</table><br/><br/>Warnings:<br/>[1] Covariance matrix calculated using the outer product of gradients (complex-step)."
      ],
      "text/plain": [
       "<class 'statsmodels.iolib.summary.Summary'>\n",
       "\"\"\"\n",
       "                               SARIMAX Results                                \n",
       "==============================================================================\n",
       "Dep. Variable:                      y   No. Observations:                  754\n",
       "Model:                 ARIMA(2, 0, 2)   Log Likelihood                2067.748\n",
       "Date:                Mon, 13 Mar 2023   AIC                          -4121.496\n",
       "Time:                        10:22:52   BIC                          -4089.118\n",
       "Sample:                             0   HQIC                         -4109.023\n",
       "                                - 754                                         \n",
       "Covariance Type:                  opg                                         \n",
       "==============================================================================\n",
       "                 coef    std err          z      P>|z|      [0.025      0.975]\n",
       "------------------------------------------------------------------------------\n",
       "const          0.0002      0.001      0.390      0.696      -0.001       0.001\n",
       "x1            -0.0331      0.018     -1.889      0.059      -0.067       0.001\n",
       "ar.L1         -0.3669      0.240     -1.527      0.127      -0.838       0.104\n",
       "ar.L2         -0.1338      0.169     -0.790      0.429      -0.465       0.198\n",
       "ma.L1          0.2173      0.240      0.905      0.365      -0.253       0.688\n",
       "ma.L2          0.2460      0.136      1.811      0.070      -0.020       0.512\n",
       "sigma2         0.0002   6.78e-06     35.820      0.000       0.000       0.000\n",
       "===================================================================================\n",
       "Ljung-Box (L1) (Q):                   0.00   Jarque-Bera (JB):              2295.23\n",
       "Prob(Q):                              0.96   Prob(JB):                         0.00\n",
       "Heteroskedasticity (H):               0.61   Skew:                            -0.68\n",
       "Prob(H) (two-sided):                  0.00   Kurtosis:                        11.44\n",
       "===================================================================================\n",
       "\n",
       "Warnings:\n",
       "[1] Covariance matrix calculated using the outer product of gradients (complex-step).\n",
       "\"\"\""
      ]
     },
     "execution_count": 39,
     "metadata": {},
     "output_type": "execute_result"
    }
   ],
   "source": [
    "res.summary()"
   ]
  },
  {
   "cell_type": "markdown",
   "id": "b62529b6-973f-4199-b317-33e6947bffed",
   "metadata": {},
   "source": [
    "### designing a Kalman Filter"
   ]
  },
  {
   "cell_type": "markdown",
   "id": "b0f00c10-b491-4768-ac49-38c372a8443f",
   "metadata": {},
   "source": [
    "The below ARMA(2,2) process can be described as a state space equation\n",
    "$$ x_t = c + \\phi_1 x_{t-1} + \\phi_2 x_{t-2} + \\theta_1 u_{t-1} + \\theta_2 u_{t-2} + \\beta_1 a_{t-1} + u_t $$"
   ]
  },
  {
   "cell_type": "code",
   "execution_count": 40,
   "id": "33a0bdd0-ffd6-48d4-bbe9-d66b1af53c40",
   "metadata": {},
   "outputs": [],
   "source": [
    "import sympy as sp"
   ]
  },
  {
   "cell_type": "code",
   "execution_count": 41,
   "id": "e62700d4-1939-44d4-8f41-17c39f25d4bf",
   "metadata": {},
   "outputs": [],
   "source": [
    "syms = sp.symbols([*chain([f'x_{{t-{item}}}' for item in range(0, 3)], # endogs\n",
    "                          [f'{item}_{{t}}' for item in ['a']], # exogs\n",
    "                          [f'{item}_{{t-1}}' for item in ['a']], # exogs\n",
    "                          [f'phi_{item}' for item in range(1, 4)], # endogs params\n",
    "                          [f'beta_{item}' for item in range(1, 2)], # endogs params\n",
    "                          ['theta_1', 'theta_2', 'u_{t-1}', 'u_{t-2}', 'u_t']\n",
    "                          )])\n",
    "x0, x1, x2, a, a1, phi1, phi2, phi3, beta1, theta1, theta2, u1, u2, u = syms"
   ]
  },
  {
   "cell_type": "code",
   "execution_count": 76,
   "id": "96e82e8d-af92-43fe-97eb-5e3e7f8784e8",
   "metadata": {},
   "outputs": [],
   "source": [
    "X = sp.Matrix([x0, x1, u, u1, a])"
   ]
  },
  {
   "cell_type": "code",
   "execution_count": 98,
   "id": "17e1f942-7f23-451f-af66-ddfc0e8f0ef7",
   "metadata": {},
   "outputs": [
    {
     "data": {
      "text/plain": [
       "array([[ 0,  1,  2,  3,  4,  5,  6,  7,  8,  9, 10],\n",
       "       [ 0,  1,  2,  3,  4,  5,  6,  7,  8,  9, 10]])"
      ]
     },
     "execution_count": 98,
     "metadata": {},
     "output_type": "execute_result"
    }
   ],
   "source": [
    "np.array([[*range(0, 11)], [*range(0, 11)]])"
   ]
  },
  {
   "cell_type": "code",
   "execution_count": 77,
   "id": "b332a4c3-19f8-4588-ad90-5abcb72fe19c",
   "metadata": {},
   "outputs": [
    {
     "data": {
      "text/latex": [
       "$\\displaystyle \\left[\\begin{matrix}x_{t-0}\\\\x_{t-1}\\\\u_{t}\\\\u_{t-1}\\\\a_{t}\\end{matrix}\\right]$"
      ],
      "text/plain": [
       "Matrix([\n",
       "[x_{t-0}],\n",
       "[x_{t-1}],\n",
       "[    u_t],\n",
       "[u_{t-1}],\n",
       "[  a_{t}]])"
      ]
     },
     "execution_count": 77,
     "metadata": {},
     "output_type": "execute_result"
    }
   ],
   "source": [
    "X"
   ]
  },
  {
   "cell_type": "code",
   "execution_count": 78,
   "id": "418b9097-58fd-4b3b-bd8d-04d7c1d90043",
   "metadata": {},
   "outputs": [],
   "source": [
    "X1 = sp.Matrix([x1, x2, u1, u2, a1])"
   ]
  },
  {
   "cell_type": "code",
   "execution_count": 79,
   "id": "5b7c9576-e4b9-4734-ad87-491407f1b955",
   "metadata": {},
   "outputs": [
    {
     "data": {
      "text/latex": [
       "$\\displaystyle \\left[\\begin{matrix}x_{t-1}\\\\x_{t-2}\\\\u_{t-1}\\\\u_{t-2}\\\\a_{t-1}\\end{matrix}\\right]$"
      ],
      "text/plain": [
       "Matrix([\n",
       "[x_{t-1}],\n",
       "[x_{t-2}],\n",
       "[u_{t-1}],\n",
       "[u_{t-2}],\n",
       "[a_{t-1}]])"
      ]
     },
     "execution_count": 79,
     "metadata": {},
     "output_type": "execute_result"
    }
   ],
   "source": [
    "X1"
   ]
  },
  {
   "cell_type": "code",
   "execution_count": 80,
   "id": "d357fe42-9509-4908-b2a4-5807ecb5ebd9",
   "metadata": {},
   "outputs": [],
   "source": [
    "Z = sp.Matrix(\n",
    "    [\n",
    "        [phi1, phi2, theta1, theta2, beta1],\n",
    "        [1, 0, 0, 0, 0],\n",
    "        [0, 0, 0, 0, 0],\n",
    "        [0, 0, 1, 0, 0],\n",
    "        [0, 0, 0, 0, 1]\n",
    "    ]\n",
    ")"
   ]
  },
  {
   "cell_type": "code",
   "execution_count": 81,
   "id": "68a609ab-2625-4d49-befb-0c93945adb20",
   "metadata": {},
   "outputs": [
    {
     "data": {
      "text/latex": [
       "$\\displaystyle \\left[\\begin{matrix}x_{t-1}\\\\x_{t-2}\\\\u_{t-1}\\\\u_{t-2}\\\\a_{t-1}\\end{matrix}\\right]$"
      ],
      "text/plain": [
       "Matrix([\n",
       "[x_{t-1}],\n",
       "[x_{t-2}],\n",
       "[u_{t-1}],\n",
       "[u_{t-2}],\n",
       "[a_{t-1}]])"
      ]
     },
     "execution_count": 81,
     "metadata": {},
     "output_type": "execute_result"
    }
   ],
   "source": [
    "X1"
   ]
  },
  {
   "cell_type": "code",
   "execution_count": 82,
   "id": "e5d3c922-4c9f-4647-8dd8-1757bb4893af",
   "metadata": {},
   "outputs": [
    {
     "data": {
      "text/latex": [
       "$\\displaystyle \\left[\\begin{matrix}a_{t-1} \\beta_{1} + \\phi_{1} x_{t-1} + \\phi_{2} x_{t-2} + \\theta_{1} u_{t-1} + \\theta_{2} u_{t-2}\\\\x_{t-1}\\\\0\\\\u_{t-1}\\\\a_{t-1}\\end{matrix}\\right]$"
      ],
      "text/plain": [
       "Matrix([\n",
       "[a_{t-1}*beta_1 + phi_1*x_{t-1} + phi_2*x_{t-2} + theta_1*u_{t-1} + theta_2*u_{t-2}],\n",
       "[                                                                           x_{t-1}],\n",
       "[                                                                                 0],\n",
       "[                                                                           u_{t-1}],\n",
       "[                                                                           a_{t-1}]])"
      ]
     },
     "execution_count": 82,
     "metadata": {},
     "output_type": "execute_result"
    }
   ],
   "source": [
    "Z @ X1"
   ]
  },
  {
   "cell_type": "code",
   "execution_count": 83,
   "id": "7d3c0b79-bdbd-43c7-93a3-465420b8f2b2",
   "metadata": {},
   "outputs": [],
   "source": [
    "R = sp.Matrix([1, 0, 1, 0, 0])\n",
    "U = sp.Matrix([u])"
   ]
  },
  {
   "cell_type": "code",
   "execution_count": 85,
   "id": "fdb98737-f273-4e55-9c53-a8ba0d4c8dfb",
   "metadata": {},
   "outputs": [
    {
     "data": {
      "text/latex": [
       "$\\displaystyle \\left[\\begin{matrix}x_{t-1}\\\\x_{t-2}\\\\u_{t-1}\\\\u_{t-2}\\\\a_{t-1}\\end{matrix}\\right]$"
      ],
      "text/plain": [
       "Matrix([\n",
       "[x_{t-1}],\n",
       "[x_{t-2}],\n",
       "[u_{t-1}],\n",
       "[u_{t-2}],\n",
       "[a_{t-1}]])"
      ]
     },
     "execution_count": 85,
     "metadata": {},
     "output_type": "execute_result"
    }
   ],
   "source": [
    "X1"
   ]
  },
  {
   "cell_type": "code",
   "execution_count": 84,
   "id": "e5087449-23d1-40a5-a369-25c9e43ba767",
   "metadata": {},
   "outputs": [
    {
     "data": {
      "text/latex": [
       "$\\displaystyle \\left[\\begin{matrix}x_{t-0}\\\\x_{t-1}\\\\u_{t}\\\\u_{t-1}\\\\a_{t}\\end{matrix}\\right] = \\left[\\begin{matrix}a_{t-1} \\beta_{1} + \\phi_{1} x_{t-1} + \\phi_{2} x_{t-2} + \\theta_{1} u_{t-1} + \\theta_{2} u_{t-2} + u_{t}\\\\x_{t-1}\\\\u_{t}\\\\u_{t-1}\\\\a_{t-1}\\end{matrix}\\right]$"
      ],
      "text/plain": [
       "Eq(Matrix([\n",
       "[x_{t-0}],\n",
       "[x_{t-1}],\n",
       "[    u_t],\n",
       "[u_{t-1}],\n",
       "[  a_{t}]]), Matrix([\n",
       "[a_{t-1}*beta_1 + phi_1*x_{t-1} + phi_2*x_{t-2} + theta_1*u_{t-1} + theta_2*u_{t-2} + u_t],\n",
       "[                                                                                 x_{t-1}],\n",
       "[                                                                                     u_t],\n",
       "[                                                                                 u_{t-1}],\n",
       "[                                                                                 a_{t-1}]]))"
      ]
     },
     "execution_count": 84,
     "metadata": {},
     "output_type": "execute_result"
    }
   ],
   "source": [
    "state_space = sp.Eq(X, Z @ X1 + R @ U)\n",
    "state_space"
   ]
  },
  {
   "cell_type": "code",
   "execution_count": 174,
   "id": "bbd9c0b0-7093-4d4e-bd8d-430c6347e19c",
   "metadata": {},
   "outputs": [],
   "source": [
    "Z_lamb = sp.lambdify([phi1, phi2, theta1, theta2, beta1, a1], Z)"
   ]
  },
  {
   "cell_type": "code",
   "execution_count": 177,
   "id": "50e94e54-7dfe-4e7b-83ed-ad7d24159915",
   "metadata": {},
   "outputs": [
    {
     "data": {
      "text/plain": [
       "array([[-0.36671969, -0.13347194,  0.21725022,  0.24566215, -0.06611698],\n",
       "       [ 1.        ,  0.        ,  0.        ,  0.        ,  0.        ],\n",
       "       [ 0.        ,  0.        ,  0.        ,  0.        ,  0.        ],\n",
       "       [ 0.        ,  0.        ,  1.        ,  0.        ,  0.        ],\n",
       "       [ 0.        ,  0.        ,  0.        ,  0.        ,  1.        ]])"
      ]
     },
     "execution_count": 177,
     "metadata": {},
     "output_type": "execute_result"
    }
   ],
   "source": [
    "Z_lamb(-0.36671969, -0.13347194,  0.21725022,  0.24566215, -0.03305849, 2)"
   ]
  },
  {
   "cell_type": "code",
   "execution_count": null,
   "id": "63b5e7f0-1c2d-47d7-aed0-087164c82823",
   "metadata": {},
   "outputs": [],
   "source": []
  },
  {
   "cell_type": "code",
   "execution_count": null,
   "id": "3a9ef7b8-05be-4c99-985b-6646a9c66ce5",
   "metadata": {},
   "outputs": [],
   "source": []
  }
 ],
 "metadata": {
  "kernelspec": {
   "display_name": "env_bayes_filter",
   "language": "python",
   "name": "env_bayes_filter"
  },
  "language_info": {
   "codemirror_mode": {
    "name": "ipython",
    "version": 3
   },
   "file_extension": ".py",
   "mimetype": "text/x-python",
   "name": "python",
   "nbconvert_exporter": "python",
   "pygments_lexer": "ipython3",
   "version": "3.9.4"
  }
 },
 "nbformat": 4,
 "nbformat_minor": 5
}
