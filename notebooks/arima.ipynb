{
 "cells": [
  {
   "cell_type": "code",
   "execution_count": 1,
   "id": "cf2c1079-e3f7-4857-a0e0-1dcc0394ccd4",
   "metadata": {},
   "outputs": [
    {
     "name": "stdout",
     "output_type": "stream",
     "text": [
      "DATA_DIR is existant under: C:\\Users\\LukasGrahl\\Documents\\GIT\\bayes_filter\\data\n"
     ]
    }
   ],
   "source": [
    "%run init_notebookspace.py"
   ]
  },
  {
   "cell_type": "code",
   "execution_count": 2,
   "id": "df3576d8-e549-46b8-baa9-93e58c8e3db2",
   "metadata": {},
   "outputs": [],
   "source": [
    "import pandas as pd\n",
    "from pandas_datareader import fred\n",
    "import yfinance as yf\n",
    "\n",
    "import matplotlib.pyplot as plt"
   ]
  },
  {
   "cell_type": "code",
   "execution_count": 3,
   "id": "5178e341-2afe-4fa0-92d0-754978f812a9",
   "metadata": {},
   "outputs": [],
   "source": [
    "from statsmodels.tsa.arima.model import ARIMA"
   ]
  },
  {
   "cell_type": "code",
   "execution_count": 4,
   "id": "475c8d35-340f-4d3c-b581-614304980f4f",
   "metadata": {},
   "outputs": [],
   "source": [
    "start = '01/01/2020'\n",
    "end = '12/31/2022'\n",
    "end2 = '2022-12-31'\n",
    "start2 = '2020-01-01'"
   ]
  },
  {
   "cell_type": "code",
   "execution_count": 5,
   "id": "c07bb590-9033-45d4-9be9-0863b6e72dfe",
   "metadata": {},
   "outputs": [],
   "source": [
    "gdp = fred.FredReader(symbols='GDP', start=start, end=end).read()"
   ]
  },
  {
   "cell_type": "code",
   "execution_count": 6,
   "id": "4673b3bd-aabd-42dd-b87f-aa76fd9ff24a",
   "metadata": {},
   "outputs": [
    {
     "name": "stdout",
     "output_type": "stream",
     "text": [
      "[*********************100%***********************]  1 of 1 completed\n",
      "[*********************100%***********************]  1 of 1 completed\n"
     ]
    }
   ],
   "source": [
    "prices = yf.download('^GSPC', start2, end2)['Close']\n",
    "pricesA = yf.download('AAPL', start2, end2)['Close']"
   ]
  },
  {
   "cell_type": "code",
   "execution_count": 7,
   "id": "f5af0342-ef0b-4f54-9c67-daeda88f4d05",
   "metadata": {},
   "outputs": [],
   "source": [
    "rets = prices.pct_change().dropna().copy()\n",
    "retsA = pricesA.pct_change().dropna().copy()"
   ]
  },
  {
   "cell_type": "code",
   "execution_count": 8,
   "id": "01147b43-01d3-49c3-ba2f-cfe312d34772",
   "metadata": {},
   "outputs": [],
   "source": [
    "test_ind = 30"
   ]
  },
  {
   "cell_type": "code",
   "execution_count": null,
   "id": "bbe7efb8-ab34-46cd-a208-9e7642a02048",
   "metadata": {},
   "outputs": [],
   "source": []
  },
  {
   "cell_type": "code",
   "execution_count": 9,
   "id": "c53d9d67-2130-49ca-9ff4-0630c34a83ba",
   "metadata": {},
   "outputs": [
    {
     "name": "stderr",
     "output_type": "stream",
     "text": [
      "C:\\Users\\LukasGrahl\\Documents\\GIT\\bayes_filter\\env_bayes_filter\\lib\\site-packages\\statsmodels\\tsa\\base\\tsa_model.py:471: ValueWarning: A date index has been provided, but it has no associated frequency information and so will be ignored when e.g. forecasting.\n",
      "  self._init_dates(dates, freq)\n",
      "C:\\Users\\LukasGrahl\\Documents\\GIT\\bayes_filter\\env_bayes_filter\\lib\\site-packages\\statsmodels\\tsa\\base\\tsa_model.py:471: ValueWarning: A date index has been provided, but it has no associated frequency information and so will be ignored when e.g. forecasting.\n",
      "  self._init_dates(dates, freq)\n",
      "C:\\Users\\LukasGrahl\\Documents\\GIT\\bayes_filter\\env_bayes_filter\\lib\\site-packages\\statsmodels\\tsa\\base\\tsa_model.py:471: ValueWarning: A date index has been provided, but it has no associated frequency information and so will be ignored when e.g. forecasting.\n",
      "  self._init_dates(dates, freq)\n"
     ]
    }
   ],
   "source": [
    "mod = ARIMA(endog=rets.iloc[:-test_ind], exog=retsA.iloc[:-test_ind], order=(5, 0, 5))"
   ]
  },
  {
   "cell_type": "code",
   "execution_count": 10,
   "id": "d45afd6e-e041-4590-8678-26283f201adf",
   "metadata": {},
   "outputs": [
    {
     "name": "stderr",
     "output_type": "stream",
     "text": [
      "C:\\Users\\LukasGrahl\\Documents\\GIT\\bayes_filter\\env_bayes_filter\\lib\\site-packages\\statsmodels\\base\\model.py:604: ConvergenceWarning: Maximum Likelihood optimization failed to converge. Check mle_retvals\n",
      "  warnings.warn(\"Maximum Likelihood optimization failed to \"\n"
     ]
    }
   ],
   "source": [
    "res = mod.fit()"
   ]
  },
  {
   "cell_type": "code",
   "execution_count": 11,
   "id": "635d0e7e-137f-47b7-b6ba-26a5bbceb7a0",
   "metadata": {},
   "outputs": [
    {
     "data": {
      "text/html": [
       "<table class=\"simpletable\">\n",
       "<caption>SARIMAX Results</caption>\n",
       "<tr>\n",
       "  <th>Dep. Variable:</th>         <td>Close</td>      <th>  No. Observations:  </th>    <td>725</td>   \n",
       "</tr>\n",
       "<tr>\n",
       "  <th>Model:</th>            <td>ARIMA(5, 0, 5)</td>  <th>  Log Likelihood     </th> <td>2386.233</td> \n",
       "</tr>\n",
       "<tr>\n",
       "  <th>Date:</th>            <td>Tue, 21 Feb 2023</td> <th>  AIC                </th> <td>-4746.466</td>\n",
       "</tr>\n",
       "<tr>\n",
       "  <th>Time:</th>                <td>18:30:00</td>     <th>  BIC                </th> <td>-4686.846</td>\n",
       "</tr>\n",
       "<tr>\n",
       "  <th>Sample:</th>                  <td>0</td>        <th>  HQIC               </th> <td>-4723.457</td>\n",
       "</tr>\n",
       "<tr>\n",
       "  <th></th>                      <td> - 725</td>      <th>                     </th>     <td> </td>    \n",
       "</tr>\n",
       "<tr>\n",
       "  <th>Covariance Type:</th>        <td>opg</td>       <th>                     </th>     <td> </td>    \n",
       "</tr>\n",
       "</table>\n",
       "<table class=\"simpletable\">\n",
       "<tr>\n",
       "     <td></td>       <th>coef</th>     <th>std err</th>      <th>z</th>      <th>P>|z|</th>  <th>[0.025</th>    <th>0.975]</th>  \n",
       "</tr>\n",
       "<tr>\n",
       "  <th>const</th>  <td>   -0.0003</td> <td>    0.000</td> <td>   -0.684</td> <td> 0.494</td> <td>   -0.001</td> <td>    0.000</td>\n",
       "</tr>\n",
       "<tr>\n",
       "  <th>Close</th>  <td>    0.5356</td> <td>    0.009</td> <td>   60.795</td> <td> 0.000</td> <td>    0.518</td> <td>    0.553</td>\n",
       "</tr>\n",
       "<tr>\n",
       "  <th>ar.L1</th>  <td>   -0.8757</td> <td>    0.465</td> <td>   -1.882</td> <td> 0.060</td> <td>   -1.788</td> <td>    0.037</td>\n",
       "</tr>\n",
       "<tr>\n",
       "  <th>ar.L2</th>  <td>   -0.0839</td> <td>    0.340</td> <td>   -0.247</td> <td> 0.805</td> <td>   -0.751</td> <td>    0.583</td>\n",
       "</tr>\n",
       "<tr>\n",
       "  <th>ar.L3</th>  <td>   -0.4662</td> <td>    0.216</td> <td>   -2.161</td> <td> 0.031</td> <td>   -0.889</td> <td>   -0.043</td>\n",
       "</tr>\n",
       "<tr>\n",
       "  <th>ar.L4</th>  <td>   -0.8734</td> <td>    0.229</td> <td>   -3.812</td> <td> 0.000</td> <td>   -1.322</td> <td>   -0.424</td>\n",
       "</tr>\n",
       "<tr>\n",
       "  <th>ar.L5</th>  <td>   -0.2863</td> <td>    0.287</td> <td>   -0.998</td> <td> 0.318</td> <td>   -0.849</td> <td>    0.276</td>\n",
       "</tr>\n",
       "<tr>\n",
       "  <th>ma.L1</th>  <td>    0.8816</td> <td>    0.465</td> <td>    1.894</td> <td> 0.058</td> <td>   -0.030</td> <td>    1.794</td>\n",
       "</tr>\n",
       "<tr>\n",
       "  <th>ma.L2</th>  <td>    0.1811</td> <td>    0.348</td> <td>    0.520</td> <td> 0.603</td> <td>   -0.501</td> <td>    0.863</td>\n",
       "</tr>\n",
       "<tr>\n",
       "  <th>ma.L3</th>  <td>    0.5081</td> <td>    0.222</td> <td>    2.285</td> <td> 0.022</td> <td>    0.072</td> <td>    0.944</td>\n",
       "</tr>\n",
       "<tr>\n",
       "  <th>ma.L4</th>  <td>    0.7906</td> <td>    0.251</td> <td>    3.145</td> <td> 0.002</td> <td>    0.298</td> <td>    1.283</td>\n",
       "</tr>\n",
       "<tr>\n",
       "  <th>ma.L5</th>  <td>    0.3204</td> <td>    0.234</td> <td>    1.367</td> <td> 0.172</td> <td>   -0.139</td> <td>    0.780</td>\n",
       "</tr>\n",
       "<tr>\n",
       "  <th>sigma2</th> <td> 8.097e-05</td> <td> 2.84e-06</td> <td>   28.465</td> <td> 0.000</td> <td> 7.54e-05</td> <td> 8.65e-05</td>\n",
       "</tr>\n",
       "</table>\n",
       "<table class=\"simpletable\">\n",
       "<tr>\n",
       "  <th>Ljung-Box (L1) (Q):</th>     <td>0.00</td> <th>  Jarque-Bera (JB):  </th> <td>399.88</td>\n",
       "</tr>\n",
       "<tr>\n",
       "  <th>Prob(Q):</th>                <td>0.95</td> <th>  Prob(JB):          </th>  <td>0.00</td> \n",
       "</tr>\n",
       "<tr>\n",
       "  <th>Heteroskedasticity (H):</th> <td>0.40</td> <th>  Skew:              </th>  <td>-0.49</td>\n",
       "</tr>\n",
       "<tr>\n",
       "  <th>Prob(H) (two-sided):</th>    <td>0.00</td> <th>  Kurtosis:          </th>  <td>6.51</td> \n",
       "</tr>\n",
       "</table><br/><br/>Warnings:<br/>[1] Covariance matrix calculated using the outer product of gradients (complex-step)."
      ],
      "text/plain": [
       "<class 'statsmodels.iolib.summary.Summary'>\n",
       "\"\"\"\n",
       "                               SARIMAX Results                                \n",
       "==============================================================================\n",
       "Dep. Variable:                  Close   No. Observations:                  725\n",
       "Model:                 ARIMA(5, 0, 5)   Log Likelihood                2386.233\n",
       "Date:                Tue, 21 Feb 2023   AIC                          -4746.466\n",
       "Time:                        18:30:00   BIC                          -4686.846\n",
       "Sample:                             0   HQIC                         -4723.457\n",
       "                                - 725                                         \n",
       "Covariance Type:                  opg                                         \n",
       "==============================================================================\n",
       "                 coef    std err          z      P>|z|      [0.025      0.975]\n",
       "------------------------------------------------------------------------------\n",
       "const         -0.0003      0.000     -0.684      0.494      -0.001       0.000\n",
       "Close          0.5356      0.009     60.795      0.000       0.518       0.553\n",
       "ar.L1         -0.8757      0.465     -1.882      0.060      -1.788       0.037\n",
       "ar.L2         -0.0839      0.340     -0.247      0.805      -0.751       0.583\n",
       "ar.L3         -0.4662      0.216     -2.161      0.031      -0.889      -0.043\n",
       "ar.L4         -0.8734      0.229     -3.812      0.000      -1.322      -0.424\n",
       "ar.L5         -0.2863      0.287     -0.998      0.318      -0.849       0.276\n",
       "ma.L1          0.8816      0.465      1.894      0.058      -0.030       1.794\n",
       "ma.L2          0.1811      0.348      0.520      0.603      -0.501       0.863\n",
       "ma.L3          0.5081      0.222      2.285      0.022       0.072       0.944\n",
       "ma.L4          0.7906      0.251      3.145      0.002       0.298       1.283\n",
       "ma.L5          0.3204      0.234      1.367      0.172      -0.139       0.780\n",
       "sigma2      8.097e-05   2.84e-06     28.465      0.000    7.54e-05    8.65e-05\n",
       "===================================================================================\n",
       "Ljung-Box (L1) (Q):                   0.00   Jarque-Bera (JB):               399.88\n",
       "Prob(Q):                              0.95   Prob(JB):                         0.00\n",
       "Heteroskedasticity (H):               0.40   Skew:                            -0.49\n",
       "Prob(H) (two-sided):                  0.00   Kurtosis:                         6.51\n",
       "===================================================================================\n",
       "\n",
       "Warnings:\n",
       "[1] Covariance matrix calculated using the outer product of gradients (complex-step).\n",
       "\"\"\""
      ]
     },
     "execution_count": 11,
     "metadata": {},
     "output_type": "execute_result"
    }
   ],
   "source": [
    "res.summary()"
   ]
  },
  {
   "cell_type": "code",
   "execution_count": 12,
   "id": "68a1ef10-dc83-451d-9fba-6233650a6582",
   "metadata": {},
   "outputs": [
    {
     "data": {
      "text/plain": [
       "[<matplotlib.lines.Line2D at 0x20ca280ef10>]"
      ]
     },
     "execution_count": 12,
     "metadata": {},
     "output_type": "execute_result"
    },
    {
     "data": {
      "image/png": "[encoded data removed]",
      "text/plain": [
       "<Figure size 640x480 with 1 Axes>"
      ]
     },
     "metadata": {},
     "output_type": "display_data"
    }
   ],
   "source": [
    "plt.plot(rets.iloc[:-test_ind])\n",
    "plt.plot(res.predict())"
   ]
  },
  {
   "cell_type": "code",
   "execution_count": null,
   "id": "4a4fdf62-9100-422a-9c03-55725f29549d",
   "metadata": {},
   "outputs": [],
   "source": []
  }
 ],
 "metadata": {
  "kernelspec": {
   "display_name": "env_bayes_filter",
   "language": "python",
   "name": "env_bayes_filter"
  },
  "language_info": {
   "codemirror_mode": {
    "name": "ipython",
    "version": 3
   },
   "file_extension": ".py",
   "mimetype": "text/x-python",
   "name": "python",
   "nbconvert_exporter": "python",
   "pygments_lexer": "ipython3",
   "version": "3.9.4"
  }
 },
 "nbformat": 4,
 "nbformat_minor": 5
}
