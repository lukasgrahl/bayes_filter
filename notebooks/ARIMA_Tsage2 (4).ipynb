{
 "cells": [
  {
   "cell_type": "code",
   "execution_count": 12,
   "id": "0e33cedd",
   "metadata": {
    "scrolled": true
   },
   "outputs": [
    {
     "name": "stdout",
     "output_type": "stream",
     "text": [
      "DATA_DIR is existant under: /Users/tsagedouglas/Data Science Project (Python Proj)/data\n"
     ]
    }
   ],
   "source": [
    "%run init_notebookspace.py"
   ]
  },
  {
   "cell_type": "code",
   "execution_count": 13,
   "id": "5621deb6",
   "metadata": {
    "scrolled": true
   },
   "outputs": [
    {
     "name": "stdout",
     "output_type": "stream",
     "text": [
      "Requirement already satisfied: yfinance in /Users/tsagedouglas/opt/miniconda3/envs/econ/lib/python3.9/site-packages (0.2.12)\n",
      "Requirement already satisfied: requests>=2.26 in /Users/tsagedouglas/opt/miniconda3/envs/econ/lib/python3.9/site-packages (from yfinance) (2.28.1)\n",
      "Requirement already satisfied: cryptography>=3.3.2 in /Users/tsagedouglas/opt/miniconda3/envs/econ/lib/python3.9/site-packages (from yfinance) (38.0.4)\n",
      "Requirement already satisfied: frozendict>=2.3.4 in /Users/tsagedouglas/opt/miniconda3/envs/econ/lib/python3.9/site-packages (from yfinance) (2.3.5)\n",
      "Requirement already satisfied: appdirs>=1.4.4 in /Users/tsagedouglas/opt/miniconda3/envs/econ/lib/python3.9/site-packages (from yfinance) (1.4.4)\n",
      "Requirement already satisfied: beautifulsoup4>=4.11.1 in /Users/tsagedouglas/opt/miniconda3/envs/econ/lib/python3.9/site-packages (from yfinance) (4.11.1)\n",
      "Requirement already satisfied: multitasking>=0.0.7 in /Users/tsagedouglas/opt/miniconda3/envs/econ/lib/python3.9/site-packages (from yfinance) (0.0.11)\n",
      "Requirement already satisfied: pytz>=2022.5 in /Users/tsagedouglas/opt/miniconda3/envs/econ/lib/python3.9/site-packages (from yfinance) (2022.6)\n",
      "Requirement already satisfied: lxml>=4.9.1 in /Users/tsagedouglas/opt/miniconda3/envs/econ/lib/python3.9/site-packages (from yfinance) (4.9.1)\n",
      "Requirement already satisfied: numpy>=1.16.5 in /Users/tsagedouglas/opt/miniconda3/envs/econ/lib/python3.9/site-packages (from yfinance) (1.23.5)\n",
      "Requirement already satisfied: pandas>=1.3.0 in /Users/tsagedouglas/opt/miniconda3/envs/econ/lib/python3.9/site-packages (from yfinance) (1.5.2)\n",
      "Requirement already satisfied: html5lib>=1.1 in /Users/tsagedouglas/opt/miniconda3/envs/econ/lib/python3.9/site-packages (from yfinance) (1.1)\n",
      "Requirement already satisfied: soupsieve>1.2 in /Users/tsagedouglas/opt/miniconda3/envs/econ/lib/python3.9/site-packages (from beautifulsoup4>=4.11.1->yfinance) (2.3.2.post1)\n",
      "Requirement already satisfied: cffi>=1.12 in /Users/tsagedouglas/opt/miniconda3/envs/econ/lib/python3.9/site-packages (from cryptography>=3.3.2->yfinance) (1.15.1)\n",
      "Requirement already satisfied: webencodings in /Users/tsagedouglas/opt/miniconda3/envs/econ/lib/python3.9/site-packages (from html5lib>=1.1->yfinance) (0.5.1)\n",
      "Requirement already satisfied: six>=1.9 in /Users/tsagedouglas/opt/miniconda3/envs/econ/lib/python3.9/site-packages (from html5lib>=1.1->yfinance) (1.16.0)\n",
      "Requirement already satisfied: python-dateutil>=2.8.1 in /Users/tsagedouglas/opt/miniconda3/envs/econ/lib/python3.9/site-packages (from pandas>=1.3.0->yfinance) (2.8.2)\n",
      "Requirement already satisfied: charset-normalizer<3,>=2 in /Users/tsagedouglas/opt/miniconda3/envs/econ/lib/python3.9/site-packages (from requests>=2.26->yfinance) (2.1.1)\n",
      "Requirement already satisfied: certifi>=2017.4.17 in /Users/tsagedouglas/opt/miniconda3/envs/econ/lib/python3.9/site-packages (from requests>=2.26->yfinance) (2022.9.24)\n",
      "Requirement already satisfied: idna<4,>=2.5 in /Users/tsagedouglas/opt/miniconda3/envs/econ/lib/python3.9/site-packages (from requests>=2.26->yfinance) (3.4)\n",
      "Requirement already satisfied: urllib3<1.27,>=1.21.1 in /Users/tsagedouglas/opt/miniconda3/envs/econ/lib/python3.9/site-packages (from requests>=2.26->yfinance) (1.26.13)\n",
      "Requirement already satisfied: pycparser in /Users/tsagedouglas/opt/miniconda3/envs/econ/lib/python3.9/site-packages (from cffi>=1.12->cryptography>=3.3.2->yfinance) (2.21)\n"
     ]
    }
   ],
   "source": [
    "!pip install yfinance"
   ]
  },
  {
   "cell_type": "code",
   "execution_count": 14,
   "id": "3a769cbf",
   "metadata": {
    "scrolled": false
   },
   "outputs": [
    {
     "name": "stdout",
     "output_type": "stream",
     "text": [
      "Requirement already satisfied: pandas_datareader in /Users/tsagedouglas/opt/miniconda3/envs/econ/lib/python3.9/site-packages (0.10.0)\r\n",
      "Requirement already satisfied: lxml in /Users/tsagedouglas/opt/miniconda3/envs/econ/lib/python3.9/site-packages (from pandas_datareader) (4.9.1)\r\n",
      "Requirement already satisfied: pandas>=0.23 in /Users/tsagedouglas/opt/miniconda3/envs/econ/lib/python3.9/site-packages (from pandas_datareader) (1.5.2)\r\n",
      "Requirement already satisfied: requests>=2.19.0 in /Users/tsagedouglas/opt/miniconda3/envs/econ/lib/python3.9/site-packages (from pandas_datareader) (2.28.1)\r\n",
      "Requirement already satisfied: python-dateutil>=2.8.1 in /Users/tsagedouglas/opt/miniconda3/envs/econ/lib/python3.9/site-packages (from pandas>=0.23->pandas_datareader) (2.8.2)\r\n",
      "Requirement already satisfied: pytz>=2020.1 in /Users/tsagedouglas/opt/miniconda3/envs/econ/lib/python3.9/site-packages (from pandas>=0.23->pandas_datareader) (2022.6)\r\n",
      "Requirement already satisfied: numpy>=1.20.3 in /Users/tsagedouglas/opt/miniconda3/envs/econ/lib/python3.9/site-packages (from pandas>=0.23->pandas_datareader) (1.23.5)\r\n",
      "Requirement already satisfied: idna<4,>=2.5 in /Users/tsagedouglas/opt/miniconda3/envs/econ/lib/python3.9/site-packages (from requests>=2.19.0->pandas_datareader) (3.4)\r\n",
      "Requirement already satisfied: urllib3<1.27,>=1.21.1 in /Users/tsagedouglas/opt/miniconda3/envs/econ/lib/python3.9/site-packages (from requests>=2.19.0->pandas_datareader) (1.26.13)\r\n",
      "Requirement already satisfied: certifi>=2017.4.17 in /Users/tsagedouglas/opt/miniconda3/envs/econ/lib/python3.9/site-packages (from requests>=2.19.0->pandas_datareader) (2022.9.24)\r\n",
      "Requirement already satisfied: charset-normalizer<3,>=2 in /Users/tsagedouglas/opt/miniconda3/envs/econ/lib/python3.9/site-packages (from requests>=2.19.0->pandas_datareader) (2.1.1)\r\n",
      "Requirement already satisfied: six>=1.5 in /Users/tsagedouglas/opt/miniconda3/envs/econ/lib/python3.9/site-packages (from python-dateutil>=2.8.1->pandas>=0.23->pandas_datareader) (1.16.0)\r\n"
     ]
    }
   ],
   "source": [
    "!pip install pandas_datareader"
   ]
  },
  {
   "cell_type": "code",
   "execution_count": 15,
   "id": "4e6a9771",
   "metadata": {
    "scrolled": true
   },
   "outputs": [
    {
     "name": "stdout",
     "output_type": "stream",
     "text": [
      "Requirement already satisfied: yahoo_fin in /Users/tsagedouglas/opt/miniconda3/envs/econ/lib/python3.9/site-packages (0.8.9.1)\n",
      "Requirement already satisfied: feedparser in /Users/tsagedouglas/opt/miniconda3/envs/econ/lib/python3.9/site-packages (from yahoo_fin) (6.0.10)\n",
      "Requirement already satisfied: requests-html in /Users/tsagedouglas/opt/miniconda3/envs/econ/lib/python3.9/site-packages (from yahoo_fin) (0.10.0)\n",
      "Requirement already satisfied: requests in /Users/tsagedouglas/opt/miniconda3/envs/econ/lib/python3.9/site-packages (from yahoo_fin) (2.28.1)\n",
      "Requirement already satisfied: pandas in /Users/tsagedouglas/opt/miniconda3/envs/econ/lib/python3.9/site-packages (from yahoo_fin) (1.5.2)\n",
      "Requirement already satisfied: sgmllib3k in /Users/tsagedouglas/opt/miniconda3/envs/econ/lib/python3.9/site-packages (from feedparser->yahoo_fin) (1.0.0)\n",
      "Requirement already satisfied: python-dateutil>=2.8.1 in /Users/tsagedouglas/opt/miniconda3/envs/econ/lib/python3.9/site-packages (from pandas->yahoo_fin) (2.8.2)\n",
      "Requirement already satisfied: pytz>=2020.1 in /Users/tsagedouglas/opt/miniconda3/envs/econ/lib/python3.9/site-packages (from pandas->yahoo_fin) (2022.6)\n",
      "Requirement already satisfied: numpy>=1.20.3 in /Users/tsagedouglas/opt/miniconda3/envs/econ/lib/python3.9/site-packages (from pandas->yahoo_fin) (1.23.5)\n",
      "Requirement already satisfied: charset-normalizer<3,>=2 in /Users/tsagedouglas/opt/miniconda3/envs/econ/lib/python3.9/site-packages (from requests->yahoo_fin) (2.1.1)\n",
      "Requirement already satisfied: urllib3<1.27,>=1.21.1 in /Users/tsagedouglas/opt/miniconda3/envs/econ/lib/python3.9/site-packages (from requests->yahoo_fin) (1.26.13)\n",
      "Requirement already satisfied: idna<4,>=2.5 in /Users/tsagedouglas/opt/miniconda3/envs/econ/lib/python3.9/site-packages (from requests->yahoo_fin) (3.4)\n",
      "Requirement already satisfied: certifi>=2017.4.17 in /Users/tsagedouglas/opt/miniconda3/envs/econ/lib/python3.9/site-packages (from requests->yahoo_fin) (2022.9.24)\n",
      "Requirement already satisfied: bs4 in /Users/tsagedouglas/opt/miniconda3/envs/econ/lib/python3.9/site-packages (from requests-html->yahoo_fin) (0.0.1)\n",
      "Requirement already satisfied: fake-useragent in /Users/tsagedouglas/opt/miniconda3/envs/econ/lib/python3.9/site-packages (from requests-html->yahoo_fin) (1.1.1)\n",
      "Requirement already satisfied: parse in /Users/tsagedouglas/opt/miniconda3/envs/econ/lib/python3.9/site-packages (from requests-html->yahoo_fin) (1.19.0)\n",
      "Requirement already satisfied: w3lib in /Users/tsagedouglas/opt/miniconda3/envs/econ/lib/python3.9/site-packages (from requests-html->yahoo_fin) (2.1.1)\n",
      "Requirement already satisfied: pyquery in /Users/tsagedouglas/opt/miniconda3/envs/econ/lib/python3.9/site-packages (from requests-html->yahoo_fin) (2.0.0)\n",
      "Requirement already satisfied: pyppeteer>=0.0.14 in /Users/tsagedouglas/opt/miniconda3/envs/econ/lib/python3.9/site-packages (from requests-html->yahoo_fin) (1.0.2)\n",
      "Requirement already satisfied: tqdm<5.0.0,>=4.42.1 in /Users/tsagedouglas/opt/miniconda3/envs/econ/lib/python3.9/site-packages (from pyppeteer>=0.0.14->requests-html->yahoo_fin) (4.65.0)\n",
      "Requirement already satisfied: pyee<9.0.0,>=8.1.0 in /Users/tsagedouglas/opt/miniconda3/envs/econ/lib/python3.9/site-packages (from pyppeteer>=0.0.14->requests-html->yahoo_fin) (8.2.2)\n",
      "Requirement already satisfied: websockets<11.0,>=10.0 in /Users/tsagedouglas/opt/miniconda3/envs/econ/lib/python3.9/site-packages (from pyppeteer>=0.0.14->requests-html->yahoo_fin) (10.4)\n",
      "Requirement already satisfied: appdirs<2.0.0,>=1.4.3 in /Users/tsagedouglas/opt/miniconda3/envs/econ/lib/python3.9/site-packages (from pyppeteer>=0.0.14->requests-html->yahoo_fin) (1.4.4)\n",
      "Requirement already satisfied: importlib-metadata>=1.4 in /Users/tsagedouglas/opt/miniconda3/envs/econ/lib/python3.9/site-packages (from pyppeteer>=0.0.14->requests-html->yahoo_fin) (5.1.0)\n",
      "Requirement already satisfied: six>=1.5 in /Users/tsagedouglas/opt/miniconda3/envs/econ/lib/python3.9/site-packages (from python-dateutil>=2.8.1->pandas->yahoo_fin) (1.16.0)\n",
      "Requirement already satisfied: beautifulsoup4 in /Users/tsagedouglas/opt/miniconda3/envs/econ/lib/python3.9/site-packages (from bs4->requests-html->yahoo_fin) (4.11.1)\n",
      "Requirement already satisfied: importlib-resources>=5.0 in /Users/tsagedouglas/opt/miniconda3/envs/econ/lib/python3.9/site-packages (from fake-useragent->requests-html->yahoo_fin) (5.10.0)\n",
      "Requirement already satisfied: cssselect>=1.2.0 in /Users/tsagedouglas/opt/miniconda3/envs/econ/lib/python3.9/site-packages (from pyquery->requests-html->yahoo_fin) (1.2.0)\n",
      "Requirement already satisfied: lxml>=2.1 in /Users/tsagedouglas/opt/miniconda3/envs/econ/lib/python3.9/site-packages (from pyquery->requests-html->yahoo_fin) (4.9.1)\n",
      "Requirement already satisfied: zipp>=0.5 in /Users/tsagedouglas/opt/miniconda3/envs/econ/lib/python3.9/site-packages (from importlib-metadata>=1.4->pyppeteer>=0.0.14->requests-html->yahoo_fin) (3.11.0)\n",
      "Requirement already satisfied: soupsieve>1.2 in /Users/tsagedouglas/opt/miniconda3/envs/econ/lib/python3.9/site-packages (from beautifulsoup4->bs4->requests-html->yahoo_fin) (2.3.2.post1)\n"
     ]
    }
   ],
   "source": [
    "!pip install yahoo_fin"
   ]
  },
  {
   "cell_type": "code",
   "execution_count": 16,
   "id": "58a655b9",
   "metadata": {},
   "outputs": [],
   "source": [
    "import pandas as pd\n",
    "import numpy as np\n",
    "\n",
    "import yfinance as yf\n",
    "import pandas_datareader as pdread\n",
    "from pandas_datareader import fred\n",
    "\n",
    "import matplotlib.pyplot as plt\n",
    "\n",
    "from statsmodels.tsa.arima.model import ARIMA\n",
    "from yahoo_fin import stock_info as ysi\n",
    "\n",
    "from itertools import chain"
   ]
  },
  {
   "cell_type": "code",
   "execution_count": 17,
   "id": "667d7fb7",
   "metadata": {},
   "outputs": [],
   "source": [
    "from src.utils import apply_datetime_format"
   ]
  },
  {
   "cell_type": "code",
   "execution_count": 18,
   "id": "f6263fb6",
   "metadata": {},
   "outputs": [],
   "source": [
    "# get sp500 composits & market cap\n",
    "sp500_tickers = ysi.tickers_sp500()\n",
    "df = pd.DataFrame(index=sp500_tickers, \n",
    "                  columns=['market_cap'], \n",
    "                  data=[pdread.get_quote_yahoo(item)['marketCap'].values[0] for item in sp500_tickers])\n",
    "sp500_largest = df.sort_values('market_cap', ascending=False).index[:5].values\n",
    "sp500_ticker = ['^GSPC']"
   ]
  },
  {
   "cell_type": "code",
   "execution_count": 19,
   "id": "cd935763",
   "metadata": {},
   "outputs": [],
   "source": [
    "start = '2020-01-01'\n",
    "end = '2022-12-31'"
   ]
  },
  {
   "cell_type": "code",
   "execution_count": 20,
   "id": "b68bbabf",
   "metadata": {},
   "outputs": [
    {
     "name": "stdout",
     "output_type": "stream",
     "text": [
      "[*********************100%***********************]  1 of 1 completed\n",
      "[*********************100%***********************]  1 of 1 completed\n",
      "[*********************100%***********************]  1 of 1 completed\n",
      "[*********************100%***********************]  1 of 1 completed\n",
      "[*********************100%***********************]  1 of 1 completed\n",
      "[*********************100%***********************]  1 of 1 completed\n"
     ]
    }
   ],
   "source": [
    "df_prices = pd.DataFrame()\n",
    "df_prices.index = pd.date_range(start, periods=(apply_datetime_format(end, '%Y-%m-%d') - apply_datetime_format(start, '%Y-%m-%d')).days)\n",
    "\n",
    "for item in [*chain(sp500_largest, sp500_ticker)]:\n",
    "    data = yf.download(item, start, end)\n",
    "    data.columns = list([f'{item}_{x}' for x in data.columns])\n",
    "    df_prices = df_prices.join(data)\n",
    "    \n",
    "# get closing price\n",
    "df_c = df_prices[[item for item in df_prices.columns if 'Adj Close' in item]].copy()\n",
    "df_c.columns = [item[:-10] for item in df_c.columns]\n",
    "df_c.dropna(inplace=True)"
   ]
  },
  {
   "cell_type": "code",
   "execution_count": 21,
   "id": "38d8e424",
   "metadata": {},
   "outputs": [],
   "source": [
    "# get log returns\n",
    "df_rets = np.log(df_c / df_c.shift(1)).dropna()\n",
    "df_rets.sort_index(inplace=True)\n",
    "df_rets.asfreq = \"D\"\n",
    "\n",
    "df_rets['^GSPC_lead'] = df_rets['^GSPC'].shift(1)\n",
    "\n",
    "df_rets.dropna(inplace=True)\n",
    "df_rets.index.asfreq = 'd'\n"
   ]
  },
  {
   "cell_type": "code",
   "execution_count": 22,
   "id": "1eaa265d",
   "metadata": {},
   "outputs": [],
   "source": [
    "# save data to file\n",
    "df_rets.to_csv(os.path.join(DATA_DIR, 'returns.csv'))"
   ]
  },
  {
   "cell_type": "code",
   "execution_count": null,
   "id": "f0c1a860",
   "metadata": {},
   "outputs": [],
   "source": [
    "# load data from file\n",
    "df_rets = pd.read_csv(os.path.join(DATA_DIR, 'returns.csv'))"
   ]
  },
  {
   "cell_type": "code",
   "execution_count": null,
   "id": "709d5aad",
   "metadata": {},
   "outputs": [],
   "source": [
    "# Error Attempts \n",
    "# original : \n",
    "# mydata = pd.read_csv('mydataset.csv', names = ['value'], header = 0)  \n",
    "# mydata = pd.read_csv(os.path.join(DATA_DIR, 'returns.csv'))  \n",
    "    # But this is wrong because I need the 'value' argument \n",
    "#mydata = pd.read_csv('returns.csv', names = ['value'], header = 0)  \n",
    "    # But this is wrong because it 'cannot find the file'\n",
    "#mydata = pd.read_csv('returns.csv', names = ['0,AAPL,MSFT,GOOG,GOOGL,AMZN,^GSPC,^GSPC_lead'], header = 0)  \n",
    "#mydata = pd.read_csv(os.path.join(DATA_DIR, 'returns.csv'), names = ['0,AAPL,MSFT,GOOG,GOOGL,AMZN,^GSPC,^GSPC_lead'], header = 0)  \n",
    "\n",
    "# what works: mydata = pd.read_csv(os.path.join(DATA_DIR, 'returns.csv'), names = ['value'], header = 0)  \n"
   ]
  },
  {
   "cell_type": "code",
   "execution_count": null,
   "id": "9f648a71",
   "metadata": {
    "scrolled": true
   },
   "outputs": [],
   "source": [
    "# Checking for stationarity via ADF test below\n",
    "# dickey-fuller attempt 1 \n",
    "from statsmodels.tsa.stattools import adfuller  \n",
    "from numpy import log  \n",
    "import pandas as pd  \n",
    "  \n",
    "mydata = pd.read_csv(os.path.join(DATA_DIR, 'returns.csv'), names = ['value'], header = 0)  \n",
    "\n",
    "res = adfuller(mydata.value.dropna())  \n",
    "                     \n",
    "print('Augmented Dickey-Fuller Statistic: %f' % res[0])  \n",
    "print('p-value: %f' % res[1])  "
   ]
  },
  {
   "cell_type": "code",
   "execution_count": null,
   "id": "1e755eff",
   "metadata": {},
   "outputs": [],
   "source": [
    "# determining the ADF for the 'd' value of ARIMA \n"
   ]
  },
  {
   "cell_type": "code",
   "execution_count": null,
   "id": "072d1a6f",
   "metadata": {},
   "outputs": [],
   "source": [
    "# Next looking at autocorrelation \n",
    "import numpy as np, pandas as pd  \n",
    "from statsmodels.graphics.tsaplots import plot_acf, plot_pacf  \n",
    "import matplotlib.pyplot as plt \n",
    "plt.rcParams.update({'figure.figsize' : (9,7), 'figure.dpi' : 120})\n",
    "plt.show()"
   ]
  },
  {
   "cell_type": "code",
   "execution_count": null,
   "id": "3405f625",
   "metadata": {
    "scrolled": true
   },
   "outputs": [],
   "source": [
    "# Importing data  \n",
    "df = pd.read_csv(os.path.join(DATA_DIR, 'returns.csv'), names = ['value'], header = 0)  "
   ]
  },
  {
   "cell_type": "code",
   "execution_count": null,
   "id": "43890f84",
   "metadata": {
    "scrolled": true
   },
   "outputs": [],
   "source": [
    "#print (df)"
   ]
  },
  {
   "cell_type": "code",
   "execution_count": null,
   "id": "237e1f48",
   "metadata": {
    "scrolled": true
   },
   "outputs": [],
   "source": [
    "# Attempt to correct error 1 \n",
    "#ndarray = df.to_numpy()\n",
    "# print(ndarray)"
   ]
  },
  {
   "cell_type": "code",
   "execution_count": null,
   "id": "e01595c6",
   "metadata": {
    "scrolled": true
   },
   "outputs": [],
   "source": [
    "# The Genuine Series \n",
    "fig, axes = plt.subplots(3, 2, sharex = True)  \n",
    "axes[0, 0].plot(df.value); axes[0, 0].set_title('The Genuine Series')  \n",
    "plot_acf(df.value, ax = axes[0, 1])"
   ]
  },
  {
   "cell_type": "code",
   "execution_count": null,
   "id": "f060661d",
   "metadata": {
    "scrolled": true
   },
   "outputs": [],
   "source": [
    "# Order of Differencing: First  \n",
    "axes[1, 0].plot(mydata.value.diff()); axes[1, 0].set_title('Order of Differencing: First')  \n",
    "plot_acf(df.value.diff().dropna(), ax = axes[1, 1])  "
   ]
  },
  {
   "cell_type": "code",
   "execution_count": null,
   "id": "c73918fd",
   "metadata": {},
   "outputs": [],
   "source": [
    "# Order of Differencing: Second  \n",
    "axes[2, 0].plot(df.value.diff().diff()); axes[2, 0].set_title('Order of Differencing: Second')  \n",
    "plot_acf(df.value.diff().diff().dropna(), ax = axes[2, 1])  \n",
    "plt.show()  \n"
   ]
  },
  {
   "cell_type": "code",
   "execution_count": null,
   "id": "458fcdff",
   "metadata": {},
   "outputs": [],
   "source": [
    "# Determine the differencing above. Weak/ strong stationarity? \n",
    "# Next, looking at how to make the data stationary via 3 tests. "
   ]
  },
  {
   "cell_type": "code",
   "execution_count": null,
   "id": "cfb0464d",
   "metadata": {},
   "outputs": [],
   "source": [
    "!pip install pmdarima"
   ]
  },
  {
   "cell_type": "code",
   "execution_count": null,
   "id": "230f945a",
   "metadata": {
    "scrolled": false
   },
   "outputs": [],
   "source": [
    "from pmdarima.arima.utils import ndiffs  \n",
    "import pandas as pd\n",
    "import os"
   ]
  },
  {
   "cell_type": "code",
   "execution_count": null,
   "id": "2195a6f4",
   "metadata": {
    "scrolled": false
   },
   "outputs": [],
   "source": [
    "df = pd.read_csv(pd.read_csv(os.path.join(DATA_DIR, 'returns.csv'), names = ['value'], header = 0)\n",
    "X = df.value  "
   ]
  },
  {
   "cell_type": "code",
   "execution_count": null,
   "id": "c20d6f61",
   "metadata": {},
   "outputs": [],
   "source": [
    "# Augmented Dickey Fuller Test  \n",
    "adftest = ndiffs(df, test = 'adf')  "
   ]
  },
  {
   "cell_type": "code",
   "execution_count": null,
   "id": "0d2dc3b1",
   "metadata": {
    "scrolled": true
   },
   "outputs": [],
   "source": [
    "# KPSS Test  \n",
    "kpsstest = ndiffs(df, test = 'kpss')  "
   ]
  },
  {
   "cell_type": "code",
   "execution_count": null,
   "id": "1eccc0f2",
   "metadata": {},
   "outputs": [],
   "source": [
    "# PP Test  \n",
    "pptest = ndiffs(df, test = 'pp')  "
   ]
  },
  {
   "cell_type": "code",
   "execution_count": null,
   "id": "53eed893",
   "metadata": {},
   "outputs": [],
   "source": [
    "print(\"ADF Test =\", adftest)  \n",
    "print(\"KPSS Test =\", kpsstest)  \n",
    "print(\"PP Test =\", pptest) "
   ]
  },
  {
   "cell_type": "code",
   "execution_count": null,
   "id": "9308e832",
   "metadata": {},
   "outputs": [],
   "source": [
    "#Next finding the 'p' term for AR via a partial auocorrelation graph"
   ]
  },
  {
   "cell_type": "code",
   "execution_count": null,
   "id": "15ad3193",
   "metadata": {},
   "outputs": [],
   "source": [
    "import numpy as np, pandas as pd  \n",
    "from statsmodels.graphics.tsaplots import plot_acf, plot_pacf  \n",
    "import matplotlib.pyplot as plt  "
   ]
  },
  {
   "cell_type": "code",
   "execution_count": null,
   "id": "4e3676a5",
   "metadata": {},
   "outputs": [],
   "source": [
    "plt.rcParams.update({'figure.figsize':(9,3), 'figure.dpi':120})  "
   ]
  },
  {
   "cell_type": "code",
   "execution_count": null,
   "id": "21fc0f2c",
   "metadata": {},
   "outputs": [],
   "source": [
    "import os"
   ]
  },
  {
   "cell_type": "code",
   "execution_count": null,
   "id": "ff697822",
   "metadata": {
    "scrolled": true
   },
   "outputs": [],
   "source": [
    "# importing data \n",
    "df = pd.read_csv(os.path.join(DATA_DIR, 'returns.csv'), names = ['value'], header = 0)  "
   ]
  },
  {
   "cell_type": "code",
   "execution_count": null,
   "id": "e251aa40",
   "metadata": {
    "scrolled": false
   },
   "outputs": [],
   "source": [
    " plt.plot(df.to_numpy(), label='Close')"
   ]
  },
  {
   "cell_type": "code",
   "execution_count": null,
   "id": "47ce6deb",
   "metadata": {
    "scrolled": true
   },
   "outputs": [],
   "source": [
    "ndarray = np.asarray(df)\n",
    "print(ndarray)"
   ]
  },
  {
   "cell_type": "code",
   "execution_count": null,
   "id": "f75485dd",
   "metadata": {
    "scrolled": true
   },
   "outputs": [],
   "source": [
    "fig, axes = plt.subplots(1, 2, sharex = True)\n",
    "axes[0].plot(ndarray); axes[0].set_title('Order of Differencing: First')  \n",
    "axes[1].set(ylim = (0,5))  \n",
    "plot_pacf(ndarray, ax = axes[1]) "
   ]
  },
  {
   "cell_type": "code",
   "execution_count": null,
   "id": "18287fd5",
   "metadata": {},
   "outputs": [],
   "source": [
    "# Look a the blue region to determine if it is useful or not\n",
    "# In the PAC graph, there should be a light blue box showing the significance-- need to fix this \n",
    "# Otherwise, for PAC I would say there is an order of 1 or 2 at the moment"
   ]
  },
  {
   "cell_type": "code",
   "execution_count": null,
   "id": "5f96ef86",
   "metadata": {},
   "outputs": [],
   "source": [
    "# Results into a matrix"
   ]
  },
  {
   "cell_type": "code",
   "execution_count": null,
   "id": "4ef4acce",
   "metadata": {},
   "outputs": [],
   "source": [
    "#Next, finding the 'q' - Moving Averages\n",
    "import numpy as np, pandas as pd  \n",
    "from statsmodels.graphics.tsaplots import plot_acf, plot_pacf  \n",
    "import matplotlib.pyplot as plt  \n",
    "  \n",
    "plt.rcParams.update({'figure.figsize' : (9,3), 'figure.dpi' : 120})  "
   ]
  },
  {
   "cell_type": "code",
   "execution_count": null,
   "id": "cb4d5732",
   "metadata": {
    "scrolled": true
   },
   "outputs": [],
   "source": [
    "# Importing data  \n",
    "mydata = pd.read_csv(os.path.join(DATA_DIR, 'returns.csv'), names = ['value'], header = 0)  "
   ]
  },
  {
   "cell_type": "code",
   "execution_count": null,
   "id": "130d6c3e",
   "metadata": {},
   "outputs": [],
   "source": [
    " plt.plot(df.to_numpy(), label='Close')"
   ]
  },
  {
   "cell_type": "code",
   "execution_count": null,
   "id": "cae0c58c",
   "metadata": {},
   "outputs": [],
   "source": [
    "mydata = np.asarray(df)\n",
    "print(mydata)"
   ]
  },
  {
   "cell_type": "code",
   "execution_count": null,
   "id": "722779ee",
   "metadata": {
    "scrolled": false
   },
   "outputs": [],
   "source": [
    "fig, axes = plt.subplots(1, 2, sharex = True)  \n",
    "axes[0].plot(mydata); axes[0].set_title('Order of Differencing: First')  \n",
    "axes[1].set(ylim = (0, 1.2))  \n",
    "plot_acf(mydata, ax = axes[1])  \n",
    "plt.show() "
   ]
  },
  {
   "cell_type": "code",
   "execution_count": null,
   "id": "94029da3",
   "metadata": {},
   "outputs": [],
   "source": [
    "# Looking at the autocorrelation graph, we can determine the number needed for q \n",
    "# Again, missing that blue box for significance \n",
    "#3 Otherwise, I would say that we have an order of 1 here "
   ]
  },
  {
   "cell_type": "code",
   "execution_count": null,
   "id": "d538f96d",
   "metadata": {},
   "outputs": [],
   "source": [
    "# Now building the ARIMA model \n",
    "\n",
    "import numpy as np, pandas as pd  \n",
    "import statsmodels.api as sm"
   ]
  },
  {
   "cell_type": "code",
   "execution_count": null,
   "id": "4cc665ad",
   "metadata": {
    "scrolled": true
   },
   "outputs": [],
   "source": [
    "# importing data  \n",
    "mydata = pd.read_csv(os.path.join(DATA_DIR, 'returns.csv'), names = ['value'], header = 0)  "
   ]
  },
  {
   "cell_type": "code",
   "execution_count": null,
   "id": "3beca033",
   "metadata": {
    "scrolled": true
   },
   "outputs": [],
   "source": [
    "# Creating ARIMA model  \n",
    "# change the () to whatever numbers we get from the results for p,d,q above \n",
    "mymodel = sm.tsa.arima.ARIMA(mydata.value, order = (1, 1, 2))  \n",
    "modelfit = mymodel.fit()  \n",
    "\n",
    "print(modelfit.summary())  "
   ]
  },
  {
   "cell_type": "code",
   "execution_count": null,
   "id": "033d5296",
   "metadata": {
    "scrolled": true
   },
   "outputs": [],
   "source": [
    "# Creating ARIMA model 2\n",
    "# change the () to whatever numbers we get from the results for p,d,q above \n",
    "mymodel = sm.tsa.arima.ARIMA(mydata.value, order = (1, 0, 1))  \n",
    "modelfit = mymodel.fit()  \n",
    "\n",
    "print(modelfit.summary())"
   ]
  },
  {
   "cell_type": "code",
   "execution_count": null,
   "id": "eee4c369",
   "metadata": {},
   "outputs": [],
   "source": [
    "# These are the results. We can alter the output by changing the AIC/ BIC if we have a close call. \n",
    "\n",
    "# Now we plot the residuals to ensure that there is no constant mean or varaince to worry about "
   ]
  },
  {
   "cell_type": "code",
   "execution_count": null,
   "id": "45953746",
   "metadata": {},
   "outputs": [],
   "source": [
    "import numpy as np, pandas as pd  \n",
    "import statsmodels.api as sm\n",
    "import matplotlib.pyplot as plt  "
   ]
  },
  {
   "cell_type": "code",
   "execution_count": null,
   "id": "e7003fba",
   "metadata": {},
   "outputs": [],
   "source": [
    "# Plotting Residual Errors\n",
    "# Work on the scale of these graphs\n",
    "myresiduals = pd.DataFrame(modelfit.resid)  \n",
    "fig, ax = plt.subplots(1,2)  \n",
    "myresiduals.plot(title = \"Residuals\", ax = ax[0])  \n",
    "myresiduals.plot(kind = 'kde', title = 'Density', ax = ax[1])  \n",
    "plt.show()  "
   ]
  },
  {
   "cell_type": "code",
   "execution_count": null,
   "id": "0d1dc971",
   "metadata": {},
   "outputs": [],
   "source": [
    "# finally, graphing our predicted versus actual values for trend analysis "
   ]
  },
  {
   "cell_type": "code",
   "execution_count": null,
   "id": "3df69c77",
   "metadata": {},
   "outputs": [],
   "source": [
    "import numpy as np, pandas as pd  \n",
    "from statsmodels.tsa.arima_model import ARIMA  \n",
    "import matplotlib.pyplot as plt \n",
    "import statsmodels.api as sm\n",
    "from statsmodels.graphics.tsaplots import plot_predict"
   ]
  },
  {
   "cell_type": "code",
   "execution_count": null,
   "id": "a7d19c39",
   "metadata": {},
   "outputs": [],
   "source": [
    "plt.rcParams.update({'figure.figsize' : (9,3), 'figure.dpi' : 120})  \n"
   ]
  },
  {
   "cell_type": "code",
   "execution_count": 48,
   "id": "56cfe6d0",
   "metadata": {},
   "outputs": [],
   "source": [
    "# importing data  \n",
    "mydata = pd.read_csv(os.path.join(DATA_DIR, 'returns.csv'), names = ['value'], header = 0)  "
   ]
  },
  {
   "cell_type": "code",
   "execution_count": null,
   "id": "5cc81a74",
   "metadata": {
    "scrolled": false
   },
   "outputs": [],
   "source": [
    "# The best fitting aRIMA model from before\n",
    "# Change the () to whatever numbers we get from the results for p,d,q above \n",
    "mymodel = sm.tsa.arima.ARIMA(mydata.value, order = (1, 0, 1))  \n",
    "modelfit = mymodel.fit()  \n",
    "\n",
    "print(modelfit.summary()) "
   ]
  },
  {
   "cell_type": "code",
   "execution_count": null,
   "id": "2d2a3310",
   "metadata": {
    "scrolled": true
   },
   "outputs": [],
   "source": [
    "# Actual vs Fitted  \n",
    "\n",
    "import matplotlib.pyplot as plt\n",
    "import pandas as pd\n",
    "import statsmodels.api as sm\n",
    "from statsmodels.graphics.tsaplots import plot_predict\n",
    "from statsmodels.tsa.arima.model import ARIMA\n",
    "\n",
    "df = pd.read_csv(os.path.join(DATA_DIR, 'returns.csv'), names = ['value'], header = 0)  \n",
    "dta.index = pd.date_range(start = '2020-01-01', end = '2022-01-01', freq='A')\n",
    "res = ARIMA(dta, order=(1,0,1)).fit()\n",
    "fig, ax = plt.subplots()\n",
    "ax = dta.loc['2020-01-01':].plot(ax=ax)\n",
    "plot_predict(res, '2020-01-01', '2022-01-01', ax=ax)\n",
    "plt.show()"
   ]
  },
  {
   "cell_type": "code",
   "execution_count": null,
   "id": "7f23a44b",
   "metadata": {},
   "outputs": [],
   "source": [
    "# Working on making these into a matrix "
   ]
  },
  {
   "cell_type": "code",
   "execution_count": null,
   "id": "47d388f0",
   "metadata": {},
   "outputs": [],
   "source": [
    "test['AAPL'].values.reshape(len(test),1)"
   ]
  },
  {
   "cell_type": "code",
   "execution_count": null,
   "id": "8f843dfa",
   "metadata": {
    "scrolled": true
   },
   "outputs": [],
   "source": [
    "[[(x, y) for x in range (1,5)] for y in range(1, 5)]"
   ]
  },
  {
   "cell_type": "code",
   "execution_count": null,
   "id": "f2e3097a",
   "metadata": {},
   "outputs": [],
   "source": [
    "mod = ARIMA(train['^GSPC'].values, order=(1,0,1))\n",
    "res = mod.fit()\n",
    "res.summary()"
   ]
  },
  {
   "cell_type": "code",
   "execution_count": null,
   "id": "1b60b118",
   "metadata": {},
   "outputs": [],
   "source": [
    "# Tryinig a different method for ARIMA so that i may b easier to outpu the coefficients iinto a matrix \n",
    "# No plots necessary, just do a function --> marix? \n",
    "# https://towardsdatascience.com/machine-learning-part-19-time-series-and-autoregressive-integrated-moving-average-model-arima-c1005347b0d7"
   ]
  },
  {
   "cell_type": "code",
   "execution_count": 44,
   "id": "f9cd0808",
   "metadata": {},
   "outputs": [],
   "source": [
    "import numpy as np\n",
    "import pandas as pd\n",
    "from matplotlib import pyplot as plt\n",
    "from statsmodels.tsa.stattools import adfuller\n",
    "from statsmodels.tsa.seasonal import seasonal_decompose\n",
    "from statsmodels.tsa.arima_model import ARIMA\n",
    "import statsmodels.api as sm\n",
    "\n",
    "from pandas.plotting import register_matplotlib_converters\n",
    "register_matplotlib_converters()"
   ]
  },
  {
   "cell_type": "code",
   "execution_count": 24,
   "id": "ff78797f",
   "metadata": {},
   "outputs": [
    {
     "data": {
      "text/html": [
       "<div>\n",
       "<style scoped>\n",
       "    .dataframe tbody tr th:only-of-type {\n",
       "        vertical-align: middle;\n",
       "    }\n",
       "\n",
       "    .dataframe tbody tr th {\n",
       "        vertical-align: top;\n",
       "    }\n",
       "\n",
       "    .dataframe thead th {\n",
       "        text-align: right;\n",
       "    }\n",
       "</style>\n",
       "<table border=\"1\" class=\"dataframe\">\n",
       "  <thead>\n",
       "    <tr style=\"text-align: right;\">\n",
       "      <th></th>\n",
       "      <th>market_cap</th>\n",
       "    </tr>\n",
       "  </thead>\n",
       "  <tbody>\n",
       "    <tr>\n",
       "      <th>A</th>\n",
       "      <td>39020838912</td>\n",
       "    </tr>\n",
       "    <tr>\n",
       "      <th>AAL</th>\n",
       "      <td>8937632768</td>\n",
       "    </tr>\n",
       "    <tr>\n",
       "      <th>AAP</th>\n",
       "      <td>6569315328</td>\n",
       "    </tr>\n",
       "    <tr>\n",
       "      <th>AAPL</th>\n",
       "      <td>2535459389440</td>\n",
       "    </tr>\n",
       "    <tr>\n",
       "      <th>ABBV</th>\n",
       "      <td>278769401856</td>\n",
       "    </tr>\n",
       "  </tbody>\n",
       "</table>\n",
       "</div>"
      ],
      "text/plain": [
       "         market_cap\n",
       "A       39020838912\n",
       "AAL      8937632768\n",
       "AAP      6569315328\n",
       "AAPL  2535459389440\n",
       "ABBV   278769401856"
      ]
     },
     "execution_count": 24,
     "metadata": {},
     "output_type": "execute_result"
    }
   ],
   "source": [
    "df.head()"
   ]
  },
  {
   "cell_type": "code",
   "execution_count": 25,
   "id": "670dc387",
   "metadata": {
    "scrolled": true
   },
   "outputs": [
    {
     "data": {
      "text/plain": [
       "[<matplotlib.lines.Line2D at 0x142f1a3a0>]"
      ]
     },
     "execution_count": 25,
     "metadata": {},
     "output_type": "execute_result"
    },
    {
     "data": {
      "image/png": "[encoded data removed]",
      "text/plain": [
       "<Figure size 640x480 with 1 Axes>"
      ]
     },
     "metadata": {},
     "output_type": "display_data"
    }
   ],
   "source": [
    "plt.xlabel('Date')\n",
    "plt.ylabel('S&P 500')\n",
    "plt.plot(df)"
   ]
  },
  {
   "cell_type": "code",
   "execution_count": 26,
   "id": "3babbc1d",
   "metadata": {},
   "outputs": [
    {
     "data": {
      "image/png": "[encoded data removed]",
      "text/plain": [
       "<Figure size 640x480 with 1 Axes>"
      ]
     },
     "metadata": {},
     "output_type": "display_data"
    }
   ],
   "source": [
    "rolling_mean = df.rolling(window = 12).mean()\n",
    "rolling_std = df.rolling(window = 12).std()\n",
    "plt.plot(df, color = 'blue', label = 'Original')\n",
    "plt.plot(rolling_mean, color = 'red', label = 'Rolling Mean')\n",
    "plt.plot(rolling_std, color = 'black', label = 'Rolling Std')\n",
    "plt.legend(loc = 'best')\n",
    "plt.title('Rolling Mean & Rolling Standard Deviation')\n",
    "plt.show()"
   ]
  },
  {
   "cell_type": "code",
   "execution_count": null,
   "id": "a90ea9b4",
   "metadata": {},
   "outputs": [],
   "source": [
    "#As you can see, the rolling mean and rolling standard deviation do not increase with time. \n",
    "#Therefore, we can conclude that the time series is  stationary."
   ]
  },
  {
   "cell_type": "code",
   "execution_count": 36,
   "id": "3c4cfe83",
   "metadata": {
    "scrolled": true
   },
   "outputs": [
    {
     "name": "stdout",
     "output_type": "stream",
     "text": [
      "ADF Statistic: -20.327143917662045\n",
      "p-value: 0.0\n",
      "Critical Values:\n",
      "\t1%: -3.4434437319767452\n",
      "\t5%: -2.8673146875484368\n",
      "\t10%: -2.569845688481135\n"
     ]
    }
   ],
   "source": [
    "result = adfuller(df['market_cap'])\n",
    "print('ADF Statistic: {}'.format(result[0]))\n",
    "print('p-value: {}'.format(result[1]))\n",
    "print('Critical Values:')\n",
    "for key, value in result[4].items():\n",
    "    print('\\t{}: {}'.format(key, value))\n"
   ]
  },
  {
   "cell_type": "code",
   "execution_count": 37,
   "id": "9983af46",
   "metadata": {
    "scrolled": true
   },
   "outputs": [
    {
     "data": {
      "text/plain": [
       "[<matplotlib.lines.Line2D at 0x14592fd00>]"
      ]
     },
     "execution_count": 37,
     "metadata": {},
     "output_type": "execute_result"
    },
    {
     "data": {
      "image/png": "[encoded data removed]",
      "text/plain": [
       "<Figure size 640x480 with 1 Axes>"
      ]
     },
     "metadata": {},
     "output_type": "display_data"
    }
   ],
   "source": [
    "df_log = np.log(df)\n",
    "plt.plot(df_log)"
   ]
  },
  {
   "cell_type": "code",
   "execution_count": 58,
   "id": "0ada6786",
   "metadata": {
    "scrolled": true
   },
   "outputs": [
    {
     "name": "stderr",
     "output_type": "stream",
     "text": [
      "/Users/tsagedouglas/opt/miniconda3/envs/econ/lib/python3.9/site-packages/statsmodels/tsa/base/tsa_model.py:471: ValueWarning: An unsupported index was provided and will be ignored when e.g. forecasting.\n",
      "  self._init_dates(dates, freq)\n",
      "/Users/tsagedouglas/opt/miniconda3/envs/econ/lib/python3.9/site-packages/statsmodels/tsa/base/tsa_model.py:471: ValueWarning: An unsupported index was provided and will be ignored when e.g. forecasting.\n",
      "  self._init_dates(dates, freq)\n",
      "/Users/tsagedouglas/opt/miniconda3/envs/econ/lib/python3.9/site-packages/statsmodels/tsa/base/tsa_model.py:471: ValueWarning: An unsupported index was provided and will be ignored when e.g. forecasting.\n",
      "  self._init_dates(dates, freq)\n"
     ]
    },
    {
     "ename": "NameError",
     "evalue": "name 'df_log_shift' is not defined",
     "output_type": "error",
     "traceback": [
      "\u001b[0;31m---------------------------------------------------------------------------\u001b[0m",
      "\u001b[0;31mNameError\u001b[0m                                 Traceback (most recent call last)",
      "Cell \u001b[0;32mIn[58], line 3\u001b[0m\n\u001b[1;32m      1\u001b[0m model \u001b[38;5;241m=\u001b[39m sm\u001b[38;5;241m.\u001b[39mtsa\u001b[38;5;241m.\u001b[39marima\u001b[38;5;241m.\u001b[39mARIMA(mydata\u001b[38;5;241m.\u001b[39mvalue, order \u001b[38;5;241m=\u001b[39m (\u001b[38;5;241m1\u001b[39m, \u001b[38;5;241m0\u001b[39m, \u001b[38;5;241m1\u001b[39m))  \n\u001b[1;32m      2\u001b[0m results \u001b[38;5;241m=\u001b[39m model\u001b[38;5;241m.\u001b[39mfit()\n\u001b[0;32m----> 3\u001b[0m plt\u001b[38;5;241m.\u001b[39mplot(\u001b[43mdf_log_shift\u001b[49m)\n\u001b[1;32m      4\u001b[0m plt\u001b[38;5;241m.\u001b[39mplot(results\u001b[38;5;241m.\u001b[39mfittedvalues, color\u001b[38;5;241m=\u001b[39m\u001b[38;5;124m'\u001b[39m\u001b[38;5;124mred\u001b[39m\u001b[38;5;124m'\u001b[39m)\n",
      "\u001b[0;31mNameError\u001b[0m: name 'df_log_shift' is not defined"
     ]
    }
   ],
   "source": [
    "model = sm.tsa.arima.ARIMA(mydata.value, order = (1, 0, 1))  \n",
    "results = model.fit()\n",
    "plt.plot(df_log_shift)\n",
    "plt.plot(results.fittedvalues, color='red')"
   ]
  },
  {
   "cell_type": "code",
   "execution_count": 57,
   "id": "8116c99c",
   "metadata": {},
   "outputs": [
    {
     "ename": "KeyError",
     "evalue": "'returns'",
     "output_type": "error",
     "traceback": [
      "\u001b[0;31m---------------------------------------------------------------------------\u001b[0m",
      "\u001b[0;31mKeyError\u001b[0m                                  Traceback (most recent call last)",
      "File \u001b[0;32m~/opt/miniconda3/envs/econ/lib/python3.9/site-packages/pandas/core/indexes/base.py:3803\u001b[0m, in \u001b[0;36mIndex.get_loc\u001b[0;34m(self, key, method, tolerance)\u001b[0m\n\u001b[1;32m   3802\u001b[0m \u001b[38;5;28;01mtry\u001b[39;00m:\n\u001b[0;32m-> 3803\u001b[0m     \u001b[38;5;28;01mreturn\u001b[39;00m \u001b[38;5;28;43mself\u001b[39;49m\u001b[38;5;241;43m.\u001b[39;49m\u001b[43m_engine\u001b[49m\u001b[38;5;241;43m.\u001b[39;49m\u001b[43mget_loc\u001b[49m\u001b[43m(\u001b[49m\u001b[43mcasted_key\u001b[49m\u001b[43m)\u001b[49m\n\u001b[1;32m   3804\u001b[0m \u001b[38;5;28;01mexcept\u001b[39;00m \u001b[38;5;167;01mKeyError\u001b[39;00m \u001b[38;5;28;01mas\u001b[39;00m err:\n",
      "File \u001b[0;32m~/opt/miniconda3/envs/econ/lib/python3.9/site-packages/pandas/_libs/index.pyx:138\u001b[0m, in \u001b[0;36mpandas._libs.index.IndexEngine.get_loc\u001b[0;34m()\u001b[0m\n",
      "File \u001b[0;32m~/opt/miniconda3/envs/econ/lib/python3.9/site-packages/pandas/_libs/index.pyx:165\u001b[0m, in \u001b[0;36mpandas._libs.index.IndexEngine.get_loc\u001b[0;34m()\u001b[0m\n",
      "File \u001b[0;32mpandas/_libs/hashtable_class_helper.pxi:5745\u001b[0m, in \u001b[0;36mpandas._libs.hashtable.PyObjectHashTable.get_item\u001b[0;34m()\u001b[0m\n",
      "File \u001b[0;32mpandas/_libs/hashtable_class_helper.pxi:5753\u001b[0m, in \u001b[0;36mpandas._libs.hashtable.PyObjectHashTable.get_item\u001b[0;34m()\u001b[0m\n",
      "\u001b[0;31mKeyError\u001b[0m: 'returns'",
      "\nThe above exception was the direct cause of the following exception:\n",
      "\u001b[0;31mKeyError\u001b[0m                                  Traceback (most recent call last)",
      "Cell \u001b[0;32mIn[57], line 3\u001b[0m\n\u001b[1;32m      1\u001b[0m predictions_ARIMA_diff \u001b[38;5;241m=\u001b[39m pd\u001b[38;5;241m.\u001b[39mSeries(results\u001b[38;5;241m.\u001b[39mfittedvalues, copy\u001b[38;5;241m=\u001b[39m\u001b[38;5;28;01mTrue\u001b[39;00m)\n\u001b[1;32m      2\u001b[0m predictions_ARIMA_diff_cumsum \u001b[38;5;241m=\u001b[39m predictions_ARIMA_diff\u001b[38;5;241m.\u001b[39mcumsum()\n\u001b[0;32m----> 3\u001b[0m predictions_ARIMA_log \u001b[38;5;241m=\u001b[39m pd\u001b[38;5;241m.\u001b[39mSeries(\u001b[43mdf_log\u001b[49m\u001b[43m[\u001b[49m\u001b[38;5;124;43m'\u001b[39;49m\u001b[38;5;124;43mreturns\u001b[39;49m\u001b[38;5;124;43m'\u001b[39;49m\u001b[43m]\u001b[49m\u001b[38;5;241m.\u001b[39miloc[\u001b[38;5;241m0\u001b[39m], index\u001b[38;5;241m=\u001b[39mdf_log\u001b[38;5;241m.\u001b[39mindex)\n\u001b[1;32m      4\u001b[0m predictions_ARIMA_log \u001b[38;5;241m=\u001b[39m predictions_ARIMA_log\u001b[38;5;241m.\u001b[39madd(predictions_ARIMA_diff_cumsum, fill_value\u001b[38;5;241m=\u001b[39m\u001b[38;5;241m0\u001b[39m)\n\u001b[1;32m      5\u001b[0m predictions_ARIMA \u001b[38;5;241m=\u001b[39m np\u001b[38;5;241m.\u001b[39mexp(predictions_ARIMA_log)\n",
      "File \u001b[0;32m~/opt/miniconda3/envs/econ/lib/python3.9/site-packages/pandas/core/frame.py:3805\u001b[0m, in \u001b[0;36mDataFrame.__getitem__\u001b[0;34m(self, key)\u001b[0m\n\u001b[1;32m   3803\u001b[0m \u001b[38;5;28;01mif\u001b[39;00m \u001b[38;5;28mself\u001b[39m\u001b[38;5;241m.\u001b[39mcolumns\u001b[38;5;241m.\u001b[39mnlevels \u001b[38;5;241m>\u001b[39m \u001b[38;5;241m1\u001b[39m:\n\u001b[1;32m   3804\u001b[0m     \u001b[38;5;28;01mreturn\u001b[39;00m \u001b[38;5;28mself\u001b[39m\u001b[38;5;241m.\u001b[39m_getitem_multilevel(key)\n\u001b[0;32m-> 3805\u001b[0m indexer \u001b[38;5;241m=\u001b[39m \u001b[38;5;28;43mself\u001b[39;49m\u001b[38;5;241;43m.\u001b[39;49m\u001b[43mcolumns\u001b[49m\u001b[38;5;241;43m.\u001b[39;49m\u001b[43mget_loc\u001b[49m\u001b[43m(\u001b[49m\u001b[43mkey\u001b[49m\u001b[43m)\u001b[49m\n\u001b[1;32m   3806\u001b[0m \u001b[38;5;28;01mif\u001b[39;00m is_integer(indexer):\n\u001b[1;32m   3807\u001b[0m     indexer \u001b[38;5;241m=\u001b[39m [indexer]\n",
      "File \u001b[0;32m~/opt/miniconda3/envs/econ/lib/python3.9/site-packages/pandas/core/indexes/base.py:3805\u001b[0m, in \u001b[0;36mIndex.get_loc\u001b[0;34m(self, key, method, tolerance)\u001b[0m\n\u001b[1;32m   3803\u001b[0m     \u001b[38;5;28;01mreturn\u001b[39;00m \u001b[38;5;28mself\u001b[39m\u001b[38;5;241m.\u001b[39m_engine\u001b[38;5;241m.\u001b[39mget_loc(casted_key)\n\u001b[1;32m   3804\u001b[0m \u001b[38;5;28;01mexcept\u001b[39;00m \u001b[38;5;167;01mKeyError\u001b[39;00m \u001b[38;5;28;01mas\u001b[39;00m err:\n\u001b[0;32m-> 3805\u001b[0m     \u001b[38;5;28;01mraise\u001b[39;00m \u001b[38;5;167;01mKeyError\u001b[39;00m(key) \u001b[38;5;28;01mfrom\u001b[39;00m \u001b[38;5;21;01merr\u001b[39;00m\n\u001b[1;32m   3806\u001b[0m \u001b[38;5;28;01mexcept\u001b[39;00m \u001b[38;5;167;01mTypeError\u001b[39;00m:\n\u001b[1;32m   3807\u001b[0m     \u001b[38;5;66;03m# If we have a listlike key, _check_indexing_error will raise\u001b[39;00m\n\u001b[1;32m   3808\u001b[0m     \u001b[38;5;66;03m#  InvalidIndexError. Otherwise we fall through and re-raise\u001b[39;00m\n\u001b[1;32m   3809\u001b[0m     \u001b[38;5;66;03m#  the TypeError.\u001b[39;00m\n\u001b[1;32m   3810\u001b[0m     \u001b[38;5;28mself\u001b[39m\u001b[38;5;241m.\u001b[39m_check_indexing_error(key)\n",
      "\u001b[0;31mKeyError\u001b[0m: 'returns'"
     ]
    }
   ],
   "source": [
    "predictions_ARIMA_diff = pd.Series(results.fittedvalues, copy=True)\n",
    "predictions_ARIMA_diff_cumsum = predictions_ARIMA_diff.cumsum()\n",
    "predictions_ARIMA_log = pd.Series(df_log['returns'].iloc[0], index=df_log.index)\n",
    "predictions_ARIMA_log = predictions_ARIMA_log.add(predictions_ARIMA_diff_cumsum, fill_value=0)\n",
    "predictions_ARIMA = np.exp(predictions_ARIMA_log)\n",
    "plt.plot(df)\n",
    "plt.plot(predictions_ARIMA)"
   ]
  },
  {
   "cell_type": "code",
   "execution_count": null,
   "id": "7ccbb8c4",
   "metadata": {},
   "outputs": [],
   "source": [
    "results.plot_predict(1,264)"
   ]
  },
  {
   "cell_type": "code",
   "execution_count": 34,
   "id": "8d614439",
   "metadata": {
    "scrolled": true
   },
   "outputs": [
    {
     "name": "stdout",
     "output_type": "stream",
     "text": [
      "         market_cap\n",
      "A       39020838912\n",
      "AAL      8937632768\n",
      "AAP      6569315328\n",
      "AAPL  2535459389440\n",
      "ABBV   278769401856\n",
      "...             ...\n",
      "YUM     35806208000\n",
      "ZBH     26476466176\n",
      "ZBRA    14842079232\n",
      "ZION     4199334144\n",
      "ZTS     76078874624\n",
      "\n",
      "[503 rows x 1 columns]\n"
     ]
    }
   ],
   "source": [
    "print(df)"
   ]
  },
  {
   "cell_type": "code",
   "execution_count": null,
   "id": "600da736",
   "metadata": {},
   "outputs": [],
   "source": [
    "# no matrix :("
   ]
  },
  {
   "cell_type": "code",
   "execution_count": null,
   "id": "9899b188",
   "metadata": {},
   "outputs": [],
   "source": []
  }
 ],
 "metadata": {
  "kernelspec": {
   "display_name": "Python 3 (ipykernel)",
   "language": "python",
   "name": "python3"
  },
  "language_info": {
   "codemirror_mode": {
    "name": "ipython",
    "version": 3
   },
   "file_extension": ".py",
   "mimetype": "text/x-python",
   "name": "python",
   "nbconvert_exporter": "python",
   "pygments_lexer": "ipython3",
   "version": "3.9.15"
  }
 },
 "nbformat": 4,
 "nbformat_minor": 5
}
