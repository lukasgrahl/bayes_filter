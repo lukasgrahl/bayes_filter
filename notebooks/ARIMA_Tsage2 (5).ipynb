{
 "cells": [
  {
   "cell_type": "code",
   "execution_count": null,
   "id": "0e33cedd",
   "metadata": {
    "scrolled": true
   },
   "outputs": [],
   "source": [
    "%run init_notebookspace.py"
   ]
  },
  {
   "cell_type": "code",
   "execution_count": null,
   "id": "5621deb6",
   "metadata": {
    "scrolled": true
   },
   "outputs": [],
   "source": [
    "!pip install yfinance"
   ]
  },
  {
   "cell_type": "code",
   "execution_count": null,
   "id": "3a769cbf",
   "metadata": {
    "scrolled": false
   },
   "outputs": [],
   "source": [
    "!pip install pandas_datareader"
   ]
  },
  {
   "cell_type": "code",
   "execution_count": null,
   "id": "4e6a9771",
   "metadata": {
    "scrolled": true
   },
   "outputs": [],
   "source": [
    "!pip install yahoo_fin"
   ]
  },
  {
   "cell_type": "code",
   "execution_count": null,
   "id": "58a655b9",
   "metadata": {},
   "outputs": [],
   "source": [
    "import pandas as pd\n",
    "import numpy as np\n",
    "\n",
    "import yfinance as yf\n",
    "import pandas_datareader as pdread\n",
    "from pandas_datareader import fred\n",
    "\n",
    "import matplotlib.pyplot as plt\n",
    "\n",
    "from statsmodels.tsa.arima.model import ARIMA\n",
    "from yahoo_fin import stock_info as ysi\n",
    "\n",
    "from itertools import chain"
   ]
  },
  {
   "cell_type": "code",
   "execution_count": null,
   "id": "667d7fb7",
   "metadata": {},
   "outputs": [],
   "source": [
    "from src.utils import apply_datetime_format"
   ]
  },
  {
   "cell_type": "code",
   "execution_count": null,
   "id": "f6263fb6",
   "metadata": {},
   "outputs": [],
   "source": [
    "# get sp500 composits & market cap\n",
    "sp500_tickers = ysi.tickers_sp500()\n",
    "df = pd.DataFrame(index=sp500_tickers, \n",
    "                  columns=['market_cap'], \n",
    "                  data=[pdread.get_quote_yahoo(item)['marketCap'].values[0] for item in sp500_tickers])\n",
    "sp500_largest = df.sort_values('market_cap', ascending=False).index[:5].values\n",
    "sp500_ticker = ['^GSPC']"
   ]
  },
  {
   "cell_type": "code",
   "execution_count": null,
   "id": "cd935763",
   "metadata": {},
   "outputs": [],
   "source": [
    "start = '2020-01-01'\n",
    "end = '2022-12-31'"
   ]
  },
  {
   "cell_type": "code",
   "execution_count": null,
   "id": "b68bbabf",
   "metadata": {},
   "outputs": [],
   "source": [
    "df_prices = pd.DataFrame()\n",
    "df_prices.index = pd.date_range(start, periods=(apply_datetime_format(end, '%Y-%m-%d') - apply_datetime_format(start, '%Y-%m-%d')).days)\n",
    "\n",
    "for item in [*chain(sp500_largest, sp500_ticker)]:\n",
    "    data = yf.download(item, start, end)\n",
    "    data.columns = list([f'{item}_{x}' for x in data.columns])\n",
    "    df_prices = df_prices.join(data)\n",
    "    \n",
    "# get closing price\n",
    "df_c = df_prices[[item for item in df_prices.columns if 'Adj Close' in item]].copy()\n",
    "df_c.columns = [item[:-10] for item in df_c.columns]\n",
    "df_c.dropna(inplace=True)"
   ]
  },
  {
   "cell_type": "code",
   "execution_count": null,
   "id": "38d8e424",
   "metadata": {},
   "outputs": [],
   "source": [
    "# get log returns\n",
    "df_rets = np.log(df_c / df_c.shift(1)).dropna()\n",
    "df_rets.sort_index(inplace=True)\n",
    "df_rets.asfreq = \"D\"\n",
    "\n",
    "df_rets['^GSPC_lead'] = df_rets['^GSPC'].shift(1)\n",
    "\n",
    "df_rets.dropna(inplace=True)\n",
    "df_rets.index.asfreq = 'd'\n"
   ]
  },
  {
   "cell_type": "code",
   "execution_count": null,
   "id": "1eaa265d",
   "metadata": {},
   "outputs": [],
   "source": [
    "# save data to file\n",
    "df_rets.to_csv(os.path.join(DATA_DIR, 'returns.csv'))"
   ]
  },
  {
   "cell_type": "code",
   "execution_count": null,
   "id": "f0c1a860",
   "metadata": {},
   "outputs": [],
   "source": [
    "# load data from file\n",
    "df_rets = pd.read_csv(os.path.join(DATA_DIR, 'returns.csv'))"
   ]
  },
  {
   "cell_type": "code",
   "execution_count": null,
   "id": "9f648a71",
   "metadata": {
    "scrolled": true
   },
   "outputs": [],
   "source": [
    "# Checking for stationarity via ADF test below\n",
    "# dickey-fuller attempt 1 \n",
    "from statsmodels.tsa.stattools import adfuller  \n",
    "from numpy import log  \n",
    "import pandas as pd  \n",
    "  \n",
    "mydata = pd.read_csv(os.path.join(DATA_DIR, 'returns.csv'), names = ['value'], header = 0)  \n",
    "\n",
    "res = adfuller(mydata.value.dropna())  \n",
    "                     \n",
    "print('Augmented Dickey-Fuller Statistic: %f' % res[0])  \n",
    "print('p-value: %f' % res[1])  "
   ]
  },
  {
   "cell_type": "code",
   "execution_count": null,
   "id": "1e755eff",
   "metadata": {},
   "outputs": [],
   "source": [
    "# determining the ADF for the 'd' value of ARIMA \n"
   ]
  },
  {
   "cell_type": "code",
   "execution_count": null,
   "id": "072d1a6f",
   "metadata": {},
   "outputs": [],
   "source": [
    "# Next looking at autocorrelation \n",
    "import numpy as np, pandas as pd  \n",
    "from statsmodels.graphics.tsaplots import plot_acf, plot_pacf  \n",
    "import matplotlib.pyplot as plt \n",
    "plt.rcParams.update({'figure.figsize' : (9,7), 'figure.dpi' : 120})\n",
    "plt.show()"
   ]
  },
  {
   "cell_type": "code",
   "execution_count": null,
   "id": "3405f625",
   "metadata": {
    "scrolled": true
   },
   "outputs": [],
   "source": [
    "# Importing data  \n",
    "df = pd.read_csv(os.path.join(DATA_DIR, 'returns.csv'), names = ['value'], header = 0)  "
   ]
  },
  {
   "cell_type": "code",
   "execution_count": null,
   "id": "43890f84",
   "metadata": {
    "scrolled": true
   },
   "outputs": [],
   "source": [
    "#print (df)"
   ]
  },
  {
   "cell_type": "code",
   "execution_count": null,
   "id": "e01595c6",
   "metadata": {
    "scrolled": true
   },
   "outputs": [],
   "source": [
    "# The Genuine Series \n",
    "fig, axes = plt.subplots(3, 2, sharex = True)  \n",
    "axes[0, 0].plot(df.value); axes[0, 0].set_title('The Genuine Series')  \n",
    "plot_acf(df.value, ax = axes[0, 1])"
   ]
  },
  {
   "cell_type": "code",
   "execution_count": null,
   "id": "f060661d",
   "metadata": {
    "scrolled": true
   },
   "outputs": [],
   "source": [
    "# Order of Differencing: First  \n",
    "axes[1, 0].plot(mydata.value.diff()); axes[1, 0].set_title('Order of Differencing: First')  \n",
    "plot_acf(df.value.diff().dropna(), ax = axes[1, 1])  "
   ]
  },
  {
   "cell_type": "code",
   "execution_count": null,
   "id": "c73918fd",
   "metadata": {},
   "outputs": [],
   "source": [
    "# Order of Differencing: Second  \n",
    "axes[2, 0].plot(df.value.diff().diff()); axes[2, 0].set_title('Order of Differencing: Second')  \n",
    "plot_acf(df.value.diff().diff().dropna(), ax = axes[2, 1])  \n",
    "plt.show()  \n"
   ]
  },
  {
   "cell_type": "code",
   "execution_count": null,
   "id": "458fcdff",
   "metadata": {},
   "outputs": [],
   "source": [
    "# Determine the differencing above. Weak/ strong stationarity? \n",
    "# Next, looking at how to make the data stationary via 3 tests. "
   ]
  },
  {
   "cell_type": "code",
   "execution_count": null,
   "id": "cfb0464d",
   "metadata": {},
   "outputs": [],
   "source": [
    "!pip install pmdarima"
   ]
  },
  {
   "cell_type": "code",
   "execution_count": null,
   "id": "230f945a",
   "metadata": {
    "scrolled": false
   },
   "outputs": [],
   "source": [
    "from pmdarima.arima.utils import ndiffs  \n",
    "import pandas as pd\n",
    "import os"
   ]
  },
  {
   "cell_type": "code",
   "execution_count": null,
   "id": "2195a6f4",
   "metadata": {
    "scrolled": false
   },
   "outputs": [],
   "source": [
    "df = pd.read_csv(pd.read_csv(os.path.join(DATA_DIR, 'returns.csv'), names = ['value'], header = 0)\n",
    "X = df.value  "
   ]
  },
  {
   "cell_type": "code",
   "execution_count": null,
   "id": "c20d6f61",
   "metadata": {},
   "outputs": [],
   "source": [
    "# Augmented Dickey Fuller Test  \n",
    "adftest = ndiffs(df, test = 'adf')  "
   ]
  },
  {
   "cell_type": "code",
   "execution_count": null,
   "id": "0d2dc3b1",
   "metadata": {
    "scrolled": true
   },
   "outputs": [],
   "source": [
    "# KPSS Test  \n",
    "kpsstest = ndiffs(df, test = 'kpss')  "
   ]
  },
  {
   "cell_type": "code",
   "execution_count": null,
   "id": "1eccc0f2",
   "metadata": {},
   "outputs": [],
   "source": [
    "# PP Test  \n",
    "pptest = ndiffs(df, test = 'pp')  "
   ]
  },
  {
   "cell_type": "code",
   "execution_count": null,
   "id": "53eed893",
   "metadata": {},
   "outputs": [],
   "source": [
    "print(\"ADF Test =\", adftest)  \n",
    "print(\"KPSS Test =\", kpsstest)  \n",
    "print(\"PP Test =\", pptest) "
   ]
  },
  {
   "cell_type": "code",
   "execution_count": null,
   "id": "9308e832",
   "metadata": {},
   "outputs": [],
   "source": [
    "#Next finding the 'p' term for AR via a partial auocorrelation graph"
   ]
  },
  {
   "cell_type": "code",
   "execution_count": null,
   "id": "15ad3193",
   "metadata": {},
   "outputs": [],
   "source": [
    "import numpy as np, pandas as pd  \n",
    "from statsmodels.graphics.tsaplots import plot_acf, plot_pacf  \n",
    "import matplotlib.pyplot as plt  "
   ]
  },
  {
   "cell_type": "code",
   "execution_count": null,
   "id": "4e3676a5",
   "metadata": {},
   "outputs": [],
   "source": [
    "plt.rcParams.update({'figure.figsize':(9,3), 'figure.dpi':120})  "
   ]
  },
  {
   "cell_type": "code",
   "execution_count": null,
   "id": "21fc0f2c",
   "metadata": {},
   "outputs": [],
   "source": [
    "import os"
   ]
  },
  {
   "cell_type": "code",
   "execution_count": null,
   "id": "ff697822",
   "metadata": {
    "scrolled": true
   },
   "outputs": [],
   "source": [
    "# importing data \n",
    "df = pd.read_csv(os.path.join(DATA_DIR, 'returns.csv'), names = ['value'], header = 0)  "
   ]
  },
  {
   "cell_type": "code",
   "execution_count": null,
   "id": "e251aa40",
   "metadata": {
    "scrolled": false
   },
   "outputs": [],
   "source": [
    " plt.plot(df.to_numpy(), label='Close')"
   ]
  },
  {
   "cell_type": "code",
   "execution_count": null,
   "id": "47ce6deb",
   "metadata": {
    "scrolled": true
   },
   "outputs": [],
   "source": [
    "ndarray = np.asarray(df)\n",
    "print(ndarray)"
   ]
  },
  {
   "cell_type": "code",
   "execution_count": null,
   "id": "f75485dd",
   "metadata": {
    "scrolled": true
   },
   "outputs": [],
   "source": [
    "fig, axes = plt.subplots(1, 2, sharex = True)\n",
    "axes[0].plot(ndarray); axes[0].set_title('Order of Differencing: First')  \n",
    "axes[1].set(ylim = (0,5))  \n",
    "plot_pacf(ndarray, ax = axes[1]) "
   ]
  },
  {
   "cell_type": "code",
   "execution_count": null,
   "id": "18287fd5",
   "metadata": {},
   "outputs": [],
   "source": [
    "# Look a the blue region to determine if it is useful or not\n",
    "# In the PAC graph, there should be a light blue box showing the significance-- need to fix this \n",
    "# Otherwise, for PAC I would say there is an order of 1 or 2 at the moment"
   ]
  },
  {
   "cell_type": "code",
   "execution_count": null,
   "id": "4ef4acce",
   "metadata": {},
   "outputs": [],
   "source": [
    "#Next, finding the 'q' - Moving Averages\n",
    "import numpy as np, pandas as pd  \n",
    "from statsmodels.graphics.tsaplots import plot_acf, plot_pacf  \n",
    "import matplotlib.pyplot as plt  \n",
    "  \n",
    "plt.rcParams.update({'figure.figsize' : (9,3), 'figure.dpi' : 120})  "
   ]
  },
  {
   "cell_type": "code",
   "execution_count": null,
   "id": "cb4d5732",
   "metadata": {
    "scrolled": true
   },
   "outputs": [],
   "source": [
    "# Importing data  \n",
    "mydata = pd.read_csv(os.path.join(DATA_DIR, 'returns.csv'), names = ['value'], header = 0)  "
   ]
  },
  {
   "cell_type": "code",
   "execution_count": null,
   "id": "130d6c3e",
   "metadata": {},
   "outputs": [],
   "source": [
    " plt.plot(df.to_numpy(), label='Close')"
   ]
  },
  {
   "cell_type": "code",
   "execution_count": null,
   "id": "cae0c58c",
   "metadata": {},
   "outputs": [],
   "source": [
    "mydata = np.asarray(df)\n",
    "print(mydata)"
   ]
  },
  {
   "cell_type": "code",
   "execution_count": null,
   "id": "722779ee",
   "metadata": {
    "scrolled": false
   },
   "outputs": [],
   "source": [
    "fig, axes = plt.subplots(1, 2, sharex = True)  \n",
    "axes[0].plot(mydata); axes[0].set_title('Order of Differencing: First')  \n",
    "axes[1].set(ylim = (0, 1.2))  \n",
    "plot_acf(mydata, ax = axes[1])  \n",
    "plt.show() "
   ]
  },
  {
   "cell_type": "code",
   "execution_count": null,
   "id": "94029da3",
   "metadata": {},
   "outputs": [],
   "source": [
    "# Looking at the autocorrelation graph, we can determine the number needed for q \n",
    "# Again, missing that blue box for significance \n",
    "#3 Otherwise, I would say that we have an order of 1 here "
   ]
  },
  {
   "cell_type": "code",
   "execution_count": null,
   "id": "d538f96d",
   "metadata": {},
   "outputs": [],
   "source": [
    "# Now building the ARIMA model \n",
    "\n",
    "import numpy as np, pandas as pd  \n",
    "import statsmodels.api as sm"
   ]
  },
  {
   "cell_type": "code",
   "execution_count": null,
   "id": "4cc665ad",
   "metadata": {
    "scrolled": true
   },
   "outputs": [],
   "source": [
    "# importing data  \n",
    "mydata = pd.read_csv(os.path.join(DATA_DIR, 'returns.csv'), names = ['value'], header = 0)  "
   ]
  },
  {
   "cell_type": "code",
   "execution_count": null,
   "id": "033d5296",
   "metadata": {
    "scrolled": true
   },
   "outputs": [],
   "source": [
    "# Creating ARIMA model 2\n",
    "# change the () to whatever numbers we get from the results for p,d,q above \n",
    "mymodel = sm.tsa.arima.ARIMA(mydata.value, order = (1, 0, 1))  \n",
    "modelfit = mymodel.fit()  \n",
    "\n",
    "print(modelfit.summary())"
   ]
  },
  {
   "cell_type": "code",
   "execution_count": null,
   "id": "eee4c369",
   "metadata": {},
   "outputs": [],
   "source": [
    "# These are the results. We can alter the output by changing the AIC/ BIC if we have a close call. \n",
    "\n",
    "# Now we plot the residuals to ensure that there is no constant mean or varaince to worry about "
   ]
  },
  {
   "cell_type": "code",
   "execution_count": null,
   "id": "45953746",
   "metadata": {},
   "outputs": [],
   "source": [
    "import numpy as np, pandas as pd  \n",
    "import statsmodels.api as sm\n",
    "import matplotlib.pyplot as plt  "
   ]
  },
  {
   "cell_type": "code",
   "execution_count": null,
   "id": "e7003fba",
   "metadata": {},
   "outputs": [],
   "source": [
    "# Plotting Residual Errors\n",
    "myresiduals = pd.DataFrame(modelfit.resid)  \n",
    "fig, ax = plt.subplots(1,2)  \n",
    "myresiduals.plot(title = \"Residuals\", ax = ax[0])  \n",
    "myresiduals.plot(kind = 'kde', title = 'Density', ax = ax[1])  \n",
    "plt.show()  "
   ]
  },
  {
   "cell_type": "code",
   "execution_count": null,
   "id": "0d1dc971",
   "metadata": {},
   "outputs": [],
   "source": [
    "# Finally, graphing our predicted versus actual values for trend analysis "
   ]
  },
  {
   "cell_type": "code",
   "execution_count": null,
   "id": "3df69c77",
   "metadata": {},
   "outputs": [],
   "source": [
    "import numpy as np, pandas as pd  \n",
    "from statsmodels.tsa.arima_model import ARIMA  \n",
    "import matplotlib.pyplot as plt \n",
    "import statsmodels.api as sm\n",
    "from statsmodels.graphics.tsaplots import plot_predict"
   ]
  },
  {
   "cell_type": "code",
   "execution_count": null,
   "id": "a7d19c39",
   "metadata": {},
   "outputs": [],
   "source": [
    "plt.rcParams.update({'figure.figsize' : (9,3), 'figure.dpi' : 120})  \n"
   ]
  },
  {
   "cell_type": "code",
   "execution_count": null,
   "id": "56cfe6d0",
   "metadata": {},
   "outputs": [],
   "source": [
    "# importing data  \n",
    "mydata = pd.read_csv(os.path.join(DATA_DIR, 'returns.csv'), names = ['value'], header = 0)  "
   ]
  },
  {
   "cell_type": "code",
   "execution_count": null,
   "id": "5cc81a74",
   "metadata": {
    "scrolled": false
   },
   "outputs": [],
   "source": [
    "# The best fitting ARIMA model from before\n",
    "# Change the () to whatever numbers we get from the results for p,d,q above \n",
    "mymodel = sm.tsa.arima.ARIMA(mydata.value, order = (1, 0, 1))  \n",
    "modelfit = mymodel.fit()  \n",
    "\n",
    "print(modelfit.summary()) "
   ]
  },
  {
   "cell_type": "code",
   "execution_count": null,
   "id": "2d2a3310",
   "metadata": {
    "scrolled": true
   },
   "outputs": [],
   "source": [
    "# Actual vs Fitted  \n",
    "\n",
    "import matplotlib.pyplot as plt\n",
    "import pandas as pd\n",
    "import statsmodels.api as sm\n",
    "from statsmodels.graphics.tsaplots import plot_predict\n",
    "from statsmodels.tsa.arima.model import ARIMA\n",
    "\n",
    "df = pd.read_csv(os.path.join(DATA_DIR, 'returns.csv'), names = ['value'], header = 0)  \n",
    "df.index = pd.date_range(start = '2020-01-01', end = '2022-01-01', freq='A')\n",
    "res = ARIMA(dta, order=(1,0,1)).fit()\n",
    "fig, ax = plt.subplots()\n",
    "ax = dta.loc['2020-01-01':].plot(ax=ax)\n",
    "plot_predict(res, '2020-01-01', '2022-01-01', ax=ax)\n",
    "plt.show()"
   ]
  },
  {
   "cell_type": "code",
   "execution_count": null,
   "id": "7f23a44b",
   "metadata": {},
   "outputs": [],
   "source": [
    "# Working on making these into a matrix "
   ]
  },
  {
   "cell_type": "code",
   "execution_count": null,
   "id": "276c2b10",
   "metadata": {},
   "outputs": [],
   "source": [
    "# importing data  \n",
    "mydata = pd.read_csv(os.path.join(DATA_DIR, 'returns.csv'), names = ['value'], header = 0)  "
   ]
  },
  {
   "cell_type": "code",
   "execution_count": null,
   "id": "50636877",
   "metadata": {},
   "outputs": [],
   "source": [
    "# The best fitting ARIMA model from before\n",
    "# Change the () to whatever numbers we get from the results for p,d,q above \n",
    "mymodel = sm.tsa.arima.ARIMA(mydata.value, order = (1, 0, 1))  \n",
    "modelfit = mymodel.fit()  \n",
    "\n",
    "print(modelfit.summary()) "
   ]
  },
  {
   "cell_type": "code",
   "execution_count": null,
   "id": "61eed1b0",
   "metadata": {
    "scrolled": false
   },
   "outputs": [],
   "source": [
    "A = modelfit.model.ssm.transition[..., 0] \n",
    "print(A)"
   ]
  },
  {
   "cell_type": "code",
   "execution_count": null,
   "id": "132eaf3b",
   "metadata": {
    "scrolled": true
   },
   "outputs": [],
   "source": [
    "print(modelfit.params)"
   ]
  },
  {
   "cell_type": "code",
   "execution_count": null,
   "id": "c8849272",
   "metadata": {},
   "outputs": [],
   "source": []
  }
 ],
 "metadata": {
  "kernelspec": {
   "display_name": "Python 3 (ipykernel)",
   "language": "python",
   "name": "python3"
  },
  "language_info": {
   "codemirror_mode": {
    "name": "ipython",
    "version": 3
   },
   "file_extension": ".py",
   "mimetype": "text/x-python",
   "name": "python",
   "nbconvert_exporter": "python",
   "pygments_lexer": "ipython3",
   "version": "3.9.15"
  }
 },
 "nbformat": 4,
 "nbformat_minor": 5
}
