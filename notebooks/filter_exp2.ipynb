{
 "cells": [
  {
   "cell_type": "code",
   "execution_count": 1,
   "id": "2f9b3515-47a8-4aeb-95c9-e0f29f9be7ac",
   "metadata": {},
   "outputs": [
    {
     "name": "stdout",
     "output_type": "stream",
     "text": [
      "DATA_DIR is existant under: C:\\Users\\LukasGrahl\\Documents\\GIT\\bayes_filter\\data\n"
     ]
    }
   ],
   "source": [
    "%run init_notebookspace.py"
   ]
  },
  {
   "cell_type": "code",
   "execution_count": 2,
   "id": "f3a26133-36ea-4fa2-bfec-deea6da76c72",
   "metadata": {},
   "outputs": [],
   "source": [
    "import numpy as np\n",
    "import matplotlib.pyplot as plt"
   ]
  },
  {
   "cell_type": "markdown",
   "id": "bfec19d6-0a25-4f19-a95d-0fedc2f33361",
   "metadata": {},
   "source": [
    "Traking a 2D robot"
   ]
  },
  {
   "cell_type": "markdown",
   "id": "de27a16a-b6cb-4543-93a1-66b2d23763bc",
   "metadata": {},
   "source": [
    "We are tracking a robot moving on an x,y coordinate system, the following generates movement data with some noise"
   ]
  },
  {
   "cell_type": "code",
   "execution_count": 3,
   "id": "16de377a-699f-4b27-9b59-641c44d4e81b",
   "metadata": {},
   "outputs": [],
   "source": [
    "from numpy.random import randn\n",
    "\n",
    "class PosSensor(object):\n",
    "    def __init__(self, pos=(0, 0), vel=(0, 0), noise_std=1.):\n",
    "        self.vel = vel\n",
    "        self.noise_std = noise_std\n",
    "        self.pos = [pos[0], pos[1]]\n",
    "        \n",
    "    def read(self):\n",
    "        self.pos[0] += self.vel[0]\n",
    "        self.pos[1] += self.vel[1]\n",
    "        \n",
    "        return [self.pos[0] + randn() * self.noise_std,\n",
    "                self.pos[1] + randn() * self.noise_std]"
   ]
  },
  {
   "cell_type": "code",
   "execution_count": 4,
   "id": "807245a2-624a-4612-9a93-8d22200eb3dc",
   "metadata": {},
   "outputs": [
    {
     "data": {
      "text/plain": [
       "<matplotlib.collections.PathCollection at 0x1ffd93e7130>"
      ]
     },
     "execution_count": 4,
     "metadata": {},
     "output_type": "execute_result"
    },
    {
     "data": {
      "image/png": "[encoded data removed]",
      "text/plain": [
       "<Figure size 640x480 with 1 Axes>"
      ]
     },
     "metadata": {},
     "output_type": "display_data"
    }
   ],
   "source": [
    "sens = PosSensor(pos=(4, 2), vel=(2, 1), noise_std=2)\n",
    "pos = np.array([sens.read() for _ in range(50)])\n",
    "plt.scatter(pos[:, 0], pos[:, 1])"
   ]
  },
  {
   "cell_type": "markdown",
   "id": "32719d9d-536e-40dd-b3c8-30486a4df55f",
   "metadata": {},
   "source": [
    "The state includes x,y and their respective velocity, which we assume to be constant. This translates to the following transition equation:\n",
    "\n",
    "$$\n",
    "\\begin{bmatrix}x \\\\ \\dot x \\\\ y \\\\ \\dot y\\end{bmatrix} = \\begin{bmatrix}1& \\Delta t& 0& 0\\\\0& 1& 0& 0\\\\0& 0& 1& \\Delta t\\\\ 0& 0& 0& 1\\end{bmatrix}\\begin{bmatrix}x \\\\ \\dot x \\\\ y \\\\ \\dot y\\end{bmatrix}\n",
    "$$"
   ]
  },
  {
   "cell_type": "markdown",
   "id": "9ce93acb-4fa5-4450-b64d-2f02f37ccba0",
   "metadata": {},
   "source": [
    "Filter implementation"
   ]
  },
  {
   "cell_type": "code",
   "execution_count": 5,
   "id": "c1d6c637-48a0-407a-9fd5-744d82867f7c",
   "metadata": {},
   "outputs": [],
   "source": [
    "from src.classes import KalmanFilterBase"
   ]
  },
  {
   "cell_type": "code",
   "execution_count": 6,
   "id": "868a0e23-7f63-4601-b70e-2ef9e6634043",
   "metadata": {},
   "outputs": [],
   "source": [
    "tracker = KalmanFilterBase(4, 2)"
   ]
  },
  {
   "cell_type": "markdown",
   "id": "6d3f4af1-ccdf-4ba5-a906-ab1744164920",
   "metadata": {},
   "source": [
    "transiation equation"
   ]
  },
  {
   "cell_type": "code",
   "execution_count": 7,
   "id": "44eded0d-cdd5-4f61-a294-6e5029eb4e3a",
   "metadata": {},
   "outputs": [],
   "source": [
    "dt = 1.\n",
    "tracker.F = np.array([[1, dt, 0, 0],\n",
    "                      [0, 1, 0, 0],\n",
    "                      [0, 0, 1, dt],\n",
    "                      [0, 0, 0, 1]])"
   ]
  },
  {
   "cell_type": "markdown",
   "id": "e82cb508-777a-481c-9669-f986348b6deb",
   "metadata": {},
   "source": [
    "process noise matrix: we assume time invariant white noise"
   ]
  },
  {
   "cell_type": "code",
   "execution_count": 8,
   "id": "7dad753f-20c7-4fad-b8b8-5f3150eac63e",
   "metadata": {},
   "outputs": [
    {
     "name": "stdout",
     "output_type": "stream",
     "text": [
      "[[0.00025 0.0005  0.      0.     ]\n",
      " [0.0005  0.001   0.      0.     ]\n",
      " [0.      0.      0.00025 0.0005 ]\n",
      " [0.      0.      0.0005  0.001  ]]\n"
     ]
    }
   ],
   "source": [
    "from scipy.linalg import block_diag\n",
    "from filterpy.common import Q_discrete_white_noise\n",
    "\n",
    "q = Q_discrete_white_noise(dim=2, dt=dt, var=0.001)\n",
    "tracker.Q = block_diag(q, q)\n",
    "print(tracker.Q)"
   ]
  },
  {
   "cell_type": "markdown",
   "id": "157116dc-f383-454b-b788-0b55e46c9114",
   "metadata": {},
   "source": [
    "controll function, omitted for now"
   ]
  },
  {
   "cell_type": "code",
   "execution_count": 9,
   "id": "0fdfa90c-1937-4e37-9cb7-491e68a45c52",
   "metadata": {},
   "outputs": [],
   "source": [
    "tracker.B = np.zeros((4,4))\n",
    "tracker.u = np.zeros((4,1))"
   ]
  },
  {
   "cell_type": "markdown",
   "id": "4c76a865-b662-461e-812f-b81b590213af",
   "metadata": {},
   "source": [
    "measurement function: measurement are assumed to be in feet, the function H is translating this to meters"
   ]
  },
  {
   "cell_type": "code",
   "execution_count": 10,
   "id": "82a5003e-b518-4e4f-b095-624c52732b0f",
   "metadata": {},
   "outputs": [],
   "source": [
    "tracker.H = np.array([[1/0.3048, 0, 0,        0],\n",
    "                      [0,        0, 1/0.3048, 0]])"
   ]
  },
  {
   "cell_type": "markdown",
   "id": "668eda8d-0cd7-43be-aa6c-ecce9f94ff58",
   "metadata": {},
   "source": [
    "measurement noise matrix"
   ]
  },
  {
   "cell_type": "code",
   "execution_count": 11,
   "id": "3356205d-72c9-4dad-8d11-40c31a4d840b",
   "metadata": {},
   "outputs": [],
   "source": [
    "tracker.R = np.array([[5., 0],\n",
    "                      [0, 5]])"
   ]
  },
  {
   "cell_type": "markdown",
   "id": "d0b99106-b384-41ef-9aae-9c7f6e67fb5f",
   "metadata": {},
   "source": [
    "setting the inital position"
   ]
  },
  {
   "cell_type": "code",
   "execution_count": 12,
   "id": "ed0a3b4f-5558-4952-b095-5ac19fef1be1",
   "metadata": {},
   "outputs": [],
   "source": [
    "x = np.array([[0, 0, 0, 0]]).T\n",
    "P = np.eye(4) * 500."
   ]
  },
  {
   "cell_type": "code",
   "execution_count": 13,
   "id": "f59334bb-fcb0-4212-b8f0-98eb9d29116d",
   "metadata": {},
   "outputs": [
    {
     "data": {
      "text/plain": [
       "array([[500.,   0.,   0.,   0.],\n",
       "       [  0., 500.,   0.,   0.],\n",
       "       [  0.,   0., 500.,   0.],\n",
       "       [  0.,   0.,   0., 500.]])"
      ]
     },
     "execution_count": 13,
     "metadata": {},
     "output_type": "execute_result"
    }
   ],
   "source": [
    "P"
   ]
  },
  {
   "cell_type": "code",
   "execution_count": 15,
   "id": "e52d68c4-14ee-4f9e-94b7-edb8eb0279a6",
   "metadata": {},
   "outputs": [
    {
     "data": {
      "text/plain": [
       "array([[3.2808399, 0.       , 0.       , 0.       ],\n",
       "       [0.       , 0.       , 3.2808399, 0.       ]])"
      ]
     },
     "execution_count": 15,
     "metadata": {},
     "output_type": "execute_result"
    }
   ],
   "source": [
    "tracker.H"
   ]
  },
  {
   "cell_type": "code",
   "execution_count": null,
   "id": "d5225f89-1025-43c1-b44a-8d11a07ae729",
   "metadata": {},
   "outputs": [],
   "source": []
  }
 ],
 "metadata": {
  "kernelspec": {
   "display_name": "env_bayes_filter",
   "language": "python",
   "name": "env_bayes_filter"
  },
  "language_info": {
   "codemirror_mode": {
    "name": "ipython",
    "version": 3
   },
   "file_extension": ".py",
   "mimetype": "text/x-python",
   "name": "python",
   "nbconvert_exporter": "python",
   "pygments_lexer": "ipython3",
   "version": "3.9.4"
  }
 },
 "nbformat": 4,
 "nbformat_minor": 5
}
