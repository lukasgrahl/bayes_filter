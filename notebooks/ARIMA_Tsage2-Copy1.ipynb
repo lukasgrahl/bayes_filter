{
 "cells": [
  {
   "cell_type": "code",
   "execution_count": 3,
   "id": "0e33cedd",
   "metadata": {
    "scrolled": true
   },
   "outputs": [
    {
     "name": "stdout",
     "output_type": "stream",
     "text": [
      "DATA_DIR is existant under: /Users/tsagedouglas/Data Science Project (Python Proj)/data\n"
     ]
    }
   ],
   "source": [
    "%run init_notebookspace.py"
   ]
  },
  {
   "cell_type": "code",
   "execution_count": 4,
   "id": "5621deb6",
   "metadata": {
    "scrolled": true
   },
   "outputs": [
    {
     "name": "stdout",
     "output_type": "stream",
     "text": [
      "Requirement already satisfied: yfinance in /Users/tsagedouglas/opt/miniconda3/envs/econ/lib/python3.9/site-packages (0.2.12)\n",
      "Requirement already satisfied: frozendict>=2.3.4 in /Users/tsagedouglas/opt/miniconda3/envs/econ/lib/python3.9/site-packages (from yfinance) (2.3.5)\n",
      "Requirement already satisfied: pandas>=1.3.0 in /Users/tsagedouglas/opt/miniconda3/envs/econ/lib/python3.9/site-packages (from yfinance) (1.5.2)\n",
      "Requirement already satisfied: html5lib>=1.1 in /Users/tsagedouglas/opt/miniconda3/envs/econ/lib/python3.9/site-packages (from yfinance) (1.1)\n",
      "Requirement already satisfied: beautifulsoup4>=4.11.1 in /Users/tsagedouglas/opt/miniconda3/envs/econ/lib/python3.9/site-packages (from yfinance) (4.11.1)\n",
      "Requirement already satisfied: pytz>=2022.5 in /Users/tsagedouglas/opt/miniconda3/envs/econ/lib/python3.9/site-packages (from yfinance) (2022.6)\n",
      "Requirement already satisfied: multitasking>=0.0.7 in /Users/tsagedouglas/opt/miniconda3/envs/econ/lib/python3.9/site-packages (from yfinance) (0.0.11)\n",
      "Requirement already satisfied: requests>=2.26 in /Users/tsagedouglas/opt/miniconda3/envs/econ/lib/python3.9/site-packages (from yfinance) (2.28.1)\n",
      "Requirement already satisfied: cryptography>=3.3.2 in /Users/tsagedouglas/opt/miniconda3/envs/econ/lib/python3.9/site-packages (from yfinance) (38.0.4)\n",
      "Requirement already satisfied: lxml>=4.9.1 in /Users/tsagedouglas/opt/miniconda3/envs/econ/lib/python3.9/site-packages (from yfinance) (4.9.1)\n",
      "Requirement already satisfied: appdirs>=1.4.4 in /Users/tsagedouglas/opt/miniconda3/envs/econ/lib/python3.9/site-packages (from yfinance) (1.4.4)\n",
      "Requirement already satisfied: numpy>=1.16.5 in /Users/tsagedouglas/opt/miniconda3/envs/econ/lib/python3.9/site-packages (from yfinance) (1.23.5)\n",
      "Requirement already satisfied: soupsieve>1.2 in /Users/tsagedouglas/opt/miniconda3/envs/econ/lib/python3.9/site-packages (from beautifulsoup4>=4.11.1->yfinance) (2.3.2.post1)\n",
      "Requirement already satisfied: cffi>=1.12 in /Users/tsagedouglas/opt/miniconda3/envs/econ/lib/python3.9/site-packages (from cryptography>=3.3.2->yfinance) (1.15.1)\n",
      "Requirement already satisfied: webencodings in /Users/tsagedouglas/opt/miniconda3/envs/econ/lib/python3.9/site-packages (from html5lib>=1.1->yfinance) (0.5.1)\n",
      "Requirement already satisfied: six>=1.9 in /Users/tsagedouglas/opt/miniconda3/envs/econ/lib/python3.9/site-packages (from html5lib>=1.1->yfinance) (1.16.0)\n",
      "Requirement already satisfied: python-dateutil>=2.8.1 in /Users/tsagedouglas/opt/miniconda3/envs/econ/lib/python3.9/site-packages (from pandas>=1.3.0->yfinance) (2.8.2)\n",
      "Requirement already satisfied: certifi>=2017.4.17 in /Users/tsagedouglas/opt/miniconda3/envs/econ/lib/python3.9/site-packages (from requests>=2.26->yfinance) (2022.9.24)\n",
      "Requirement already satisfied: urllib3<1.27,>=1.21.1 in /Users/tsagedouglas/opt/miniconda3/envs/econ/lib/python3.9/site-packages (from requests>=2.26->yfinance) (1.26.13)\n",
      "Requirement already satisfied: charset-normalizer<3,>=2 in /Users/tsagedouglas/opt/miniconda3/envs/econ/lib/python3.9/site-packages (from requests>=2.26->yfinance) (2.1.1)\n",
      "Requirement already satisfied: idna<4,>=2.5 in /Users/tsagedouglas/opt/miniconda3/envs/econ/lib/python3.9/site-packages (from requests>=2.26->yfinance) (3.4)\n",
      "Requirement already satisfied: pycparser in /Users/tsagedouglas/opt/miniconda3/envs/econ/lib/python3.9/site-packages (from cffi>=1.12->cryptography>=3.3.2->yfinance) (2.21)\n"
     ]
    }
   ],
   "source": [
    "!pip install yfinance"
   ]
  },
  {
   "cell_type": "code",
   "execution_count": 5,
   "id": "3a769cbf",
   "metadata": {
    "scrolled": true
   },
   "outputs": [
    {
     "name": "stdout",
     "output_type": "stream",
     "text": [
      "Requirement already satisfied: pandas_datareader in /Users/tsagedouglas/opt/miniconda3/envs/econ/lib/python3.9/site-packages (0.10.0)\n",
      "Requirement already satisfied: lxml in /Users/tsagedouglas/opt/miniconda3/envs/econ/lib/python3.9/site-packages (from pandas_datareader) (4.9.1)\n",
      "Requirement already satisfied: pandas>=0.23 in /Users/tsagedouglas/opt/miniconda3/envs/econ/lib/python3.9/site-packages (from pandas_datareader) (1.5.2)\n",
      "Requirement already satisfied: requests>=2.19.0 in /Users/tsagedouglas/opt/miniconda3/envs/econ/lib/python3.9/site-packages (from pandas_datareader) (2.28.1)\n",
      "Requirement already satisfied: python-dateutil>=2.8.1 in /Users/tsagedouglas/opt/miniconda3/envs/econ/lib/python3.9/site-packages (from pandas>=0.23->pandas_datareader) (2.8.2)\n",
      "Requirement already satisfied: pytz>=2020.1 in /Users/tsagedouglas/opt/miniconda3/envs/econ/lib/python3.9/site-packages (from pandas>=0.23->pandas_datareader) (2022.6)\n",
      "Requirement already satisfied: numpy>=1.20.3 in /Users/tsagedouglas/opt/miniconda3/envs/econ/lib/python3.9/site-packages (from pandas>=0.23->pandas_datareader) (1.23.5)\n",
      "Requirement already satisfied: urllib3<1.27,>=1.21.1 in /Users/tsagedouglas/opt/miniconda3/envs/econ/lib/python3.9/site-packages (from requests>=2.19.0->pandas_datareader) (1.26.13)\n",
      "Requirement already satisfied: charset-normalizer<3,>=2 in /Users/tsagedouglas/opt/miniconda3/envs/econ/lib/python3.9/site-packages (from requests>=2.19.0->pandas_datareader) (2.1.1)\n",
      "Requirement already satisfied: idna<4,>=2.5 in /Users/tsagedouglas/opt/miniconda3/envs/econ/lib/python3.9/site-packages (from requests>=2.19.0->pandas_datareader) (3.4)\n",
      "Requirement already satisfied: certifi>=2017.4.17 in /Users/tsagedouglas/opt/miniconda3/envs/econ/lib/python3.9/site-packages (from requests>=2.19.0->pandas_datareader) (2022.9.24)\n",
      "Requirement already satisfied: six>=1.5 in /Users/tsagedouglas/opt/miniconda3/envs/econ/lib/python3.9/site-packages (from python-dateutil>=2.8.1->pandas>=0.23->pandas_datareader) (1.16.0)\n"
     ]
    }
   ],
   "source": [
    "!pip install pandas_datareader"
   ]
  },
  {
   "cell_type": "code",
   "execution_count": 6,
   "id": "4e6a9771",
   "metadata": {
    "scrolled": true
   },
   "outputs": [
    {
     "name": "stdout",
     "output_type": "stream",
     "text": [
      "Requirement already satisfied: yahoo_fin in /Users/tsagedouglas/opt/miniconda3/envs/econ/lib/python3.9/site-packages (0.8.9.1)\n",
      "Requirement already satisfied: feedparser in /Users/tsagedouglas/opt/miniconda3/envs/econ/lib/python3.9/site-packages (from yahoo_fin) (6.0.10)\n",
      "Requirement already satisfied: pandas in /Users/tsagedouglas/opt/miniconda3/envs/econ/lib/python3.9/site-packages (from yahoo_fin) (1.5.2)\n",
      "Requirement already satisfied: requests-html in /Users/tsagedouglas/opt/miniconda3/envs/econ/lib/python3.9/site-packages (from yahoo_fin) (0.10.0)\n",
      "Requirement already satisfied: requests in /Users/tsagedouglas/opt/miniconda3/envs/econ/lib/python3.9/site-packages (from yahoo_fin) (2.28.1)\n",
      "Requirement already satisfied: sgmllib3k in /Users/tsagedouglas/opt/miniconda3/envs/econ/lib/python3.9/site-packages (from feedparser->yahoo_fin) (1.0.0)\n",
      "Requirement already satisfied: python-dateutil>=2.8.1 in /Users/tsagedouglas/opt/miniconda3/envs/econ/lib/python3.9/site-packages (from pandas->yahoo_fin) (2.8.2)\n",
      "Requirement already satisfied: pytz>=2020.1 in /Users/tsagedouglas/opt/miniconda3/envs/econ/lib/python3.9/site-packages (from pandas->yahoo_fin) (2022.6)\n",
      "Requirement already satisfied: numpy>=1.20.3 in /Users/tsagedouglas/opt/miniconda3/envs/econ/lib/python3.9/site-packages (from pandas->yahoo_fin) (1.23.5)\n",
      "Requirement already satisfied: charset-normalizer<3,>=2 in /Users/tsagedouglas/opt/miniconda3/envs/econ/lib/python3.9/site-packages (from requests->yahoo_fin) (2.1.1)\n",
      "Requirement already satisfied: idna<4,>=2.5 in /Users/tsagedouglas/opt/miniconda3/envs/econ/lib/python3.9/site-packages (from requests->yahoo_fin) (3.4)\n",
      "Requirement already satisfied: urllib3<1.27,>=1.21.1 in /Users/tsagedouglas/opt/miniconda3/envs/econ/lib/python3.9/site-packages (from requests->yahoo_fin) (1.26.13)\n",
      "Requirement already satisfied: certifi>=2017.4.17 in /Users/tsagedouglas/opt/miniconda3/envs/econ/lib/python3.9/site-packages (from requests->yahoo_fin) (2022.9.24)\n",
      "Requirement already satisfied: w3lib in /Users/tsagedouglas/opt/miniconda3/envs/econ/lib/python3.9/site-packages (from requests-html->yahoo_fin) (2.1.1)\n",
      "Requirement already satisfied: pyquery in /Users/tsagedouglas/opt/miniconda3/envs/econ/lib/python3.9/site-packages (from requests-html->yahoo_fin) (2.0.0)\n",
      "Requirement already satisfied: pyppeteer>=0.0.14 in /Users/tsagedouglas/opt/miniconda3/envs/econ/lib/python3.9/site-packages (from requests-html->yahoo_fin) (1.0.2)\n",
      "Requirement already satisfied: fake-useragent in /Users/tsagedouglas/opt/miniconda3/envs/econ/lib/python3.9/site-packages (from requests-html->yahoo_fin) (1.1.1)\n",
      "Requirement already satisfied: parse in /Users/tsagedouglas/opt/miniconda3/envs/econ/lib/python3.9/site-packages (from requests-html->yahoo_fin) (1.19.0)\n",
      "Requirement already satisfied: bs4 in /Users/tsagedouglas/opt/miniconda3/envs/econ/lib/python3.9/site-packages (from requests-html->yahoo_fin) (0.0.1)\n",
      "Requirement already satisfied: tqdm<5.0.0,>=4.42.1 in /Users/tsagedouglas/opt/miniconda3/envs/econ/lib/python3.9/site-packages (from pyppeteer>=0.0.14->requests-html->yahoo_fin) (4.65.0)\n",
      "Requirement already satisfied: importlib-metadata>=1.4 in /Users/tsagedouglas/opt/miniconda3/envs/econ/lib/python3.9/site-packages (from pyppeteer>=0.0.14->requests-html->yahoo_fin) (5.1.0)\n",
      "Requirement already satisfied: pyee<9.0.0,>=8.1.0 in /Users/tsagedouglas/opt/miniconda3/envs/econ/lib/python3.9/site-packages (from pyppeteer>=0.0.14->requests-html->yahoo_fin) (8.2.2)\n",
      "Requirement already satisfied: appdirs<2.0.0,>=1.4.3 in /Users/tsagedouglas/opt/miniconda3/envs/econ/lib/python3.9/site-packages (from pyppeteer>=0.0.14->requests-html->yahoo_fin) (1.4.4)\n",
      "Requirement already satisfied: websockets<11.0,>=10.0 in /Users/tsagedouglas/opt/miniconda3/envs/econ/lib/python3.9/site-packages (from pyppeteer>=0.0.14->requests-html->yahoo_fin) (10.4)\n",
      "Requirement already satisfied: six>=1.5 in /Users/tsagedouglas/opt/miniconda3/envs/econ/lib/python3.9/site-packages (from python-dateutil>=2.8.1->pandas->yahoo_fin) (1.16.0)\n",
      "Requirement already satisfied: beautifulsoup4 in /Users/tsagedouglas/opt/miniconda3/envs/econ/lib/python3.9/site-packages (from bs4->requests-html->yahoo_fin) (4.11.1)\n",
      "Requirement already satisfied: importlib-resources>=5.0 in /Users/tsagedouglas/opt/miniconda3/envs/econ/lib/python3.9/site-packages (from fake-useragent->requests-html->yahoo_fin) (5.10.0)\n",
      "Requirement already satisfied: lxml>=2.1 in /Users/tsagedouglas/opt/miniconda3/envs/econ/lib/python3.9/site-packages (from pyquery->requests-html->yahoo_fin) (4.9.1)\n",
      "Requirement already satisfied: cssselect>=1.2.0 in /Users/tsagedouglas/opt/miniconda3/envs/econ/lib/python3.9/site-packages (from pyquery->requests-html->yahoo_fin) (1.2.0)\n",
      "Requirement already satisfied: zipp>=0.5 in /Users/tsagedouglas/opt/miniconda3/envs/econ/lib/python3.9/site-packages (from importlib-metadata>=1.4->pyppeteer>=0.0.14->requests-html->yahoo_fin) (3.11.0)\n",
      "Requirement already satisfied: soupsieve>1.2 in /Users/tsagedouglas/opt/miniconda3/envs/econ/lib/python3.9/site-packages (from beautifulsoup4->bs4->requests-html->yahoo_fin) (2.3.2.post1)\n"
     ]
    }
   ],
   "source": [
    "!pip install yahoo_fin"
   ]
  },
  {
   "cell_type": "code",
   "execution_count": 7,
   "id": "58a655b9",
   "metadata": {},
   "outputs": [],
   "source": [
    "import pandas as pd\n",
    "import numpy as np\n",
    "\n",
    "import yfinance as yf\n",
    "import pandas_datareader as pdread\n",
    "import os\n",
    "from pandas_datareader import fred\n",
    "\n",
    "import matplotlib.pyplot as plt\n",
    "\n",
    "from statsmodels.tsa.arima.model import ARIMA\n",
    "from yahoo_fin import stock_info as ysi\n",
    "\n",
    "from itertools import chain\n",
    "from src.utils import apply_datetime_format"
   ]
  },
  {
   "cell_type": "code",
   "execution_count": 8,
   "id": "f6263fb6",
   "metadata": {},
   "outputs": [],
   "source": [
    "# get sp500 composits & market cap\n",
    "sp500_tickers = ysi.tickers_sp500()\n",
    "df = pd.DataFrame(index=sp500_tickers, \n",
    "                  columns=['market_cap'], \n",
    "                  data=[pdread.get_quote_yahoo(item)['marketCap'].values[0] for item in sp500_tickers])\n",
    "sp500_largest = df.sort_values('market_cap', ascending=False).index[:5].values\n",
    "sp500_ticker = ['^GSPC']"
   ]
  },
  {
   "cell_type": "code",
   "execution_count": 9,
   "id": "cd935763",
   "metadata": {},
   "outputs": [],
   "source": [
    "start = '2020-01-01'\n",
    "end = '2022-12-31'"
   ]
  },
  {
   "cell_type": "code",
   "execution_count": 10,
   "id": "b68bbabf",
   "metadata": {},
   "outputs": [
    {
     "name": "stdout",
     "output_type": "stream",
     "text": [
      "[*********************100%***********************]  1 of 1 completed\n",
      "[*********************100%***********************]  1 of 1 completed\n",
      "[*********************100%***********************]  1 of 1 completed\n",
      "[*********************100%***********************]  1 of 1 completed\n",
      "[*********************100%***********************]  1 of 1 completed\n",
      "[*********************100%***********************]  1 of 1 completed\n"
     ]
    }
   ],
   "source": [
    "df_prices = pd.DataFrame()\n",
    "df_prices.index = pd.date_range(start, periods=(apply_datetime_format(end, '%Y-%m-%d') - apply_datetime_format(start, '%Y-%m-%d')).days)\n",
    "\n",
    "for item in [*chain(sp500_largest, sp500_ticker)]:\n",
    "    data = yf.download(item, start, end)\n",
    "    data.columns = list([f'{item}_{x}' for x in data.columns])\n",
    "    df_prices = df_prices.join(data)\n",
    "    \n",
    "# get closing price\n",
    "df_c = df_prices[[item for item in df_prices.columns if 'Adj Close' in item]].copy()\n",
    "df_c.columns = [item[:-10] for item in df_c.columns]\n",
    "df_c.dropna(inplace=True)"
   ]
  },
  {
   "cell_type": "code",
   "execution_count": 11,
   "id": "38d8e424",
   "metadata": {},
   "outputs": [],
   "source": [
    "# get log returns\n",
    "df_rets = np.log(df_c / df_c.shift(1)).dropna()\n",
    "df_rets.sort_index(inplace=True)\n",
    "df_rets.asfreq = \"D\"\n",
    "\n",
    "df_rets['^GSPC_lead'] = df_rets['^GSPC'].shift(1)\n",
    "\n",
    "df_rets.dropna(inplace=True)\n",
    "df_rets.index.asfreq = 'd'\n"
   ]
  },
  {
   "cell_type": "code",
   "execution_count": 12,
   "id": "1eaa265d",
   "metadata": {},
   "outputs": [],
   "source": [
    "# save data to file\n",
    "df_rets.to_csv(os.path.join(DATA_DIR, 'returns.csv'))"
   ]
  },
  {
   "cell_type": "code",
   "execution_count": 13,
   "id": "f0c1a860",
   "metadata": {},
   "outputs": [],
   "source": [
    "# load data from file\n",
    "df_rets = pd.read_csv(os.path.join(DATA_DIR, 'returns.csv'))"
   ]
  },
  {
   "cell_type": "code",
   "execution_count": 14,
   "id": "af4b50a5",
   "metadata": {},
   "outputs": [],
   "source": [
    "#Scale Cast "
   ]
  },
  {
   "cell_type": "code",
   "execution_count": 15,
   "id": "1ed6c564",
   "metadata": {},
   "outputs": [
    {
     "name": "stdout",
     "output_type": "stream",
     "text": [
      "Requirement already satisfied: scalecast in /Users/tsagedouglas/opt/miniconda3/envs/econ/lib/python3.9/site-packages (0.17.14)\n",
      "Requirement already satisfied: scipy in /Users/tsagedouglas/opt/miniconda3/envs/econ/lib/python3.9/site-packages (from scalecast) (1.9.3)\n",
      "Requirement already satisfied: numpy in /Users/tsagedouglas/opt/miniconda3/envs/econ/lib/python3.9/site-packages (from scalecast) (1.23.5)\n",
      "Requirement already satisfied: pandas in /Users/tsagedouglas/opt/miniconda3/envs/econ/lib/python3.9/site-packages (from scalecast) (1.5.2)\n",
      "Requirement already satisfied: seaborn in /Users/tsagedouglas/opt/miniconda3/envs/econ/lib/python3.9/site-packages (from scalecast) (0.12.1)\n",
      "Requirement already satisfied: eli5 in /Users/tsagedouglas/opt/miniconda3/envs/econ/lib/python3.9/site-packages (from scalecast) (0.13.0)\n",
      "Requirement already satisfied: scikit-learn in /Users/tsagedouglas/opt/miniconda3/envs/econ/lib/python3.9/site-packages (from scalecast) (1.2.2)\n",
      "Requirement already satisfied: lightgbm in /Users/tsagedouglas/opt/miniconda3/envs/econ/lib/python3.9/site-packages (from scalecast) (3.3.5)\n",
      "Requirement already satisfied: xgboost in /Users/tsagedouglas/opt/miniconda3/envs/econ/lib/python3.9/site-packages (from scalecast) (1.7.4)\n",
      "Requirement already satisfied: catboost in /Users/tsagedouglas/opt/miniconda3/envs/econ/lib/python3.9/site-packages (from scalecast) (1.1.1)\n",
      "Requirement already satisfied: openpyxl in /Users/tsagedouglas/opt/miniconda3/envs/econ/lib/python3.9/site-packages (from scalecast) (3.1.2)\n",
      "Requirement already satisfied: statsmodels in /Users/tsagedouglas/opt/miniconda3/envs/econ/lib/python3.9/site-packages (from scalecast) (0.13.5)\n",
      "Requirement already satisfied: matplotlib in /Users/tsagedouglas/opt/miniconda3/envs/econ/lib/python3.9/site-packages (from scalecast) (3.6.2)\n",
      "Requirement already satisfied: graphviz in /Users/tsagedouglas/opt/miniconda3/envs/econ/lib/python3.9/site-packages (from catboost->scalecast) (0.20.1)\n",
      "Requirement already satisfied: plotly in /Users/tsagedouglas/opt/miniconda3/envs/econ/lib/python3.9/site-packages (from catboost->scalecast) (5.13.1)\n",
      "Requirement already satisfied: six in /Users/tsagedouglas/opt/miniconda3/envs/econ/lib/python3.9/site-packages (from catboost->scalecast) (1.16.0)\n",
      "Requirement already satisfied: python-dateutil>=2.8.1 in /Users/tsagedouglas/opt/miniconda3/envs/econ/lib/python3.9/site-packages (from pandas->scalecast) (2.8.2)\n",
      "Requirement already satisfied: pytz>=2020.1 in /Users/tsagedouglas/opt/miniconda3/envs/econ/lib/python3.9/site-packages (from pandas->scalecast) (2022.6)\n",
      "Requirement already satisfied: jinja2>=3.0.0 in /Users/tsagedouglas/opt/miniconda3/envs/econ/lib/python3.9/site-packages (from eli5->scalecast) (3.1.2)\n",
      "Requirement already satisfied: attrs>17.1.0 in /Users/tsagedouglas/opt/miniconda3/envs/econ/lib/python3.9/site-packages (from eli5->scalecast) (22.1.0)\n",
      "Requirement already satisfied: tabulate>=0.7.7 in /Users/tsagedouglas/opt/miniconda3/envs/econ/lib/python3.9/site-packages (from eli5->scalecast) (0.9.0)\n",
      "Requirement already satisfied: joblib>=1.1.1 in /Users/tsagedouglas/opt/miniconda3/envs/econ/lib/python3.9/site-packages (from scikit-learn->scalecast) (1.2.0)\n",
      "Requirement already satisfied: threadpoolctl>=2.0.0 in /Users/tsagedouglas/opt/miniconda3/envs/econ/lib/python3.9/site-packages (from scikit-learn->scalecast) (3.1.0)\n",
      "Requirement already satisfied: wheel in /Users/tsagedouglas/opt/miniconda3/envs/econ/lib/python3.9/site-packages (from lightgbm->scalecast) (0.38.4)\n",
      "Requirement already satisfied: packaging>=20.0 in /Users/tsagedouglas/opt/miniconda3/envs/econ/lib/python3.9/site-packages (from matplotlib->scalecast) (21.3)\n",
      "Requirement already satisfied: kiwisolver>=1.0.1 in /Users/tsagedouglas/opt/miniconda3/envs/econ/lib/python3.9/site-packages (from matplotlib->scalecast) (1.4.4)\n",
      "Requirement already satisfied: fonttools>=4.22.0 in /Users/tsagedouglas/opt/miniconda3/envs/econ/lib/python3.9/site-packages (from matplotlib->scalecast) (4.38.0)\n",
      "Requirement already satisfied: pillow>=6.2.0 in /Users/tsagedouglas/opt/miniconda3/envs/econ/lib/python3.9/site-packages (from matplotlib->scalecast) (9.2.0)\n",
      "Requirement already satisfied: contourpy>=1.0.1 in /Users/tsagedouglas/opt/miniconda3/envs/econ/lib/python3.9/site-packages (from matplotlib->scalecast) (1.0.6)\n",
      "Requirement already satisfied: cycler>=0.10 in /Users/tsagedouglas/opt/miniconda3/envs/econ/lib/python3.9/site-packages (from matplotlib->scalecast) (0.11.0)\n",
      "Requirement already satisfied: pyparsing>=2.2.1 in /Users/tsagedouglas/opt/miniconda3/envs/econ/lib/python3.9/site-packages (from matplotlib->scalecast) (3.0.9)\n",
      "Requirement already satisfied: et-xmlfile in /Users/tsagedouglas/opt/miniconda3/envs/econ/lib/python3.9/site-packages (from openpyxl->scalecast) (1.1.0)\n",
      "Requirement already satisfied: patsy>=0.5.2 in /Users/tsagedouglas/opt/miniconda3/envs/econ/lib/python3.9/site-packages (from statsmodels->scalecast) (0.5.3)\n",
      "Requirement already satisfied: MarkupSafe>=2.0 in /Users/tsagedouglas/opt/miniconda3/envs/econ/lib/python3.9/site-packages (from jinja2>=3.0.0->eli5->scalecast) (2.1.1)\n",
      "Requirement already satisfied: tenacity>=6.2.0 in /Users/tsagedouglas/opt/miniconda3/envs/econ/lib/python3.9/site-packages (from plotly->catboost->scalecast) (8.2.2)\n",
      "Note: you may need to restart the kernel to use updated packages.\n"
     ]
    }
   ],
   "source": [
    "pip install scalecast"
   ]
  },
  {
   "cell_type": "code",
   "execution_count": 16,
   "id": "21fc0f2c",
   "metadata": {
    "scrolled": true
   },
   "outputs": [
    {
     "ename": "OSError",
     "evalue": "dlopen(/Users/tsagedouglas/opt/miniconda3/envs/econ/lib/python3.9/site-packages/lightgbm/lib_lightgbm.so, 0x0006): Library not loaded: /usr/local/opt/libomp/lib/libomp.dylib\n  Referenced from: <D21A7969-4567-3BC7-94ED-6A9E83AE9D78> /Users/tsagedouglas/opt/miniconda3/envs/econ/lib/python3.9/site-packages/lightgbm/lib_lightgbm.so\n  Reason: tried: '/usr/local/opt/libomp/lib/libomp.dylib' (no such file), '/System/Volumes/Preboot/Cryptexes/OS/usr/local/opt/libomp/lib/libomp.dylib' (no such file), '/usr/local/opt/libomp/lib/libomp.dylib' (no such file), '/usr/local/lib/libomp.dylib' (no such file), '/usr/lib/libomp.dylib' (no such file, not in dyld cache)",
     "output_type": "error",
     "traceback": [
      "\u001b[0;31m---------------------------------------------------------------------------\u001b[0m",
      "\u001b[0;31mOSError\u001b[0m                                   Traceback (most recent call last)",
      "Cell \u001b[0;32mIn[16], line 1\u001b[0m\n\u001b[0;32m----> 1\u001b[0m \u001b[38;5;28;01mfrom\u001b[39;00m \u001b[38;5;21;01mscalecast\u001b[39;00m\u001b[38;5;21;01m.\u001b[39;00m\u001b[38;5;21;01mForecaster\u001b[39;00m \u001b[38;5;28;01mimport\u001b[39;00m Forecaster\n\u001b[1;32m      2\u001b[0m \u001b[38;5;28;01mfrom\u001b[39;00m \u001b[38;5;21;01mpmdarima\u001b[39;00m \u001b[38;5;28;01mimport\u001b[39;00m auto_arima\n\u001b[1;32m      3\u001b[0m \u001b[38;5;28;01mimport\u001b[39;00m \u001b[38;5;21;01mmatplotlib\u001b[39;00m\u001b[38;5;21;01m.\u001b[39;00m\u001b[38;5;21;01mpyplot\u001b[39;00m \u001b[38;5;28;01mas\u001b[39;00m \u001b[38;5;21;01mplt\u001b[39;00m\n",
      "File \u001b[0;32m~/opt/miniconda3/envs/econ/lib/python3.9/site-packages/scalecast/__init__.py:8\u001b[0m\n\u001b[1;32m      6\u001b[0m \u001b[38;5;28;01mfrom\u001b[39;00m \u001b[38;5;21;01msklearn\u001b[39;00m\u001b[38;5;21;01m.\u001b[39;00m\u001b[38;5;21;01mensemble\u001b[39;00m \u001b[38;5;28;01mimport\u001b[39;00m GradientBoostingRegressor, RandomForestRegressor\n\u001b[1;32m      7\u001b[0m \u001b[38;5;28;01mfrom\u001b[39;00m \u001b[38;5;21;01mxgboost\u001b[39;00m \u001b[38;5;28;01mimport\u001b[39;00m XGBRegressor\n\u001b[0;32m----> 8\u001b[0m \u001b[38;5;28;01mfrom\u001b[39;00m \u001b[38;5;21;01mlightgbm\u001b[39;00m \u001b[38;5;28;01mimport\u001b[39;00m LGBMRegressor\n\u001b[1;32m      9\u001b[0m \u001b[38;5;28;01mfrom\u001b[39;00m \u001b[38;5;21;01mcatboost\u001b[39;00m \u001b[38;5;28;01mimport\u001b[39;00m CatBoostRegressor\n\u001b[1;32m     10\u001b[0m \u001b[38;5;28;01mfrom\u001b[39;00m \u001b[38;5;21;01msklearn\u001b[39;00m\u001b[38;5;21;01m.\u001b[39;00m\u001b[38;5;21;01msvm\u001b[39;00m \u001b[38;5;28;01mimport\u001b[39;00m SVR\n",
      "File \u001b[0;32m~/opt/miniconda3/envs/econ/lib/python3.9/site-packages/lightgbm/__init__.py:8\u001b[0m\n\u001b[1;32m      2\u001b[0m \u001b[38;5;124;03m\"\"\"LightGBM, Light Gradient Boosting Machine.\u001b[39;00m\n\u001b[1;32m      3\u001b[0m \n\u001b[1;32m      4\u001b[0m \u001b[38;5;124;03mContributors: https://github.com/microsoft/LightGBM/graphs/contributors.\u001b[39;00m\n\u001b[1;32m      5\u001b[0m \u001b[38;5;124;03m\"\"\"\u001b[39;00m\n\u001b[1;32m      6\u001b[0m \u001b[38;5;28;01mfrom\u001b[39;00m \u001b[38;5;21;01mpathlib\u001b[39;00m \u001b[38;5;28;01mimport\u001b[39;00m Path\n\u001b[0;32m----> 8\u001b[0m \u001b[38;5;28;01mfrom\u001b[39;00m \u001b[38;5;21;01m.\u001b[39;00m\u001b[38;5;21;01mbasic\u001b[39;00m \u001b[38;5;28;01mimport\u001b[39;00m Booster, Dataset, Sequence, register_logger\n\u001b[1;32m      9\u001b[0m \u001b[38;5;28;01mfrom\u001b[39;00m \u001b[38;5;21;01m.\u001b[39;00m\u001b[38;5;21;01mcallback\u001b[39;00m \u001b[38;5;28;01mimport\u001b[39;00m early_stopping, log_evaluation, print_evaluation, record_evaluation, reset_parameter\n\u001b[1;32m     10\u001b[0m \u001b[38;5;28;01mfrom\u001b[39;00m \u001b[38;5;21;01m.\u001b[39;00m\u001b[38;5;21;01mengine\u001b[39;00m \u001b[38;5;28;01mimport\u001b[39;00m CVBooster, cv, train\n",
      "File \u001b[0;32m~/opt/miniconda3/envs/econ/lib/python3.9/site-packages/lightgbm/basic.py:110\u001b[0m\n\u001b[1;32m    106\u001b[0m         \u001b[38;5;28;01mraise\u001b[39;00m LightGBMError(lib\u001b[38;5;241m.\u001b[39mLGBM_GetLastError()\u001b[38;5;241m.\u001b[39mdecode(\u001b[38;5;124m'\u001b[39m\u001b[38;5;124mutf-8\u001b[39m\u001b[38;5;124m'\u001b[39m))\n\u001b[1;32m    107\u001b[0m     \u001b[38;5;28;01mreturn\u001b[39;00m lib\n\u001b[0;32m--> 110\u001b[0m _LIB \u001b[38;5;241m=\u001b[39m \u001b[43m_load_lib\u001b[49m\u001b[43m(\u001b[49m\u001b[43m)\u001b[49m\n\u001b[1;32m    113\u001b[0m NUMERIC_TYPES \u001b[38;5;241m=\u001b[39m (\u001b[38;5;28mint\u001b[39m, \u001b[38;5;28mfloat\u001b[39m, \u001b[38;5;28mbool\u001b[39m)\n\u001b[1;32m    116\u001b[0m \u001b[38;5;28;01mdef\u001b[39;00m \u001b[38;5;21m_safe_call\u001b[39m(ret: \u001b[38;5;28mint\u001b[39m) \u001b[38;5;241m-\u001b[39m\u001b[38;5;241m>\u001b[39m \u001b[38;5;28;01mNone\u001b[39;00m:\n",
      "File \u001b[0;32m~/opt/miniconda3/envs/econ/lib/python3.9/site-packages/lightgbm/basic.py:101\u001b[0m, in \u001b[0;36m_load_lib\u001b[0;34m()\u001b[0m\n\u001b[1;32m     99\u001b[0m \u001b[38;5;28;01mif\u001b[39;00m \u001b[38;5;28mlen\u001b[39m(lib_path) \u001b[38;5;241m==\u001b[39m \u001b[38;5;241m0\u001b[39m:\n\u001b[1;32m    100\u001b[0m     \u001b[38;5;28;01mreturn\u001b[39;00m \u001b[38;5;28;01mNone\u001b[39;00m\n\u001b[0;32m--> 101\u001b[0m lib \u001b[38;5;241m=\u001b[39m \u001b[43mctypes\u001b[49m\u001b[38;5;241;43m.\u001b[39;49m\u001b[43mcdll\u001b[49m\u001b[38;5;241;43m.\u001b[39;49m\u001b[43mLoadLibrary\u001b[49m\u001b[43m(\u001b[49m\u001b[43mlib_path\u001b[49m\u001b[43m[\u001b[49m\u001b[38;5;241;43m0\u001b[39;49m\u001b[43m]\u001b[49m\u001b[43m)\u001b[49m\n\u001b[1;32m    102\u001b[0m lib\u001b[38;5;241m.\u001b[39mLGBM_GetLastError\u001b[38;5;241m.\u001b[39mrestype \u001b[38;5;241m=\u001b[39m ctypes\u001b[38;5;241m.\u001b[39mc_char_p\n\u001b[1;32m    103\u001b[0m callback \u001b[38;5;241m=\u001b[39m ctypes\u001b[38;5;241m.\u001b[39mCFUNCTYPE(\u001b[38;5;28;01mNone\u001b[39;00m, ctypes\u001b[38;5;241m.\u001b[39mc_char_p)\n",
      "File \u001b[0;32m~/opt/miniconda3/envs/econ/lib/python3.9/ctypes/__init__.py:452\u001b[0m, in \u001b[0;36mLibraryLoader.LoadLibrary\u001b[0;34m(self, name)\u001b[0m\n\u001b[1;32m    451\u001b[0m \u001b[38;5;28;01mdef\u001b[39;00m \u001b[38;5;21mLoadLibrary\u001b[39m(\u001b[38;5;28mself\u001b[39m, name):\n\u001b[0;32m--> 452\u001b[0m     \u001b[38;5;28;01mreturn\u001b[39;00m \u001b[38;5;28;43mself\u001b[39;49m\u001b[38;5;241;43m.\u001b[39;49m\u001b[43m_dlltype\u001b[49m\u001b[43m(\u001b[49m\u001b[43mname\u001b[49m\u001b[43m)\u001b[49m\n",
      "File \u001b[0;32m~/opt/miniconda3/envs/econ/lib/python3.9/ctypes/__init__.py:374\u001b[0m, in \u001b[0;36mCDLL.__init__\u001b[0;34m(self, name, mode, handle, use_errno, use_last_error, winmode)\u001b[0m\n\u001b[1;32m    371\u001b[0m \u001b[38;5;28mself\u001b[39m\u001b[38;5;241m.\u001b[39m_FuncPtr \u001b[38;5;241m=\u001b[39m _FuncPtr\n\u001b[1;32m    373\u001b[0m \u001b[38;5;28;01mif\u001b[39;00m handle \u001b[38;5;129;01mis\u001b[39;00m \u001b[38;5;28;01mNone\u001b[39;00m:\n\u001b[0;32m--> 374\u001b[0m     \u001b[38;5;28mself\u001b[39m\u001b[38;5;241m.\u001b[39m_handle \u001b[38;5;241m=\u001b[39m \u001b[43m_dlopen\u001b[49m\u001b[43m(\u001b[49m\u001b[38;5;28;43mself\u001b[39;49m\u001b[38;5;241;43m.\u001b[39;49m\u001b[43m_name\u001b[49m\u001b[43m,\u001b[49m\u001b[43m \u001b[49m\u001b[43mmode\u001b[49m\u001b[43m)\u001b[49m\n\u001b[1;32m    375\u001b[0m \u001b[38;5;28;01melse\u001b[39;00m:\n\u001b[1;32m    376\u001b[0m     \u001b[38;5;28mself\u001b[39m\u001b[38;5;241m.\u001b[39m_handle \u001b[38;5;241m=\u001b[39m handle\n",
      "\u001b[0;31mOSError\u001b[0m: dlopen(/Users/tsagedouglas/opt/miniconda3/envs/econ/lib/python3.9/site-packages/lightgbm/lib_lightgbm.so, 0x0006): Library not loaded: /usr/local/opt/libomp/lib/libomp.dylib\n  Referenced from: <D21A7969-4567-3BC7-94ED-6A9E83AE9D78> /Users/tsagedouglas/opt/miniconda3/envs/econ/lib/python3.9/site-packages/lightgbm/lib_lightgbm.so\n  Reason: tried: '/usr/local/opt/libomp/lib/libomp.dylib' (no such file), '/System/Volumes/Preboot/Cryptexes/OS/usr/local/opt/libomp/lib/libomp.dylib' (no such file), '/usr/local/opt/libomp/lib/libomp.dylib' (no such file), '/usr/local/lib/libomp.dylib' (no such file), '/usr/lib/libomp.dylib' (no such file, not in dyld cache)"
     ]
    }
   ],
   "source": [
    "from scalecast.Forecaster import Forecaster\n",
    "from pmdarima import auto_arima\n",
    "import matplotlib.pyplot as plt\n",
    "import seaborn as sns\n",
    "sns.set(rc={'figure.figsize':(14,7)})\n",
    "\n",
    "df_rets = pd.read_csv(os.path.join(DATA_DIR, 'returns.csv'))\n",
    "f = Forecaster(y=df['#Stocks'],current_dates=df['Month'])\n",
    "\n",
    "f.generate_future_dates(12) # 12-period forecast horizon\n",
    "f.set_test_length(.2) # 20% test set\n",
    "f.set_estimator('arima') # set arima\n",
    "f.manual_forecast(call_me='arima1') # forecast with arima\n",
    "\n",
    "f.plot_test_set(ci=True) # view test results\n",
    "plt.title('ARIMA Test-Set Performance',size=14)\n",
    "plt.show()"
   ]
  },
  {
   "cell_type": "code",
   "execution_count": null,
   "id": "9899b188",
   "metadata": {},
   "outputs": [],
   "source": [
    "# EDA\n",
    "f.plot_acf()\n",
    "plt.show()\n",
    "f.plot_pacf()\n",
    "plt.show()\n",
    "f.seasonal_decompose().plot()\n",
    "plt.show()\n",
    "stat, pval, _, _, _, _ = f.adf_test(full_res=True)\n",
    "print(stat)\n",
    "print(pval)\n",
    "\n",
    "# Forecast\n",
    "f.manual_forecast(order=(1,0,1),seasonal_order=(2,1,1,12),call_me='arima2')\n",
    "\n",
    "# View test results\n",
    "f.plot_test_set(ci=True,models='arima2')\n",
    "plt.title('ARIMA Test-Set Performance',size=14)\n",
    "plt.show()\n",
    "\n",
    "# View forecast results\n",
    "f.plot(ci=True,models='arima2')\n",
    "plt.title('ARIMA Forecast Performance',size=14)\n",
    "plt.show()\n",
    "\n",
    "# See summary stats\n",
    "f.regr.summary()"
   ]
  },
  {
   "cell_type": "code",
   "execution_count": null,
   "id": "b773c3f2",
   "metadata": {},
   "outputs": [],
   "source": [
    "#Full Automation - AIC min"
   ]
  },
  {
   "cell_type": "code",
   "execution_count": null,
   "id": "f42d6a04",
   "metadata": {},
   "outputs": [],
   "source": [
    "pip install pmdarima"
   ]
  },
  {
   "cell_type": "code",
   "execution_count": null,
   "id": "8d313203",
   "metadata": {},
   "outputs": [],
   "source": [
    "from scalecast.auxmodels import auto_arima\n",
    "\n",
    "auto_arima(\n",
    "    f,\n",
    "    start_P=1,\n",
    "    start_q=1,\n",
    "    max_p=6,\n",
    "    max_q=6,\n",
    "    m=12,\n",
    "    seasonal=True,\n",
    "    max_P=2, \n",
    "    max_D=2,\n",
    "    max_Q=2,\n",
    "    max_d=2,\n",
    "    trace=True,\n",
    "    error_action='ignore',\n",
    "    suppress_warnings=True,\n",
    "    stepwise=True,\n",
    "    information_criterion=\"aic\",\n",
    "    alpha=0.05,\n",
    "    scoring='mse',\n",
    "    call_me='arima3',\n",
    ")\n",
    "\n",
    "f.plot_test_set(ci=True,models='arima3')\n",
    "plt.title('ARIMA Test-Set Performance',size=14)\n",
    "plt.show()\n",
    "\n",
    "f.plot(ci=True,models='arima3')\n",
    "plt.title('ARIMA Forecast Performance',size=14)\n",
    "plt.show()"
   ]
  },
  {
   "cell_type": "code",
   "execution_count": null,
   "id": "71d132d4",
   "metadata": {},
   "outputs": [],
   "source": [
    "f.regr.summary()"
   ]
  },
  {
   "cell_type": "code",
   "execution_count": null,
   "id": "f8a75e77",
   "metadata": {},
   "outputs": [],
   "source": [
    "#Full Automation - Grid Search "
   ]
  },
  {
   "cell_type": "code",
   "execution_count": null,
   "id": "66c97601",
   "metadata": {},
   "outputs": [],
   "source": [
    "f.set_validation_length(12)\n",
    "grid = {\n",
    "    'order':[(1,1,1),(1,1,0),(0,1,1)],\n",
    "    'seasonal_order':[(2,1,1,12),(1,1,1,12),(2,1,0,12),(0,1,0,12)]\n",
    "}\n",
    "\n",
    "f.ingest_grid(grid)\n",
    "f.tune()\n",
    "f.auto_forecast(call_me='arima4')\n",
    "\n",
    "f.plot_test_set(ci=True,models='arima4')\n",
    "plt.title('ARIMA Test-Set Performance',size=14)\n",
    "plt.show()\n",
    "\n",
    "f.plot(ci=True,models='arima4')\n",
    "plt.title('ARIMA Forecast Performance',size=14)\n",
    "plt.show()\n",
    "\n",
    "f.regr.summary()"
   ]
  },
  {
   "cell_type": "code",
   "execution_count": null,
   "id": "1537f890",
   "metadata": {},
   "outputs": [],
   "source": [
    "# selectinig and Exporting?"
   ]
  },
  {
   "cell_type": "code",
   "execution_count": null,
   "id": "b14d4c6d",
   "metadata": {},
   "outputs": [],
   "source": [
    "pd.options.display.max_colwidth = 100\n",
    "results = f.export(to_excel=True,\n",
    "                   excel_name='arima_results.xlsx',\n",
    "                   determine_best_by='TestSetMAPE')"
   ]
  },
  {
   "cell_type": "code",
   "execution_count": null,
   "id": "206cd18f",
   "metadata": {},
   "outputs": [],
   "source": []
  }
 ],
 "metadata": {
  "kernelspec": {
   "display_name": "Python 3 (ipykernel)",
   "language": "python",
   "name": "python3"
  },
  "language_info": {
   "codemirror_mode": {
    "name": "ipython",
    "version": 3
   },
   "file_extension": ".py",
   "mimetype": "text/x-python",
   "name": "python",
   "nbconvert_exporter": "python",
   "pygments_lexer": "ipython3",
   "version": "3.9.15"
  }
 },
 "nbformat": 4,
 "nbformat_minor": 5
}
