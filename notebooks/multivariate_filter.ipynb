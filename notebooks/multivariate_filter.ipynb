{
 "cells": [
  {
   "cell_type": "code",
   "execution_count": 1,
   "id": "d8528c9f-e1fd-4036-ba16-bb06bff5006f",
   "metadata": {},
   "outputs": [
    {
     "name": "stdout",
     "output_type": "stream",
     "text": [
      "DATA_DIR is existant under: C:\\Users\\LukasGrahl\\Documents\\GIT\\bayes_filter\\data\n"
     ]
    }
   ],
   "source": [
    "%run init_notebookspace.py"
   ]
  },
  {
   "cell_type": "markdown",
   "id": "f1dd11ef-0f69-4f70-9f8f-b2ab84c6ba28",
   "metadata": {},
   "source": [
    "# multi dimension filtering"
   ]
  },
  {
   "cell_type": "markdown",
   "id": "02d1359d-584f-40dd-9f9e-e14caaf9cd72",
   "metadata": {},
   "source": [
    "gaussian"
   ]
  },
  {
   "cell_type": "code",
   "execution_count": 2,
   "id": "4ac1d26a-6ea2-498b-9522-f5d2b51e06bf",
   "metadata": {},
   "outputs": [],
   "source": [
    "import numpy as np\n",
    "import sympy as sp\n",
    "\n",
    "import matplotlib.pyplot as plt"
   ]
  },
  {
   "cell_type": "code",
   "execution_count": 3,
   "id": "0c5d9fe9-3332-44ca-a391-33a1b7be6168",
   "metadata": {},
   "outputs": [],
   "source": [
    "from scipy.stats import multivariate_normal"
   ]
  },
  {
   "cell_type": "code",
   "execution_count": 4,
   "id": "7d3585a1-2b28-446e-ba94-b4b02af3e7cf",
   "metadata": {},
   "outputs": [
    {
     "data": {
      "text/plain": [
       "0.031142069767903083"
      ]
     },
     "execution_count": 4,
     "metadata": {},
     "output_type": "execute_result"
    }
   ],
   "source": [
    "μ = np.array([.5, .8])\n",
    "P = np.array([[8., 0.], \n",
    "              [0., 3.]])\n",
    "\n",
    "mn = multivariate_normal(μ, P)\n",
    "mn.pdf([.4, .3])"
   ]
  },
  {
   "cell_type": "markdown",
   "id": "89cfd6f3-d7ee-4b4f-a9b4-6e7a2b7db49d",
   "metadata": {},
   "source": [
    "generate data example"
   ]
  },
  {
   "cell_type": "code",
   "execution_count": 5,
   "id": "8e936f8a-cec2-4196-a21f-ef0ae37f43b5",
   "metadata": {},
   "outputs": [],
   "source": [
    "import math\n",
    "import numpy as np\n",
    "from numpy.random import randn\n",
    "from filterpy.common import Q_discrete_white_noise\n",
    "\n",
    "# generate random data\n",
    "def compute_dog_data(z_var, process_var, count=1, dt=1.):\n",
    "    \"returns track, measurements 1D ndarrays\"\n",
    "    x, vel = 0., 1.\n",
    "    z_std = math.sqrt(z_var) \n",
    "    p_std = math.sqrt(process_var)\n",
    "    xs, zs = [], []\n",
    "    for _ in range(count):\n",
    "        v = vel + (randn() * p_std)\n",
    "        x += v*dt        \n",
    "        xs.append(x)\n",
    "        zs.append(x + randn() * z_std)        \n",
    "    return np.array(xs), np.array(zs)"
   ]
  },
  {
   "cell_type": "markdown",
   "id": "fa418d76-00dd-4a26-a23b-8c5f6cf7d0ca",
   "metadata": {},
   "source": [
    "Kalman Filter equations"
   ]
  },
  {
   "cell_type": "markdown",
   "id": "861f824a-692e-4014-9f77-a1f7434441f2",
   "metadata": {},
   "source": [
    "$\\bf{x}_{2x1}$ state space, $\\bf \\bar{x}$ is the $x_{t+1}$ prediction \\\n",
    "$\\bf{F}$ state transition matrix: $x_t$  -> $x_{t+1}$ \\\n",
    "$\\bf{u}$ steering directions fed to the object \\\n",
    "$\\bf{B}$ steering directions transition matrix, translates into position \\\n",
    "\n",
    "$\\bf{z}_{1x1}$ measurement \\\n",
    "$\\bf{y}_{1x1}$ residual of prediction $\\bf \\bar{x}$ and measurement \\\n",
    "$\\bf{H}_{2 x 1}$ transition matrix to translate velocity prediction back to position\n",
    "\n",
    "$\\bf{S}$ System uncertainty \\\n",
    "$\\bf{K}$ Kalman gain, scales $x_{t+1}$ between measurement and prediction based on either's uncertainity\n",
    "\n",
    "Prediction Step:\n",
    "\n",
    "$$ \\bf \\bar{x} = Fx + Bu$$\n",
    "$$ \\bf \\bar{P} = FPF^T + Q $$\n",
    "\n",
    "measurment space: translate velocity back to position to calculate residual $y$\n",
    "$$ \\bf y = z - H\\bar{x} $$\n",
    "$$ \\bf S = H \\bar{P} H^T + R $$\n",
    "$$ \\bf K = \\bar{P} H^T S^{-1} \\approx \\frac{uncertainty_{pred}}{uncertainity_{measure}} H^T $$\n",
    "\n",
    "Update:\n",
    "$$ \\bf x_{t+1} = \\bar{x} + Ky $$\n",
    "$$ \\bf P_{t+1} = (I - KH) \\bar{P} $$"
   ]
  },
  {
   "cell_type": "markdown",
   "id": "cf76df47-3a54-4e83-a0ab-0dbd3265bb58",
   "metadata": {},
   "source": [
    "Defining the state space"
   ]
  },
  {
   "cell_type": "code",
   "execution_count": 6,
   "id": "f77a956b-6d2b-42ea-bf67-00b1247f9f2f",
   "metadata": {},
   "outputs": [],
   "source": [
    "x = np.array([10., 4.5]) # state variable x, position x, y in a cordinate system\n",
    "P = np.diag([500., 49.]) # cov matrix"
   ]
  },
  {
   "cell_type": "markdown",
   "id": "618c9dfe-5907-4000-963f-690779411524",
   "metadata": {},
   "source": [
    "system equation: we need to define a system euqation which we believe to describe the systems evolution\n",
    "$$x_t = \\dot{x} t + x_{t-1}$$\n",
    "in this case Newtons law of motion, which in matrix forms turns into:"
   ]
  },
  {
   "cell_type": "code",
   "execution_count": 7,
   "id": "d97e17c4-4077-4aab-ab1f-ce1e2ea59da0",
   "metadata": {},
   "outputs": [
    {
     "data": {
      "text/latex": [
       "$\\displaystyle \\left[\\begin{matrix}x_{t+1}\\\\\\dot{x}_{t+1}\\end{matrix}\\right] = \\left[\\begin{matrix}\\Delta_{t} \\dot{x}_t + x_{t}\\\\\\dot{x}_t\\end{matrix}\\right]$"
      ],
      "text/plain": [
       "Eq(Matrix([\n",
       "[      x_{t+1}],\n",
       "[\\dot{x}_{t+1}]]), Matrix([\n",
       "[\\Delta_t*\\dot{x}_t + x_t],\n",
       "[               \\dot{x}_t]]))"
      ]
     },
     "execution_count": 7,
     "metadata": {},
     "output_type": "execute_result"
    }
   ],
   "source": [
    "x1, dx1, x, dx, dt = sp.symbols(['x_{t+1}', '\\dot{x}_{t+1}', 'x_t', '\\dot{x}_t', '\\Delta_t'])\n",
    "X1 = sp.Matrix([x1, dx1]) # state t+1\n",
    "A = sp.Matrix([[1, dt],[0, 1]]) # state transition function\n",
    "X = sp.Matrix([x, dx]) # state at t\n",
    "\n",
    "sp.Eq(X1, A @ X)"
   ]
  },
  {
   "cell_type": "markdown",
   "id": "0ac8cb5c-3330-4730-9570-90f986a46027",
   "metadata": {},
   "source": [
    "we know that the relation between position and velocity can be summarised as:\n",
    "\n",
    "$$\\begin{bmatrix}\\dot x \\\\ \\dot v\\end{bmatrix} =\\begin{bmatrix}0&1\\\\0&0\\end{bmatrix} \\begin{bmatrix}x \\\\ v\\end{bmatrix}$$\n",
    "\n",
    "$\\bf A$ is the matrix linking accerlation and the state $x_t$, transformin $\\bf A$ to the transition matrix function $\\bf F$ requires taking the matrix exponential"
   ]
  },
  {
   "cell_type": "code",
   "execution_count": 8,
   "id": "10190548-7e0f-48dd-8a9b-a80e76f26c5b",
   "metadata": {},
   "outputs": [
    {
     "data": {
      "text/plain": [
       "array([[1., 1.],\n",
       "       [0., 1.]])"
      ]
     },
     "execution_count": 8,
     "metadata": {},
     "output_type": "execute_result"
    }
   ],
   "source": [
    "from scipy.linalg import expm\n",
    "expm(np.array([[0,1], [0,0]]))"
   ]
  },
  {
   "cell_type": "markdown",
   "id": "ec087547-a7f0-4e73-bdac-694df690ce8d",
   "metadata": {},
   "source": [
    "this is F, where F[0,1] corresponds to the change in time of unit on, since: \n",
    "$$ x_{t+1} = x_t + \\Delta_t \\dot{x_t} $$"
   ]
  },
  {
   "cell_type": "markdown",
   "id": "e28b322e-c78c-41c1-a280-2eb897d886eb",
   "metadata": {},
   "source": [
    "example data"
   ]
  },
  {
   "cell_type": "code",
   "execution_count": 9,
   "id": "323e354f-a83c-4de2-adfe-2580355d2eaf",
   "metadata": {},
   "outputs": [],
   "source": [
    "count = 10\n",
    "R_var = 5.\n",
    "Q_var = .1\n",
    "R = np.array([[R_var]]) # measurement cov matrix\n",
    "Q = Q_discrete_white_noise(dim=2, dt=1., var=Q_var) # measurement noise\n",
    "track, zs = compute_dog_data(5, .1, count) # measurement z from sensor\n",
    "\n",
    "z = np.array([zs[0]])"
   ]
  },
  {
   "cell_type": "code",
   "execution_count": 10,
   "id": "5e6ffd47-85fa-4391-ae70-4bc523e2d8a1",
   "metadata": {},
   "outputs": [],
   "source": [
    "B = np.array([[0, 0], [0, 0]]) # control input model e.g. how the robot translate movement commands\n",
    "u = np.array([[0, 0]]).reshape(2, -1) # control input e.g. we are telling a robot where to go\n",
    "\n",
    "dt = 0.1\n",
    "F = np.array([[1, dt], [0, 1]]) # state transition function from t to t+1\n",
    "x = np.array([[0, 1]]).reshape(2, -1)  # state space\n",
    "P = np.diag([500, 49]) # covariance matrix\n",
    "H = np.array([[1., 0.]]) # measurement transition matrix"
   ]
  },
  {
   "cell_type": "code",
   "execution_count": 11,
   "id": "1db53658-ab14-4c14-b9d5-5fb6032238e9",
   "metadata": {},
   "outputs": [],
   "source": [
    "# predict"
   ]
  },
  {
   "cell_type": "code",
   "execution_count": 12,
   "id": "b6ecec27-f74f-41b1-acdd-34f669f704fe",
   "metadata": {},
   "outputs": [],
   "source": [
    "# x_bar: state prior\n",
    "x_b = F @ x + B @ u\n",
    "\n",
    "# P_bar: covariance prior\n",
    "P_b = F @ P @ F.transpose() + Q"
   ]
  },
  {
   "cell_type": "code",
   "execution_count": 13,
   "id": "e5c5eb6e-6a71-4789-aa47-9fa18c3526c3",
   "metadata": {},
   "outputs": [],
   "source": [
    "# update"
   ]
  },
  {
   "cell_type": "code",
   "execution_count": 14,
   "id": "139c2adc-2a7a-4311-b2da-eb10c4ac0bfd",
   "metadata": {},
   "outputs": [],
   "source": [
    "S = H @ P_b @ H.transpose() + R # translate into measurement space and add system uncertainty\n",
    "K = P_b @ H.transpose() @ np.linalg.inv(S) # Kalman gain, e.g. if .9 90% are taken from measurement and 10% from prediction\n",
    "\n",
    "# residual\n",
    "y = z - H @ x_b\n",
    "\n",
    "# updated P: P_t+1 \n",
    "P1 = (np.identity(2) - K@H)@P_b\n",
    "\n",
    "# update x: x_t+1\n",
    "x1 = x_b + K@y"
   ]
  },
  {
   "cell_type": "markdown",
   "id": "f34f56a8-b04e-4b4e-8d29-18d7b732d51c",
   "metadata": {},
   "source": [
    "Using the Filter Class"
   ]
  },
  {
   "cell_type": "code",
   "execution_count": 15,
   "id": "75b67550-2534-48ab-9cdf-286322d6a5a6",
   "metadata": {},
   "outputs": [],
   "source": [
    "from src.classes import KalmanFilterBase\n",
    "from src.utils import get_confidence_interval"
   ]
  },
  {
   "cell_type": "code",
   "execution_count": 16,
   "id": "3314e163-d35a-47ac-87c7-5d1305ff3bf4",
   "metadata": {},
   "outputs": [],
   "source": [
    "Kfilter = KalmanFilterBase(2,1)\n",
    "\n",
    "R_var = 5.\n",
    "Q_var = .1\n",
    "Kfilter.R = np.array([[R_var]]) # measurement cov matrix\n",
    "Kfilter.Q = Q_discrete_white_noise(dim=2, dt=1., var=Q_var) # measurement noise\n",
    "\n",
    "Kfilter.B = np.array([[0, 0], [0, 0]]) # control input model e.g. how the robot translate movement commands\n",
    "Kfilter.u = np.array([0, 0]).reshape(2, -1) # control input e.g. we are telling a robot where to go\n",
    "\n",
    "dt = 0.1\n",
    "Kfilter.F = np.array([[1, dt], [0, 1]]) # state transition function from t to t+1\n",
    "# Kfilter.x = np.array([0, 1]).reshape(2, -1)  # state space\n",
    "# Kfilter.P = np.diag([500, 49]) # covariance matrix\n",
    "Kfilter.H = np.array([[1., 0.]]) # measurement transition matrix\n",
    "\n",
    "Kfilter._sanity_check()\n",
    "x = np.array([0, 1]).reshape(2, -1)\n",
    "P = np.diag([500, 49])\n",
    "count = 20\n",
    "track, zs = compute_dog_data(5, .1, count) # measurement z from sensor\n",
    "\n",
    "xf, covf = Kfilter.run(x, P, zs)"
   ]
  },
  {
   "cell_type": "markdown",
   "id": "a4095a44-1375-4f67-a0cc-67cb170fa74b",
   "metadata": {},
   "source": [
    "plotting results"
   ]
  },
  {
   "cell_type": "code",
   "execution_count": 23,
   "id": "7f094f49-6374-4ca9-8d48-b18a51ee2e8f",
   "metadata": {},
   "outputs": [
    {
     "ename": "NameError",
     "evalue": "name 'pos' is not defined",
     "output_type": "error",
     "traceback": [
      "\u001b[1;31m---------------------------------------------------------------------------\u001b[0m",
      "\u001b[1;31mNameError\u001b[0m                                 Traceback (most recent call last)",
      "Cell \u001b[1;32mIn [23], line 1\u001b[0m\n\u001b[1;32m----> 1\u001b[0m \u001b[43mpos\u001b[49m\n",
      "\u001b[1;31mNameError\u001b[0m: name 'pos' is not defined"
     ]
    }
   ],
   "source": [
    "pos"
   ]
  },
  {
   "cell_type": "code",
   "execution_count": 22,
   "id": "19a1cb2a-fe7b-4612-9caf-129464274cab",
   "metadata": {},
   "outputs": [
    {
     "data": {
      "text/plain": [
       "array([[[ 0.40014728],\n",
       "        [ 1.0029684 ]],\n",
       "\n",
       "       [[ 1.10942946],\n",
       "        [ 1.5594902 ]],\n",
       "\n",
       "       [[ 3.4897794 ],\n",
       "        [ 5.97528228]],\n",
       "\n",
       "       [[ 4.90365908],\n",
       "        [ 7.99496987]],\n",
       "\n",
       "       [[ 6.02698245],\n",
       "        [ 8.79642747]],\n",
       "\n",
       "       [[ 4.27517541],\n",
       "        [ 2.77618627]],\n",
       "\n",
       "       [[ 5.33619525],\n",
       "        [ 4.39388816]],\n",
       "\n",
       "       [[ 5.78635563],\n",
       "        [ 4.41390009]],\n",
       "\n",
       "       [[ 7.02405773],\n",
       "        [ 5.75071604]],\n",
       "\n",
       "       [[ 7.27589983],\n",
       "        [ 5.2569846 ]],\n",
       "\n",
       "       [[ 7.55166968],\n",
       "        [ 4.90695334]],\n",
       "\n",
       "       [[ 9.41525746],\n",
       "        [ 6.68339832]],\n",
       "\n",
       "       [[10.39627047],\n",
       "        [ 7.05995267]],\n",
       "\n",
       "       [[11.54377034],\n",
       "        [ 7.55831521]],\n",
       "\n",
       "       [[13.29362985],\n",
       "        [ 8.61704586]],\n",
       "\n",
       "       [[15.26737606],\n",
       "        [ 9.74176947]],\n",
       "\n",
       "       [[16.7937971 ],\n",
       "        [10.27536992]],\n",
       "\n",
       "       [[18.35288477],\n",
       "        [10.76885371]],\n",
       "\n",
       "       [[19.7262011 ],\n",
       "        [11.03470105]],\n",
       "\n",
       "       [[20.31195941],\n",
       "        [10.58392549]]])"
      ]
     },
     "execution_count": 22,
     "metadata": {},
     "output_type": "execute_result"
    }
   ],
   "source": [
    "xf"
   ]
  },
  {
   "cell_type": "code",
   "execution_count": 17,
   "id": "ba891538-ae4e-4bc9-97e2-3aacee93ede5",
   "metadata": {},
   "outputs": [
    {
     "ename": "ValueError",
     "evalue": "'y1' is not 1-dimensional",
     "output_type": "error",
     "traceback": [
      "\u001b[1;31m---------------------------------------------------------------------------\u001b[0m",
      "\u001b[1;31mValueError\u001b[0m                                Traceback (most recent call last)",
      "Cell \u001b[1;32mIn [17], line 6\u001b[0m\n\u001b[0;32m      3\u001b[0m ax[\u001b[38;5;241m0\u001b[39m]\u001b[38;5;241m.\u001b[39mplot(zs, label\u001b[38;5;241m=\u001b[39m\u001b[38;5;124m'\u001b[39m\u001b[38;5;124mmeasurement\u001b[39m\u001b[38;5;124m'\u001b[39m, color\u001b[38;5;241m=\u001b[39m\u001b[38;5;124m'\u001b[39m\u001b[38;5;124mgreen\u001b[39m\u001b[38;5;124m'\u001b[39m, linewidth\u001b[38;5;241m=\u001b[39m\u001b[38;5;241m0\u001b[39m, marker\u001b[38;5;241m=\u001b[39m\u001b[38;5;124m'\u001b[39m\u001b[38;5;124mo\u001b[39m\u001b[38;5;124m'\u001b[39m)\n\u001b[0;32m      5\u001b[0m _ \u001b[38;5;241m=\u001b[39m get_confidence_interval(xf[\u001b[38;5;241m0\u001b[39m], covf[:,\u001b[38;5;241m0\u001b[39m,\u001b[38;5;241m0\u001b[39m])\n\u001b[1;32m----> 6\u001b[0m \u001b[43max\u001b[49m\u001b[43m[\u001b[49m\u001b[38;5;241;43m0\u001b[39;49m\u001b[43m]\u001b[49m\u001b[38;5;241;43m.\u001b[39;49m\u001b[43mfill_between\u001b[49m\u001b[43m(\u001b[49m\u001b[38;5;28;43mrange\u001b[39;49m\u001b[43m(\u001b[49m\u001b[38;5;241;43m0\u001b[39;49m\u001b[43m,\u001b[49m\u001b[43m \u001b[49m\u001b[43mcount\u001b[49m\u001b[43m)\u001b[49m\u001b[43m,\u001b[49m\u001b[43m \u001b[49m\u001b[43m_\u001b[49m\u001b[43m[\u001b[49m\u001b[38;5;241;43m0\u001b[39;49m\u001b[43m]\u001b[49m\u001b[43m,\u001b[49m\u001b[43m \u001b[49m\u001b[43m_\u001b[49m\u001b[43m[\u001b[49m\u001b[38;5;241;43m1\u001b[39;49m\u001b[43m]\u001b[49m\u001b[43m,\u001b[49m\u001b[43m \u001b[49m\u001b[43malpha\u001b[49m\u001b[38;5;241;43m=\u001b[39;49m\u001b[38;5;241;43m.2\u001b[39;49m\u001b[43m,\u001b[49m\u001b[43m \u001b[49m\u001b[43mcolor\u001b[49m\u001b[38;5;241;43m=\u001b[39;49m\u001b[38;5;124;43m'\u001b[39;49m\u001b[38;5;124;43myellow\u001b[39;49m\u001b[38;5;124;43m'\u001b[39;49m\u001b[43m,\u001b[49m\u001b[43m \u001b[49m\u001b[43mlabel\u001b[49m\u001b[38;5;241;43m=\u001b[39;49m\u001b[38;5;124;43m'\u001b[39;49m\u001b[38;5;124;43m95\u001b[39;49m\u001b[38;5;132;43;01m% c\u001b[39;49;00m\u001b[38;5;124;43monf int\u001b[39;49m\u001b[38;5;124;43m'\u001b[39;49m\u001b[43m)\u001b[49m\n\u001b[0;32m      7\u001b[0m ax[\u001b[38;5;241m0\u001b[39m]\u001b[38;5;241m.\u001b[39mplot(_[\u001b[38;5;241m0\u001b[39m], linestyle\u001b[38;5;241m=\u001b[39m\u001b[38;5;124m'\u001b[39m\u001b[38;5;124mdashdot\u001b[39m\u001b[38;5;124m'\u001b[39m, linewidth\u001b[38;5;241m=\u001b[39m\u001b[38;5;241m1\u001b[39m, alpha\u001b[38;5;241m=\u001b[39m\u001b[38;5;241m.75\u001b[39m, color\u001b[38;5;241m=\u001b[39m\u001b[38;5;124m'\u001b[39m\u001b[38;5;124mblack\u001b[39m\u001b[38;5;124m'\u001b[39m)\n\u001b[0;32m      8\u001b[0m ax[\u001b[38;5;241m0\u001b[39m]\u001b[38;5;241m.\u001b[39mplot(_[\u001b[38;5;241m1\u001b[39m], linestyle\u001b[38;5;241m=\u001b[39m\u001b[38;5;124m'\u001b[39m\u001b[38;5;124mdashdot\u001b[39m\u001b[38;5;124m'\u001b[39m, linewidth\u001b[38;5;241m=\u001b[39m\u001b[38;5;241m1\u001b[39m, alpha\u001b[38;5;241m=\u001b[39m\u001b[38;5;241m.75\u001b[39m, color\u001b[38;5;241m=\u001b[39m\u001b[38;5;124m'\u001b[39m\u001b[38;5;124mblack\u001b[39m\u001b[38;5;124m'\u001b[39m)\n",
      "File \u001b[1;32m~\\Documents\\GIT\\bayes_filter\\env_bayes_filter\\lib\\site-packages\\matplotlib\\__init__.py:1423\u001b[0m, in \u001b[0;36m_preprocess_data.<locals>.inner\u001b[1;34m(ax, data, *args, **kwargs)\u001b[0m\n\u001b[0;32m   1420\u001b[0m \u001b[38;5;129m@functools\u001b[39m\u001b[38;5;241m.\u001b[39mwraps(func)\n\u001b[0;32m   1421\u001b[0m \u001b[38;5;28;01mdef\u001b[39;00m \u001b[38;5;21minner\u001b[39m(ax, \u001b[38;5;241m*\u001b[39margs, data\u001b[38;5;241m=\u001b[39m\u001b[38;5;28;01mNone\u001b[39;00m, \u001b[38;5;241m*\u001b[39m\u001b[38;5;241m*\u001b[39mkwargs):\n\u001b[0;32m   1422\u001b[0m     \u001b[38;5;28;01mif\u001b[39;00m data \u001b[38;5;129;01mis\u001b[39;00m \u001b[38;5;28;01mNone\u001b[39;00m:\n\u001b[1;32m-> 1423\u001b[0m         \u001b[38;5;28;01mreturn\u001b[39;00m func(ax, \u001b[38;5;241m*\u001b[39m\u001b[38;5;28mmap\u001b[39m(sanitize_sequence, args), \u001b[38;5;241m*\u001b[39m\u001b[38;5;241m*\u001b[39mkwargs)\n\u001b[0;32m   1425\u001b[0m     bound \u001b[38;5;241m=\u001b[39m new_sig\u001b[38;5;241m.\u001b[39mbind(ax, \u001b[38;5;241m*\u001b[39margs, \u001b[38;5;241m*\u001b[39m\u001b[38;5;241m*\u001b[39mkwargs)\n\u001b[0;32m   1426\u001b[0m     auto_label \u001b[38;5;241m=\u001b[39m (bound\u001b[38;5;241m.\u001b[39marguments\u001b[38;5;241m.\u001b[39mget(label_namer)\n\u001b[0;32m   1427\u001b[0m                   \u001b[38;5;129;01mor\u001b[39;00m bound\u001b[38;5;241m.\u001b[39mkwargs\u001b[38;5;241m.\u001b[39mget(label_namer))\n",
      "File \u001b[1;32m~\\Documents\\GIT\\bayes_filter\\env_bayes_filter\\lib\\site-packages\\matplotlib\\axes\\_axes.py:5367\u001b[0m, in \u001b[0;36mAxes.fill_between\u001b[1;34m(self, x, y1, y2, where, interpolate, step, **kwargs)\u001b[0m\n\u001b[0;32m   5365\u001b[0m \u001b[38;5;28;01mdef\u001b[39;00m \u001b[38;5;21mfill_between\u001b[39m(\u001b[38;5;28mself\u001b[39m, x, y1, y2\u001b[38;5;241m=\u001b[39m\u001b[38;5;241m0\u001b[39m, where\u001b[38;5;241m=\u001b[39m\u001b[38;5;28;01mNone\u001b[39;00m, interpolate\u001b[38;5;241m=\u001b[39m\u001b[38;5;28;01mFalse\u001b[39;00m,\n\u001b[0;32m   5366\u001b[0m                  step\u001b[38;5;241m=\u001b[39m\u001b[38;5;28;01mNone\u001b[39;00m, \u001b[38;5;241m*\u001b[39m\u001b[38;5;241m*\u001b[39mkwargs):\n\u001b[1;32m-> 5367\u001b[0m     \u001b[38;5;28;01mreturn\u001b[39;00m \u001b[38;5;28mself\u001b[39m\u001b[38;5;241m.\u001b[39m_fill_between_x_or_y(\n\u001b[0;32m   5368\u001b[0m         \u001b[38;5;124m\"\u001b[39m\u001b[38;5;124mx\u001b[39m\u001b[38;5;124m\"\u001b[39m, x, y1, y2,\n\u001b[0;32m   5369\u001b[0m         where\u001b[38;5;241m=\u001b[39mwhere, interpolate\u001b[38;5;241m=\u001b[39minterpolate, step\u001b[38;5;241m=\u001b[39mstep, \u001b[38;5;241m*\u001b[39m\u001b[38;5;241m*\u001b[39mkwargs)\n",
      "File \u001b[1;32m~\\Documents\\GIT\\bayes_filter\\env_bayes_filter\\lib\\site-packages\\matplotlib\\axes\\_axes.py:5279\u001b[0m, in \u001b[0;36mAxes._fill_between_x_or_y\u001b[1;34m(self, ind_dir, ind, dep1, dep2, where, interpolate, step, **kwargs)\u001b[0m\n\u001b[0;32m   5276\u001b[0m \u001b[38;5;28;01mfor\u001b[39;00m name, array \u001b[38;5;129;01min\u001b[39;00m [\n\u001b[0;32m   5277\u001b[0m         (ind_dir, ind), (\u001b[38;5;124mf\u001b[39m\u001b[38;5;124m\"\u001b[39m\u001b[38;5;132;01m{\u001b[39;00mdep_dir\u001b[38;5;132;01m}\u001b[39;00m\u001b[38;5;124m1\u001b[39m\u001b[38;5;124m\"\u001b[39m, dep1), (\u001b[38;5;124mf\u001b[39m\u001b[38;5;124m\"\u001b[39m\u001b[38;5;132;01m{\u001b[39;00mdep_dir\u001b[38;5;132;01m}\u001b[39;00m\u001b[38;5;124m2\u001b[39m\u001b[38;5;124m\"\u001b[39m, dep2)]:\n\u001b[0;32m   5278\u001b[0m     \u001b[38;5;28;01mif\u001b[39;00m array\u001b[38;5;241m.\u001b[39mndim \u001b[38;5;241m>\u001b[39m \u001b[38;5;241m1\u001b[39m:\n\u001b[1;32m-> 5279\u001b[0m         \u001b[38;5;28;01mraise\u001b[39;00m \u001b[38;5;167;01mValueError\u001b[39;00m(\u001b[38;5;124mf\u001b[39m\u001b[38;5;124m\"\u001b[39m\u001b[38;5;132;01m{\u001b[39;00mname\u001b[38;5;132;01m!r}\u001b[39;00m\u001b[38;5;124m is not 1-dimensional\u001b[39m\u001b[38;5;124m\"\u001b[39m)\n\u001b[0;32m   5281\u001b[0m \u001b[38;5;28;01mif\u001b[39;00m where \u001b[38;5;129;01mis\u001b[39;00m \u001b[38;5;28;01mNone\u001b[39;00m:\n\u001b[0;32m   5282\u001b[0m     where \u001b[38;5;241m=\u001b[39m \u001b[38;5;28;01mTrue\u001b[39;00m\n",
      "\u001b[1;31mValueError\u001b[0m: 'y1' is not 1-dimensional"
     ]
    },
    {
     "data": {
      "image/png": "[encoded data removed]",
      "text/plain": [
       "<Figure size 1500x1200 with 2 Axes>"
      ]
     },
     "metadata": {},
     "output_type": "display_data"
    }
   ],
   "source": [
    "fig, ax = plt.subplots(2, 1, figsize=(15, 12))\n",
    "ax[0].plot(track, label='true position', color='black', linestyle='dashed')\n",
    "ax[0].plot(zs, label='measurement', color='green', linewidth=0, marker='o')\n",
    "\n",
    "_ = get_confidence_interval(xf[0], covf[:,0,0])\n",
    "ax[0].fill_between(range(0, count), _[0], _[1], alpha=.2, color='yellow', label='95% conf int')\n",
    "ax[0].plot(_[0], linestyle='dashdot', linewidth=1, alpha=.75, color='black')\n",
    "ax[0].plot(_[1], linestyle='dashdot', linewidth=1, alpha=.75, color='black')\n",
    "\n",
    "ax[0].plot(xf[0], label='filter', color='red')\n",
    "# ax[0].plot(xb[1], label='filter prediction')\n",
    "ax[0].legend()\n",
    "\n",
    "ax[1].plot(covf[:, 0, 0], label='var position')\n",
    "# ax[1].plot(cov1[:, 1, 1], label='var velocity')\n",
    "ax[1].legend()\n",
    ";"
   ]
  },
  {
   "cell_type": "code",
   "execution_count": null,
   "id": "3e668509-f09a-47bf-807b-a6406dc090ad",
   "metadata": {},
   "outputs": [],
   "source": []
  },
  {
   "cell_type": "code",
   "execution_count": null,
   "id": "f6edf522-82eb-481b-9737-ab82dabe2061",
   "metadata": {},
   "outputs": [],
   "source": []
  }
 ],
 "metadata": {
  "kernelspec": {
   "display_name": "env_bayes_filter",
   "language": "python",
   "name": "env_bayes_filter"
  },
  "language_info": {
   "codemirror_mode": {
    "name": "ipython",
    "version": 3
   },
   "file_extension": ".py",
   "mimetype": "text/x-python",
   "name": "python",
   "nbconvert_exporter": "python",
   "pygments_lexer": "ipython3",
   "version": "3.9.4"
  }
 },
 "nbformat": 4,
 "nbformat_minor": 5
}
